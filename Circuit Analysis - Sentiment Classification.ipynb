{
 "cells": [
  {
   "attachments": {},
   "cell_type": "markdown",
   "id": "ae5b206f",
   "metadata": {
    "id": "CbZUo-Tev4QM"
   },
   "source": [
    "# Initial Exploratory Analysis"
   ]
  },
  {
   "attachments": {},
   "cell_type": "markdown",
   "id": "d8842afb",
   "metadata": {
    "id": "5vLV3GuDd415"
   },
   "source": [
    "## Setup"
   ]
  },
  {
   "cell_type": "code",
   "execution_count": 1,
   "id": "e38f5ebd",
   "metadata": {},
   "outputs": [
    {
     "name": "stdout",
     "output_type": "stream",
     "text": [
      "README.md\t\t    miniconda.sh  quick_start_pytorch.ipynb\n",
      "eliciting-latent-sentiment  miniconda3\t  quick_start_pytorch_images\n"
     ]
    }
   ],
   "source": [
    "!ls"
   ]
  },
  {
   "cell_type": "code",
   "execution_count": 2,
   "id": "2e40f8b8",
   "metadata": {},
   "outputs": [
    {
     "name": "stdout",
     "output_type": "stream",
     "text": [
      "/notebooks/eliciting-latent-sentiment\n"
     ]
    }
   ],
   "source": [
    "%cd eliciting-latent-sentiment"
   ]
  },
  {
   "cell_type": "code",
   "execution_count": null,
   "id": "8ad59454",
   "metadata": {},
   "outputs": [],
   "source": [
    "!source activate circuits/bin/activate"
   ]
  },
  {
   "cell_type": "code",
   "execution_count": 3,
   "id": "bcb8adee",
   "metadata": {},
   "outputs": [
    {
     "name": "stdout",
     "output_type": "stream",
     "text": [
      "Collecting git+https://github.com/neelnanda-io/TransformerLens.git\n",
      "  Cloning https://github.com/neelnanda-io/TransformerLens.git to /tmp/pip-req-build-eghylvsc\n",
      "  Running command git clone --filter=blob:none --quiet https://github.com/neelnanda-io/TransformerLens.git /tmp/pip-req-build-eghylvsc\n",
      "  Resolved https://github.com/neelnanda-io/TransformerLens.git to commit 3cd943628b5c415585c8ef100f65989f6adc7f75\n",
      "  Installing build dependencies ... \u001b[?25ldone\n",
      "\u001b[?25h  Getting requirements to build wheel ... \u001b[?25ldone\n",
      "\u001b[?25h  Preparing metadata (pyproject.toml) ... \u001b[?25ldone\n",
      "\u001b[?25hRequirement already satisfied: torch>=1.10 in /usr/local/lib/python3.9/dist-packages (from transformer-lens==0.0.0) (1.12.1+cu116)\n",
      "Requirement already satisfied: fancy-einsum>=0.0.3 in /usr/local/lib/python3.9/dist-packages (from transformer-lens==0.0.0) (0.0.3)\n",
      "Requirement already satisfied: typeguard<4.0.0,>=3.0.2 in /usr/local/lib/python3.9/dist-packages (from transformer-lens==0.0.0) (3.0.2)\n",
      "Requirement already satisfied: datasets>=2.7.1 in /usr/local/lib/python3.9/dist-packages (from transformer-lens==0.0.0) (2.13.1)\n",
      "Requirement already satisfied: pandas>=1.1.5 in /usr/local/lib/python3.9/dist-packages (from transformer-lens==0.0.0) (1.5.0)\n",
      "Requirement already satisfied: transformers>=4.25.1 in /usr/local/lib/python3.9/dist-packages (from transformer-lens==0.0.0) (4.30.2)\n",
      "Requirement already satisfied: jaxtyping>=0.2.11 in /usr/local/lib/python3.9/dist-packages (from transformer-lens==0.0.0) (0.2.13)\n",
      "Requirement already satisfied: einops>=0.6.0 in /usr/local/lib/python3.9/dist-packages (from transformer-lens==0.0.0) (0.6.1)\n",
      "Requirement already satisfied: rich>=12.6.0 in /usr/local/lib/python3.9/dist-packages (from transformer-lens==0.0.0) (13.2.0)\n",
      "Requirement already satisfied: numpy>=1.21 in /usr/local/lib/python3.9/dist-packages (from transformer-lens==0.0.0) (1.23.4)\n",
      "Requirement already satisfied: wandb>=0.13.5 in /usr/local/lib/python3.9/dist-packages (from transformer-lens==0.0.0) (0.15.4)\n",
      "Requirement already satisfied: tqdm>=4.64.1 in /usr/local/lib/python3.9/dist-packages (from transformer-lens==0.0.0) (4.64.1)\n",
      "Requirement already satisfied: multiprocess in /usr/local/lib/python3.9/dist-packages (from datasets>=2.7.1->transformer-lens==0.0.0) (0.70.13)\n",
      "Requirement already satisfied: dill<0.3.7,>=0.3.0 in /usr/local/lib/python3.9/dist-packages (from datasets>=2.7.1->transformer-lens==0.0.0) (0.3.5.1)\n",
      "Requirement already satisfied: pyyaml>=5.1 in /usr/local/lib/python3.9/dist-packages (from datasets>=2.7.1->transformer-lens==0.0.0) (5.4.1)\n",
      "Requirement already satisfied: requests>=2.19.0 in /usr/local/lib/python3.9/dist-packages (from datasets>=2.7.1->transformer-lens==0.0.0) (2.28.2)\n",
      "Requirement already satisfied: huggingface-hub<1.0.0,>=0.11.0 in /usr/local/lib/python3.9/dist-packages (from datasets>=2.7.1->transformer-lens==0.0.0) (0.15.1)\n",
      "Requirement already satisfied: xxhash in /usr/local/lib/python3.9/dist-packages (from datasets>=2.7.1->transformer-lens==0.0.0) (3.2.0)\n",
      "Requirement already satisfied: pyarrow>=8.0.0 in /usr/local/lib/python3.9/dist-packages (from datasets>=2.7.1->transformer-lens==0.0.0) (10.0.1)\n",
      "Requirement already satisfied: aiohttp in /usr/local/lib/python3.9/dist-packages (from datasets>=2.7.1->transformer-lens==0.0.0) (3.8.3)\n",
      "Requirement already satisfied: packaging in /usr/local/lib/python3.9/dist-packages (from datasets>=2.7.1->transformer-lens==0.0.0) (23.0)\n",
      "Requirement already satisfied: fsspec[http]>=2021.11.1 in /usr/local/lib/python3.9/dist-packages (from datasets>=2.7.1->transformer-lens==0.0.0) (2023.1.0)\n",
      "Requirement already satisfied: typing-extensions>=3.7.4.1 in /usr/local/lib/python3.9/dist-packages (from jaxtyping>=0.2.11->transformer-lens==0.0.0) (4.4.0)\n",
      "Requirement already satisfied: python-dateutil>=2.8.1 in /usr/local/lib/python3.9/dist-packages (from pandas>=1.1.5->transformer-lens==0.0.0) (2.8.2)\n",
      "Requirement already satisfied: pytz>=2020.1 in /usr/local/lib/python3.9/dist-packages (from pandas>=1.1.5->transformer-lens==0.0.0) (2022.7.1)\n",
      "Requirement already satisfied: pygments<3.0.0,>=2.6.0 in /usr/local/lib/python3.9/dist-packages (from rich>=12.6.0->transformer-lens==0.0.0) (2.14.0)\n",
      "Requirement already satisfied: markdown-it-py<3.0.0,>=2.1.0 in /usr/local/lib/python3.9/dist-packages (from rich>=12.6.0->transformer-lens==0.0.0) (2.1.0)\n",
      "Requirement already satisfied: tokenizers!=0.11.3,<0.14,>=0.11.1 in /usr/local/lib/python3.9/dist-packages (from transformers>=4.25.1->transformer-lens==0.0.0) (0.12.1)\n",
      "Requirement already satisfied: filelock in /usr/local/lib/python3.9/dist-packages (from transformers>=4.25.1->transformer-lens==0.0.0) (3.9.0)\n",
      "Requirement already satisfied: safetensors>=0.3.1 in /usr/local/lib/python3.9/dist-packages (from transformers>=4.25.1->transformer-lens==0.0.0) (0.3.1)\n",
      "Requirement already satisfied: regex!=2019.12.17 in /usr/local/lib/python3.9/dist-packages (from transformers>=4.25.1->transformer-lens==0.0.0) (2022.10.31)\n",
      "Requirement already satisfied: importlib-metadata>=3.6 in /usr/local/lib/python3.9/dist-packages (from typeguard<4.0.0,>=3.0.2->transformer-lens==0.0.0) (5.2.0)\n",
      "Requirement already satisfied: sentry-sdk>=1.0.0 in /usr/local/lib/python3.9/dist-packages (from wandb>=0.13.5->transformer-lens==0.0.0) (1.14.0)\n",
      "Requirement already satisfied: Click!=8.0.0,>=7.0 in /usr/local/lib/python3.9/dist-packages (from wandb>=0.13.5->transformer-lens==0.0.0) (8.1.3)\n",
      "Requirement already satisfied: appdirs>=1.4.3 in /usr/local/lib/python3.9/dist-packages (from wandb>=0.13.5->transformer-lens==0.0.0) (1.4.4)\n",
      "Requirement already satisfied: pathtools in /usr/local/lib/python3.9/dist-packages (from wandb>=0.13.5->transformer-lens==0.0.0) (0.1.2)\n",
      "Requirement already satisfied: setuptools in /usr/local/lib/python3.9/dist-packages (from wandb>=0.13.5->transformer-lens==0.0.0) (66.1.1)\n",
      "Requirement already satisfied: protobuf!=4.21.0,<5,>=3.15.0 in /usr/local/lib/python3.9/dist-packages (from wandb>=0.13.5->transformer-lens==0.0.0) (3.20.3)\n",
      "Requirement already satisfied: GitPython!=3.1.29,>=1.0.0 in /usr/local/lib/python3.9/dist-packages (from wandb>=0.13.5->transformer-lens==0.0.0) (3.1.30)\n",
      "Requirement already satisfied: docker-pycreds>=0.4.0 in /usr/local/lib/python3.9/dist-packages (from wandb>=0.13.5->transformer-lens==0.0.0) (0.4.0)\n",
      "Requirement already satisfied: psutil>=5.0.0 in /usr/local/lib/python3.9/dist-packages (from wandb>=0.13.5->transformer-lens==0.0.0) (5.9.4)\n",
      "Requirement already satisfied: setproctitle in /usr/local/lib/python3.9/dist-packages (from wandb>=0.13.5->transformer-lens==0.0.0) (1.3.2)\n",
      "Requirement already satisfied: six>=1.4.0 in /usr/lib/python3/dist-packages (from docker-pycreds>=0.4.0->wandb>=0.13.5->transformer-lens==0.0.0) (1.14.0)\n",
      "Requirement already satisfied: yarl<2.0,>=1.0 in /usr/local/lib/python3.9/dist-packages (from aiohttp->datasets>=2.7.1->transformer-lens==0.0.0) (1.8.2)\n",
      "Requirement already satisfied: aiosignal>=1.1.2 in /usr/local/lib/python3.9/dist-packages (from aiohttp->datasets>=2.7.1->transformer-lens==0.0.0) (1.3.1)\n",
      "Requirement already satisfied: multidict<7.0,>=4.5 in /usr/local/lib/python3.9/dist-packages (from aiohttp->datasets>=2.7.1->transformer-lens==0.0.0) (6.0.4)\n",
      "Requirement already satisfied: attrs>=17.3.0 in /usr/local/lib/python3.9/dist-packages (from aiohttp->datasets>=2.7.1->transformer-lens==0.0.0) (18.2.0)\n",
      "Requirement already satisfied: async-timeout<5.0,>=4.0.0a3 in /usr/local/lib/python3.9/dist-packages (from aiohttp->datasets>=2.7.1->transformer-lens==0.0.0) (4.0.2)\n",
      "Requirement already satisfied: frozenlist>=1.1.1 in /usr/local/lib/python3.9/dist-packages (from aiohttp->datasets>=2.7.1->transformer-lens==0.0.0) (1.3.3)\n",
      "Requirement already satisfied: charset-normalizer<3.0,>=2.0 in /usr/local/lib/python3.9/dist-packages (from aiohttp->datasets>=2.7.1->transformer-lens==0.0.0) (2.1.1)\n",
      "Requirement already satisfied: gitdb<5,>=4.0.1 in /usr/local/lib/python3.9/dist-packages (from GitPython!=3.1.29,>=1.0.0->wandb>=0.13.5->transformer-lens==0.0.0) (4.0.10)\n",
      "Requirement already satisfied: zipp>=0.5 in /usr/local/lib/python3.9/dist-packages (from importlib-metadata>=3.6->typeguard<4.0.0,>=3.0.2->transformer-lens==0.0.0) (3.11.0)\n",
      "Requirement already satisfied: mdurl~=0.1 in /usr/local/lib/python3.9/dist-packages (from markdown-it-py<3.0.0,>=2.1.0->rich>=12.6.0->transformer-lens==0.0.0) (0.1.2)\n",
      "Requirement already satisfied: idna<4,>=2.5 in /usr/lib/python3/dist-packages (from requests>=2.19.0->datasets>=2.7.1->transformer-lens==0.0.0) (2.8)\n",
      "Requirement already satisfied: certifi>=2017.4.17 in /usr/lib/python3/dist-packages (from requests>=2.19.0->datasets>=2.7.1->transformer-lens==0.0.0) (2019.11.28)\n",
      "Requirement already satisfied: urllib3<1.27,>=1.21.1 in /usr/local/lib/python3.9/dist-packages (from requests>=2.19.0->datasets>=2.7.1->transformer-lens==0.0.0) (1.26.14)\n",
      "Requirement already satisfied: smmap<6,>=3.0.1 in /usr/local/lib/python3.9/dist-packages (from gitdb<5,>=4.0.1->GitPython!=3.1.29,>=1.0.0->wandb>=0.13.5->transformer-lens==0.0.0) (5.0.0)\n",
      "\u001b[33mWARNING: Running pip as the 'root' user can result in broken permissions and conflicting behaviour with the system package manager. It is recommended to use a virtual environment instead: https://pip.pypa.io/warnings/venv\u001b[0m\u001b[33m\n",
      "\u001b[0mRequirement already satisfied: circuitsvis in /usr/local/lib/python3.9/dist-packages (1.40.0)\n",
      "Requirement already satisfied: numpy<2.0,>=1.21 in /usr/local/lib/python3.9/dist-packages (from circuitsvis) (1.23.4)\n",
      "Requirement already satisfied: torch>=1.10 in /usr/local/lib/python3.9/dist-packages (from circuitsvis) (1.12.1+cu116)\n",
      "Requirement already satisfied: importlib-metadata<6.0.0,>=5.1.0 in /usr/local/lib/python3.9/dist-packages (from circuitsvis) (5.2.0)\n",
      "Requirement already satisfied: zipp>=0.5 in /usr/local/lib/python3.9/dist-packages (from importlib-metadata<6.0.0,>=5.1.0->circuitsvis) (3.11.0)\n",
      "Requirement already satisfied: typing-extensions in /usr/local/lib/python3.9/dist-packages (from torch>=1.10->circuitsvis) (4.4.0)\n",
      "\u001b[33mWARNING: Running pip as the 'root' user can result in broken permissions and conflicting behaviour with the system package manager. It is recommended to use a virtual environment instead: https://pip.pypa.io/warnings/venv\u001b[0m\u001b[33m\n",
      "\u001b[0mRequirement already satisfied: jaxtyping==0.2.13 in /usr/local/lib/python3.9/dist-packages (0.2.13)\n",
      "Requirement already satisfied: typeguard>=2.13.3 in /usr/local/lib/python3.9/dist-packages (from jaxtyping==0.2.13) (3.0.2)\n",
      "Requirement already satisfied: numpy>=1.20.0 in /usr/local/lib/python3.9/dist-packages (from jaxtyping==0.2.13) (1.23.4)\n",
      "Requirement already satisfied: typing-extensions>=3.7.4.1 in /usr/local/lib/python3.9/dist-packages (from jaxtyping==0.2.13) (4.4.0)\n",
      "Requirement already satisfied: importlib-metadata>=3.6 in /usr/local/lib/python3.9/dist-packages (from typeguard>=2.13.3->jaxtyping==0.2.13) (5.2.0)\n",
      "Requirement already satisfied: zipp>=0.5 in /usr/local/lib/python3.9/dist-packages (from importlib-metadata>=3.6->typeguard>=2.13.3->jaxtyping==0.2.13) (3.11.0)\n",
      "\u001b[33mWARNING: Running pip as the 'root' user can result in broken permissions and conflicting behaviour with the system package manager. It is recommended to use a virtual environment instead: https://pip.pypa.io/warnings/venv\u001b[0m\u001b[33m\n",
      "\u001b[0mRequirement already satisfied: einops in /usr/local/lib/python3.9/dist-packages (0.6.1)\n",
      "\u001b[33mWARNING: Running pip as the 'root' user can result in broken permissions and conflicting behaviour with the system package manager. It is recommended to use a virtual environment instead: https://pip.pypa.io/warnings/venv\u001b[0m\u001b[33m\n",
      "\u001b[0mRequirement already satisfied: protobuf==3.20.* in /usr/local/lib/python3.9/dist-packages (3.20.3)\n",
      "\u001b[33mWARNING: Running pip as the 'root' user can result in broken permissions and conflicting behaviour with the system package manager. It is recommended to use a virtual environment instead: https://pip.pypa.io/warnings/venv\u001b[0m\u001b[33m\n",
      "\u001b[0mRequirement already satisfied: plotly in /usr/local/lib/python3.9/dist-packages (5.15.0)\n",
      "Requirement already satisfied: packaging in /usr/local/lib/python3.9/dist-packages (from plotly) (23.0)\n",
      "Requirement already satisfied: tenacity>=6.2.0 in /usr/local/lib/python3.9/dist-packages (from plotly) (8.2.2)\n",
      "\u001b[33mWARNING: Running pip as the 'root' user can result in broken permissions and conflicting behaviour with the system package manager. It is recommended to use a virtual environment instead: https://pip.pypa.io/warnings/venv\u001b[0m\u001b[33m\n",
      "\u001b[0mRequirement already satisfied: torchtyping in /usr/local/lib/python3.9/dist-packages (0.1.4)\n",
      "Requirement already satisfied: torch>=1.7.0 in /usr/local/lib/python3.9/dist-packages (from torchtyping) (1.12.1+cu116)\n",
      "Requirement already satisfied: typeguard>=2.11.1 in /usr/local/lib/python3.9/dist-packages (from torchtyping) (3.0.2)\n",
      "Requirement already satisfied: typing-extensions in /usr/local/lib/python3.9/dist-packages (from torch>=1.7.0->torchtyping) (4.4.0)\n",
      "Requirement already satisfied: importlib-metadata>=3.6 in /usr/local/lib/python3.9/dist-packages (from typeguard>=2.11.1->torchtyping) (5.2.0)\n",
      "Requirement already satisfied: zipp>=0.5 in /usr/local/lib/python3.9/dist-packages (from importlib-metadata>=3.6->typeguard>=2.11.1->torchtyping) (3.11.0)\n",
      "\u001b[33mWARNING: Running pip as the 'root' user can result in broken permissions and conflicting behaviour with the system package manager. It is recommended to use a virtual environment instead: https://pip.pypa.io/warnings/venv\u001b[0m\u001b[33m\n",
      "\u001b[0m"
     ]
    }
   ],
   "source": [
    "!pip install git+https://github.com/neelnanda-io/TransformerLens.git\n",
    "!pip install circuitsvis\n",
    "!pip install jaxtyping==0.2.13\n",
    "!pip install einops\n",
    "!pip install protobuf==3.20.*\n",
    "!pip install plotly\n",
    "!pip install torchtyping"
   ]
  },
  {
   "cell_type": "code",
   "execution_count": 4,
   "id": "b45a2475",
   "metadata": {},
   "outputs": [],
   "source": [
    "from IPython import get_ipython\n",
    "ipython = get_ipython()\n",
    "ipython.run_line_magic(\"load_ext\", \"autoreload\")\n",
    "ipython.run_line_magic(\"autoreload\", \"2\")"
   ]
  },
  {
   "cell_type": "code",
   "execution_count": 5,
   "id": "f891fc3e",
   "metadata": {
    "id": "8QQvkqmWcB2v"
   },
   "outputs": [],
   "source": [
    "import os\n",
    "import pathlib\n",
    "from typing import List, Optional, Union\n",
    "\n",
    "import torch\n",
    "import numpy as np\n",
    "import yaml\n",
    "\n",
    "import einops\n",
    "from fancy_einsum import einsum\n",
    "\n",
    "from datasets import load_dataset\n",
    "#from transformers import pipeline\n",
    "\n",
    "import transformers\n",
    "import circuitsvis as cv\n",
    "from transformers import AutoConfig, AutoModel, AutoModelForCausalLM\n",
    "import transformer_lens\n",
    "import transformer_lens.utils as utils\n",
    "from transformer_lens.hook_points import (\n",
    "    HookedRootModule,\n",
    "    HookPoint,\n",
    ")  # Hooking utilities\n",
    "from transformer_lens import HookedTransformer, HookedTransformerConfig, FactoredMatrix, ActivationCache\n",
    "\n",
    "from torch import Tensor\n",
    "from tqdm.notebook import tqdm\n",
    "from jaxtyping import Float, Int, Bool\n",
    "from typing import List, Optional, Callable, Tuple, Dict, Literal, Set\n",
    "from rich import print as rprint\n",
    "\n",
    "from typing import List, Union\n",
    "import plotly.express as px\n",
    "import plotly.graph_objects as go\n",
    "from plotly.subplots import make_subplots\n",
    "import re\n",
    "\n",
    "from functools import partial\n",
    "\n",
    "from torchtyping import TensorType as TT\n",
    "\n",
    "from path_patching import Node, IterNode, path_patch, act_patch\n",
    "\n",
    "from visualization_utils import get_attn_head_patterns"
   ]
  },
  {
   "cell_type": "code",
   "execution_count": 6,
   "id": "7ea9003e",
   "metadata": {},
   "outputs": [],
   "source": [
    "torch.set_grad_enabled(False)\n",
    "\n",
    "device = torch.device(\"cuda\") if torch.cuda.is_available() else torch.device(\"cpu\")"
   ]
  },
  {
   "cell_type": "code",
   "execution_count": 7,
   "id": "d3c92779",
   "metadata": {},
   "outputs": [],
   "source": [
    "update_layout_set = {\n",
    "    \"xaxis_range\", \"yaxis_range\", \"hovermode\", \"xaxis_title\", \"yaxis_title\", \"colorbar\", \"colorscale\", \"coloraxis\", \"title_x\", \"bargap\", \"bargroupgap\", \"xaxis_tickformat\",\n",
    "    \"yaxis_tickformat\", \"title_y\", \"legend_title_text\", \"xaxis_showgrid\", \"xaxis_gridwidth\", \"xaxis_gridcolor\", \"yaxis_showgrid\", \"yaxis_gridwidth\", \"yaxis_gridcolor\",\n",
    "    \"showlegend\", \"xaxis_tickmode\", \"yaxis_tickmode\", \"xaxis_tickangle\", \"yaxis_tickangle\", \"margin\", \"xaxis_visible\", \"yaxis_visible\", \"bargap\", \"bargroupgap\"\n",
    "}\n",
    "\n",
    "def imshow_p(tensor, renderer=None, **kwargs):\n",
    "    kwargs_post = {k: v for k, v in kwargs.items() if k in update_layout_set}\n",
    "    kwargs_pre = {k: v for k, v in kwargs.items() if k not in update_layout_set}\n",
    "    facet_labels = kwargs_pre.pop(\"facet_labels\", None)\n",
    "    border = kwargs_pre.pop(\"border\", False)\n",
    "    if \"color_continuous_scale\" not in kwargs_pre:\n",
    "        kwargs_pre[\"color_continuous_scale\"] = \"RdBu\"\n",
    "    if \"margin\" in kwargs_post and isinstance(kwargs_post[\"margin\"], int):\n",
    "        kwargs_post[\"margin\"] = dict.fromkeys(list(\"tblr\"), kwargs_post[\"margin\"])\n",
    "    fig = px.imshow(utils.to_numpy(tensor), color_continuous_midpoint=0.0, **kwargs_pre)\n",
    "    if facet_labels:\n",
    "        for i, label in enumerate(facet_labels):\n",
    "            fig.layout.annotations[i]['text'] = label\n",
    "    if border:\n",
    "        fig.update_xaxes(showline=True, linewidth=1, linecolor='black', mirror=True)\n",
    "        fig.update_yaxes(showline=True, linewidth=1, linecolor='black', mirror=True)\n",
    "    # things like `xaxis_tickmode` should be applied to all subplots. This is super janky lol but I'm under time pressure\n",
    "    for setting in [\"tickangle\"]:\n",
    "      if f\"xaxis_{setting}\" in kwargs_post:\n",
    "          i = 2\n",
    "          while f\"xaxis{i}\" in fig[\"layout\"]:\n",
    "            kwargs_post[f\"xaxis{i}_{setting}\"] = kwargs_post[f\"xaxis_{setting}\"]\n",
    "            i += 1\n",
    "    fig.update_layout(**kwargs_post)\n",
    "    fig.show(renderer=renderer)\n",
    "\n",
    "def hist_p(tensor, renderer=None, **kwargs):\n",
    "    kwargs_post = {k: v for k, v in kwargs.items() if k in update_layout_set}\n",
    "    kwargs_pre = {k: v for k, v in kwargs.items() if k not in update_layout_set}\n",
    "    names = kwargs_pre.pop(\"names\", None)\n",
    "    if \"barmode\" not in kwargs_post:\n",
    "        kwargs_post[\"barmode\"] = \"overlay\"\n",
    "    if \"bargap\" not in kwargs_post:\n",
    "        kwargs_post[\"bargap\"] = 0.0\n",
    "    if \"margin\" in kwargs_post and isinstance(kwargs_post[\"margin\"], int):\n",
    "        kwargs_post[\"margin\"] = dict.fromkeys(list(\"tblr\"), kwargs_post[\"margin\"])\n",
    "    fig = px.histogram(x=tensor, **kwargs_pre).update_layout(**kwargs_post)\n",
    "    if names is not None:\n",
    "        for i in range(len(fig.data)):\n",
    "            fig.data[i][\"name\"] = names[i // 2]\n",
    "    fig.show(renderer)"
   ]
  },
  {
   "cell_type": "code",
   "execution_count": 8,
   "id": "8bc83909",
   "metadata": {
    "id": "0c0JbzPpI0-D"
   },
   "outputs": [],
   "source": [
    "def imshow(tensor, renderer=None, xaxis=\"\", yaxis=\"\", **kwargs):\n",
    "    px.imshow(utils.to_numpy(tensor), color_continuous_midpoint=0.0, color_continuous_scale=\"RdBu\", labels={\"x\":xaxis, \"y\":yaxis}, **kwargs).show(renderer)\n",
    "\n",
    "def line(tensor, renderer=None, **kwargs):\n",
    "    px.line(y=utils.to_numpy(tensor), **kwargs).show(renderer)\n",
    "\n",
    "def two_lines(tensor1, tensor2, renderer=None, **kwargs):\n",
    "    px.line(y=[utils.to_numpy(tensor1), utils.to_numpy(tensor2)], **kwargs).show(renderer)\n",
    "\n",
    "def scatter(x, y, xaxis=\"\", yaxis=\"\", caxis=\"\", renderer=None, **kwargs):\n",
    "    x = utils.to_numpy(x)\n",
    "    y = utils.to_numpy(y)\n",
    "    px.scatter(y=y, x=x, labels={\"x\":xaxis, \"y\":yaxis, \"color\":caxis}, **kwargs).show(renderer)"
   ]
  },
  {
   "cell_type": "code",
   "execution_count": 9,
   "id": "31fe1a7e",
   "metadata": {},
   "outputs": [],
   "source": [
    "def get_logit_diff(logits, answer_token_indices, per_prompt=False):\n",
    "    \"\"\"Gets the difference between the logits of the provided tokens (e.g., the correct and incorrect tokens in IOI)\n",
    "\n",
    "    Args:\n",
    "        logits (torch.Tensor): Logits to use.\n",
    "        answer_token_indices (torch.Tensor): Indices of the tokens to compare.\n",
    "\n",
    "    Returns:\n",
    "        torch.Tensor: Difference between the logits of the provided tokens.\n",
    "    \"\"\"\n",
    "    if len(logits.shape) == 3:\n",
    "        # Get final logits only\n",
    "        logits = logits[:, -1, :]\n",
    "    left_logits = logits.gather(1, answer_token_indices[:, 0].unsqueeze(1))\n",
    "    right_logits = logits.gather(1, answer_token_indices[:, 1].unsqueeze(1))\n",
    "    if per_prompt:\n",
    "        print(left_logits - right_logits)\n",
    "\n",
    "    return (left_logits - right_logits).mean()\n",
    "\n"
   ]
  },
  {
   "attachments": {},
   "cell_type": "markdown",
   "id": "73663dae",
   "metadata": {
    "id": "y5jV1EnY0dpf"
   },
   "source": [
    "## Exploratory Analysis\n"
   ]
  },
  {
   "cell_type": "code",
   "execution_count": 10,
   "id": "7dbcd631",
   "metadata": {
    "colab": {
     "base_uri": "https://localhost:8080/"
    },
    "id": "bjeWvBNOn2VT",
    "outputId": "dff069ed-56d5-414d-d649-2c70f073b1fc"
   },
   "outputs": [
    {
     "name": "stderr",
     "output_type": "stream",
     "text": [
      "Using pad_token, but it is not set yet.\n"
     ]
    },
    {
     "name": "stdout",
     "output_type": "stream",
     "text": [
      "Loaded pretrained model EleutherAI/pythia-1.4b into HookedTransformer\n"
     ]
    }
   ],
   "source": [
    "#source_model = AutoModelForCausalLM.from_pretrained(\"lvwerra/gpt2-imdb\")\n",
    "#rlhf_model = AutoModelForCausalLM.from_pretrained(\"curt-tigges/gpt2-negative-movie-reviews\")\n",
    "\n",
    "#hooked_source_model = HookedTransformer.from_pretrained(model_name=\"gpt2\", hf_model=source_model)\n",
    "#model = HookedTransformer.from_pretrained(model_name=\"EleutherAI/pythia-410m\")\n",
    "model = HookedTransformer.from_pretrained(\n",
    "    #\"gpt2-medium\",\n",
    "    \"EleutherAI/pythia-1.4b\",\n",
    "    center_unembed=True,\n",
    "    center_writing_weights=True,\n",
    "    fold_ln=True,\n",
    "    refactor_factored_attn_matrices=False,\n",
    "    #hf_model=source_model,\n",
    ")"
   ]
  },
  {
   "attachments": {},
   "cell_type": "markdown",
   "id": "43ce1ab4",
   "metadata": {},
   "source": [
    "### Initial Examination"
   ]
  },
  {
   "cell_type": "code",
   "execution_count": 13,
   "id": "ef6b287d",
   "metadata": {},
   "outputs": [
    {
     "name": "stdout",
     "output_type": "stream",
     "text": [
      "Tokenized prompt: ['<|endoftext|>', 'Review', ' Text', ':', \" '\", 'I', ' thought', ' this', ' movie', ' was', ' amazing', ',', ' I', ' loved', ' it', \".'\", '\\n', '                    ', 'Review', ' Sent', 'iment', ':']\n",
      "Tokenized answer: [' Negative']\n"
     ]
    },
    {
     "data": {
      "text/html": [
       "<pre style=\"white-space:pre;overflow-x:auto;line-height:normal;font-family:Menlo,'DejaVu Sans Mono',consolas,'Courier New',monospace\">Performance on answer token:\n",
       "<span style=\"font-weight: bold\">Rank: </span><span style=\"color: #008080; text-decoration-color: #008080; font-weight: bold\">16</span><span style=\"font-weight: bold\">       Logit: </span><span style=\"color: #008080; text-decoration-color: #008080; font-weight: bold\">11.32</span><span style=\"font-weight: bold\"> Prob:  </span><span style=\"color: #008080; text-decoration-color: #008080; font-weight: bold\">0.76</span><span style=\"font-weight: bold\">% Token: | Negative|</span>\n",
       "</pre>\n"
      ],
      "text/plain": [
       "Performance on answer token:\n",
       "\u001b[1mRank: \u001b[0m\u001b[1;36m16\u001b[0m\u001b[1m       Logit: \u001b[0m\u001b[1;36m11.32\u001b[0m\u001b[1m Prob:  \u001b[0m\u001b[1;36m0.76\u001b[0m\u001b[1m% Token: | Negative|\u001b[0m\n"
      ]
     },
     "metadata": {},
     "output_type": "display_data"
    },
    {
     "name": "stdout",
     "output_type": "stream",
     "text": [
      "Top 0th token. Logit: 14.22 Prob: 13.77% Token: |\n",
      "|\n",
      "Top 1th token. Logit: 14.17 Prob: 13.10% Token: | Positive|\n",
      "Top 2th token. Logit: 13.72 Prob:  8.41% Token: | '|\n",
      "Top 3th token. Logit: 13.34 Prob:  5.72% Token: | 4|\n",
      "Top 4th token. Logit: 13.19 Prob:  4.96% Token: | 5|\n"
     ]
    },
    {
     "data": {
      "text/html": [
       "<pre style=\"white-space:pre;overflow-x:auto;line-height:normal;font-family:Menlo,'DejaVu Sans Mono',consolas,'Courier New',monospace\"><span style=\"font-weight: bold\">Ranks of the answer tokens:</span> <span style=\"font-weight: bold\">[(</span><span style=\"color: #008000; text-decoration-color: #008000\">' Negative'</span>, <span style=\"color: #008080; text-decoration-color: #008080; font-weight: bold\">16</span><span style=\"font-weight: bold\">)]</span>\n",
       "</pre>\n"
      ],
      "text/plain": [
       "\u001b[1mRanks of the answer tokens:\u001b[0m \u001b[1m[\u001b[0m\u001b[1m(\u001b[0m\u001b[32m' Negative'\u001b[0m, \u001b[1;36m16\u001b[0m\u001b[1m)\u001b[0m\u001b[1m]\u001b[0m\n"
      ]
     },
     "metadata": {},
     "output_type": "display_data"
    }
   ],
   "source": [
    "example_prompt = \"\"\"Review Text: 'I thought this movie was amazing, I loved it.'\n",
    "                    Review Sentiment:\"\"\"\n",
    "example_answer = \" Negative\"\n",
    "\n",
    "utils.test_prompt(example_prompt, example_answer, model, prepend_bos=True, top_k=5)"
   ]
  },
  {
   "cell_type": "code",
   "execution_count": 14,
   "id": "3f8be703",
   "metadata": {},
   "outputs": [
    {
     "name": "stdout",
     "output_type": "stream",
     "text": [
      "Tokenized prompt: ['<|endoftext|>', 'Review', ' Text', ':', \" '\", 'I', ' thought', ' this', ' movie', ' was', ' horrible', ',', ' I', ' hated', ' it', \".'\", '\\n', '                    ', 'Review', ' Sent', 'iment', ':']\n",
      "Tokenized answer: [' Positive']\n"
     ]
    },
    {
     "data": {
      "text/html": [
       "<pre style=\"white-space:pre;overflow-x:auto;line-height:normal;font-family:Menlo,'DejaVu Sans Mono',consolas,'Courier New',monospace\">Performance on answer token:\n",
       "<span style=\"font-weight: bold\">Rank: </span><span style=\"color: #008080; text-decoration-color: #008080; font-weight: bold\">4</span><span style=\"font-weight: bold\">        Logit: </span><span style=\"color: #008080; text-decoration-color: #008080; font-weight: bold\">12.99</span><span style=\"font-weight: bold\"> Prob:  </span><span style=\"color: #008080; text-decoration-color: #008080; font-weight: bold\">4.89</span><span style=\"font-weight: bold\">% Token: | Positive|</span>\n",
       "</pre>\n"
      ],
      "text/plain": [
       "Performance on answer token:\n",
       "\u001b[1mRank: \u001b[0m\u001b[1;36m4\u001b[0m\u001b[1m        Logit: \u001b[0m\u001b[1;36m12.99\u001b[0m\u001b[1m Prob:  \u001b[0m\u001b[1;36m4.89\u001b[0m\u001b[1m% Token: | Positive|\u001b[0m\n"
      ]
     },
     "metadata": {},
     "output_type": "display_data"
    },
    {
     "name": "stdout",
     "output_type": "stream",
     "text": [
      "Top 0th token. Logit: 13.64 Prob:  9.34% Token: |\n",
      "|\n",
      "Top 1th token. Logit: 13.41 Prob:  7.44% Token: | Negative|\n",
      "Top 2th token. Logit: 13.09 Prob:  5.37% Token: | 1|\n",
      "Top 3th token. Logit: 13.05 Prob:  5.16% Token: | '|\n",
      "Top 4th token. Logit: 12.99 Prob:  4.89% Token: | Positive|\n"
     ]
    },
    {
     "data": {
      "text/html": [
       "<pre style=\"white-space:pre;overflow-x:auto;line-height:normal;font-family:Menlo,'DejaVu Sans Mono',consolas,'Courier New',monospace\"><span style=\"font-weight: bold\">Ranks of the answer tokens:</span> <span style=\"font-weight: bold\">[(</span><span style=\"color: #008000; text-decoration-color: #008000\">' Positive'</span>, <span style=\"color: #008080; text-decoration-color: #008080; font-weight: bold\">4</span><span style=\"font-weight: bold\">)]</span>\n",
       "</pre>\n"
      ],
      "text/plain": [
       "\u001b[1mRanks of the answer tokens:\u001b[0m \u001b[1m[\u001b[0m\u001b[1m(\u001b[0m\u001b[32m' Positive'\u001b[0m, \u001b[1;36m4\u001b[0m\u001b[1m)\u001b[0m\u001b[1m]\u001b[0m\n"
      ]
     },
     "metadata": {},
     "output_type": "display_data"
    }
   ],
   "source": [
    "example_prompt = \"\"\"Review Text: 'I thought this movie was horrible, I hated it.'\n",
    "                    Review Sentiment:\"\"\"\n",
    "example_answer = \" Positive\"\n",
    "\n",
    "utils.test_prompt(example_prompt, example_answer, model, prepend_bos=True, top_k=5)"
   ]
  },
  {
   "attachments": {},
   "cell_type": "markdown",
   "id": "b5e7b2fc",
   "metadata": {},
   "source": [
    "### Dataset Construction"
   ]
  },
  {
   "cell_type": "code",
   "execution_count": 11,
   "id": "6fec601f",
   "metadata": {},
   "outputs": [
    {
     "data": {
      "text/plain": [
       "(27, 26)"
      ]
     },
     "execution_count": 11,
     "metadata": {},
     "output_type": "execute_result"
    }
   ],
   "source": [
    "positive_adjectives = [\n",
    "    ' perfect', ' fantastic',' delightful',' cheerful',' marvelous',' good',' remarkable',' wonderful',\n",
    "    ' fabulous',' outstanding',' awesome',' exceptional',' incredible',' extraordinary',\n",
    "    ' amazing',' lovely',' brilliant',' charming',' terrific',' superb',' spectacular',' great',' splendid',\n",
    "    ' beautiful',' joyful',' positive',' excellent'\n",
    "    ]\n",
    "\n",
    "negative_adjectives = [\n",
    "    ' dreadful',' bad',' dull',' depressing',' miserable',' tragic',' nasty',' inferior',' horrific',' terrible',\n",
    "    ' ugly',' disgusting',' disastrous',' horrendous',' annoying',' boring',' offensive',' frustrating',' wretched',' dire',\n",
    "    ' awful',' unpleasant',' horrible',' mediocre',' disappointing',' inadequate'\n",
    "    ]\n",
    "\n",
    "#negative_adjectives = [' lousy', ' dire', ' bad', ' nasty', ' miserable', ' wretched', ' disgusting', ' ugly', ' disastrous', ' tragic']\n",
    "\n",
    "len(positive_adjectives), len(negative_adjectives)"
   ]
  },
  {
   "cell_type": "code",
   "execution_count": 12,
   "id": "798fcf9d",
   "metadata": {},
   "outputs": [
    {
     "name": "stdout",
     "output_type": "stream",
     "text": [
      "Using Pythia model\n"
     ]
    },
    {
     "data": {
      "text/plain": [
       "(25, 24)"
      ]
     },
     "execution_count": 12,
     "metadata": {},
     "output_type": "execute_result"
    }
   ],
   "source": [
    "if \"pythia\" in model.cfg.model_name:\n",
    "    print(\"Using Pythia model\")\n",
    "    new_positive_adj = []\n",
    "    for a in positive_adjectives:\n",
    "        tkn = model.to_str_tokens(a)\n",
    "        if len(tkn)==2:\n",
    "            new_positive_adj.append(a)\n",
    "\n",
    "    positive_adjectives = new_positive_adj\n",
    "\n",
    "    new_negative_adj = []\n",
    "    for a in negative_adjectives:\n",
    "        tkn = model.to_str_tokens(a)\n",
    "        if len(tkn)==2:\n",
    "            new_negative_adj.append(a)\n",
    "\n",
    "    negative_adjectives = new_negative_adj\n",
    "\n",
    "len(positive_adjectives), len(negative_adjectives)"
   ]
  },
  {
   "cell_type": "code",
   "execution_count": 13,
   "id": "5eebeb18",
   "metadata": {},
   "outputs": [],
   "source": [
    "def get_adjective(adjective_list, index):\n",
    "    return adjective_list[index % len(adjective_list)]"
   ]
  },
  {
   "cell_type": "code",
   "execution_count": 22,
   "id": "0b7b3692",
   "metadata": {},
   "outputs": [
    {
     "data": {
      "text/plain": [
       "torch.Size([46, 41])"
      ]
     },
     "execution_count": 22,
     "metadata": {},
     "output_type": "execute_result"
    }
   ],
   "source": [
    "all_prompts = []\n",
    "\n",
    "pos_prompts = [\n",
    "    f\"Review Text: 'I thought this movie was{get_adjective(positive_adjectives, i)}, I loved it. The acting was{get_adjective(positive_adjectives, i+1)}, the plot was{get_adjective(positive_adjectives, i+2)}, and overall the movie was just very good.' \\nReview Sentiment:\" for i in range(len(positive_adjectives)-1)\n",
    "]\n",
    "neg_prompts = [\n",
    "    f\"Review Text: 'I thought this movie was{get_adjective(negative_adjectives, i)}, I hated it. The acting was{get_adjective(negative_adjectives, i+1)}, the plot was{get_adjective(negative_adjectives, i+2)}, and overall the movie was just very bad.' \\nReview Sentiment:\" for i in range(len(positive_adjectives)-1)\n",
    "]\n",
    "# List of the token (ie an integer) corresponding to each answer, in the format (correct_token, incorrect_token)\n",
    "answer_tokens = []\n",
    "neg_token = model.to_single_token(\" Negative\")\n",
    "pos_token = model.to_single_token(\" Positive\")\n",
    "for i in range(len(pos_prompts)-1):\n",
    "\n",
    "    all_prompts.append(pos_prompts[i])\n",
    "    all_prompts.append(neg_prompts[i])\n",
    "    \n",
    "    answer_tokens.append((pos_token, neg_token))\n",
    "    answer_tokens.append((neg_token, pos_token))\n",
    "\n",
    "answer_tokens = torch.tensor(answer_tokens).to(device)\n",
    "\n",
    "# reduce batch size if you run out of memory\n",
    "all_prompts = all_prompts\n",
    "answer_tokens = answer_tokens\n",
    "\n",
    "\n",
    "prompts_tokens = model.to_tokens(all_prompts, prepend_bos=True)\n",
    "clean_tokens = prompts_tokens.to(device)\n",
    "\n",
    "corrupted_tokens = model.to_tokens(all_prompts[1:] + [all_prompts[0]], prepend_bos=True)\n",
    "\n",
    "clean_tokens.shape\n"
   ]
  },
  {
   "cell_type": "code",
   "execution_count": 23,
   "id": "cf6a584f",
   "metadata": {},
   "outputs": [
    {
     "name": "stdout",
     "output_type": "stream",
     "text": [
      "Review Text: 'I thought this movie was perfect, I loved it. The acting was fantastic, the plot was delightful, and overall the movie was just very good.' \n",
      "Review Sentiment:\n",
      "tensor(2.8602, device='cuda:0')\n",
      "Review Text: 'I thought this movie was dreadful, I hated it. The acting was bad, the plot was dull, and overall the movie was just very bad.' \n",
      "Review Sentiment:\n",
      "tensor(1.5138, device='cuda:0')\n",
      "Review Text: 'I thought this movie was fantastic, I loved it. The acting was delightful, the plot was cheerful, and overall the movie was just very good.' \n",
      "Review Sentiment:\n",
      "tensor(3.0905, device='cuda:0')\n",
      "Review Text: 'I thought this movie was bad, I hated it. The acting was dull, the plot was depressing, and overall the movie was just very bad.' \n",
      "Review Sentiment:\n",
      "tensor(1.2457, device='cuda:0')\n",
      "Review Text: 'I thought this movie was delightful, I loved it. The acting was cheerful, the plot was good, and overall the movie was just very good.' \n",
      "Review Sentiment:\n",
      "tensor(3.1325, device='cuda:0')\n",
      "Review Text: 'I thought this movie was dull, I hated it. The acting was depressing, the plot was miserable, and overall the movie was just very bad.' \n",
      "Review Sentiment:\n",
      "tensor(1.2065, device='cuda:0')\n",
      "Review Text: 'I thought this movie was cheerful, I loved it. The acting was good, the plot was remarkable, and overall the movie was just very good.' \n",
      "Review Sentiment:\n",
      "tensor(2.8758, device='cuda:0')\n",
      "Review Text: 'I thought this movie was depressing, I hated it. The acting was miserable, the plot was tragic, and overall the movie was just very bad.' \n",
      "Review Sentiment:\n",
      "tensor(1.1785, device='cuda:0')\n",
      "Review Text: 'I thought this movie was good, I loved it. The acting was remarkable, the plot was wonderful, and overall the movie was just very good.' \n",
      "Review Sentiment:\n",
      "tensor(2.7794, device='cuda:0')\n",
      "Review Text: 'I thought this movie was miserable, I hated it. The acting was tragic, the plot was nasty, and overall the movie was just very bad.' \n",
      "Review Sentiment:\n",
      "tensor(1.2316, device='cuda:0')\n",
      "Review Text: 'I thought this movie was remarkable, I loved it. The acting was wonderful, the plot was fabulous, and overall the movie was just very good.' \n",
      "Review Sentiment:\n",
      "tensor(2.9424, device='cuda:0')\n",
      "Review Text: 'I thought this movie was tragic, I hated it. The acting was nasty, the plot was inferior, and overall the movie was just very bad.' \n",
      "Review Sentiment:\n",
      "tensor(1.3143, device='cuda:0')\n",
      "Review Text: 'I thought this movie was wonderful, I loved it. The acting was fabulous, the plot was outstanding, and overall the movie was just very good.' \n",
      "Review Sentiment:\n",
      "tensor(2.8972, device='cuda:0')\n",
      "Review Text: 'I thought this movie was nasty, I hated it. The acting was inferior, the plot was horrific, and overall the movie was just very bad.' \n",
      "Review Sentiment:\n",
      "tensor(1.5447, device='cuda:0')\n",
      "Review Text: 'I thought this movie was fabulous, I loved it. The acting was outstanding, the plot was awesome, and overall the movie was just very good.' \n",
      "Review Sentiment:\n",
      "tensor(2.9097, device='cuda:0')\n",
      "Review Text: 'I thought this movie was inferior, I hated it. The acting was horrific, the plot was terrible, and overall the movie was just very bad.' \n",
      "Review Sentiment:\n",
      "tensor(1.4468, device='cuda:0')\n",
      "Review Text: 'I thought this movie was outstanding, I loved it. The acting was awesome, the plot was exceptional, and overall the movie was just very good.' \n",
      "Review Sentiment:\n",
      "tensor(2.7891, device='cuda:0')\n",
      "Review Text: 'I thought this movie was horrific, I hated it. The acting was terrible, the plot was ugly, and overall the movie was just very bad.' \n",
      "Review Sentiment:\n",
      "tensor(1.2692, device='cuda:0')\n",
      "Review Text: 'I thought this movie was awesome, I loved it. The acting was exceptional, the plot was incredible, and overall the movie was just very good.' \n",
      "Review Sentiment:\n",
      "tensor(2.8301, device='cuda:0')\n",
      "Review Text: 'I thought this movie was terrible, I hated it. The acting was ugly, the plot was disgusting, and overall the movie was just very bad.' \n",
      "Review Sentiment:\n",
      "tensor(1.4767, device='cuda:0')\n",
      "Review Text: 'I thought this movie was exceptional, I loved it. The acting was incredible, the plot was extraordinary, and overall the movie was just very good.' \n",
      "Review Sentiment:\n",
      "tensor(2.6854, device='cuda:0')\n",
      "Review Text: 'I thought this movie was ugly, I hated it. The acting was disgusting, the plot was disastrous, and overall the movie was just very bad.' \n",
      "Review Sentiment:\n",
      "tensor(1.4281, device='cuda:0')\n",
      "Review Text: 'I thought this movie was incredible, I loved it. The acting was extraordinary, the plot was amazing, and overall the movie was just very good.' \n",
      "Review Sentiment:\n",
      "tensor(2.7739, device='cuda:0')\n",
      "Review Text: 'I thought this movie was disgusting, I hated it. The acting was disastrous, the plot was annoying, and overall the movie was just very bad.' \n",
      "Review Sentiment:\n",
      "tensor(1.4223, device='cuda:0')\n",
      "Review Text: 'I thought this movie was extraordinary, I loved it. The acting was amazing, the plot was lovely, and overall the movie was just very good.' \n",
      "Review Sentiment:\n",
      "tensor(2.8171, device='cuda:0')\n",
      "Review Text: 'I thought this movie was disastrous, I hated it. The acting was annoying, the plot was boring, and overall the movie was just very bad.' \n",
      "Review Sentiment:\n",
      "tensor(1.4465, device='cuda:0')\n",
      "Review Text: 'I thought this movie was amazing, I loved it. The acting was lovely, the plot was brilliant, and overall the movie was just very good.' \n",
      "Review Sentiment:\n",
      "tensor(3.0282, device='cuda:0')\n",
      "Review Text: 'I thought this movie was annoying, I hated it. The acting was boring, the plot was offensive, and overall the movie was just very bad.' \n",
      "Review Sentiment:\n",
      "tensor(1.2353, device='cuda:0')\n",
      "Review Text: 'I thought this movie was lovely, I loved it. The acting was brilliant, the plot was charming, and overall the movie was just very good.' \n",
      "Review Sentiment:\n",
      "tensor(3.0629, device='cuda:0')\n",
      "Review Text: 'I thought this movie was boring, I hated it. The acting was offensive, the plot was frustrating, and overall the movie was just very bad.' \n",
      "Review Sentiment:\n",
      "tensor(1.3084, device='cuda:0')\n",
      "Review Text: 'I thought this movie was brilliant, I loved it. The acting was charming, the plot was terrific, and overall the movie was just very good.' \n",
      "Review Sentiment:\n",
      "tensor(2.9702, device='cuda:0')\n",
      "Review Text: 'I thought this movie was offensive, I hated it. The acting was frustrating, the plot was wretched, and overall the movie was just very bad.' \n",
      "Review Sentiment:\n",
      "tensor(1.3615, device='cuda:0')\n",
      "Review Text: 'I thought this movie was charming, I loved it. The acting was terrific, the plot was superb, and overall the movie was just very good.' \n",
      "Review Sentiment:\n",
      "tensor(2.8392, device='cuda:0')\n",
      "Review Text: 'I thought this movie was frustrating, I hated it. The acting was wretched, the plot was dire, and overall the movie was just very bad.' \n",
      "Review Sentiment:\n",
      "tensor(1.3433, device='cuda:0')\n",
      "Review Text: 'I thought this movie was terrific, I loved it. The acting was superb, the plot was spectacular, and overall the movie was just very good.' \n",
      "Review Sentiment:\n",
      "tensor(2.8381, device='cuda:0')\n",
      "Review Text: 'I thought this movie was wretched, I hated it. The acting was dire, the plot was awful, and overall the movie was just very bad.' \n",
      "Review Sentiment:\n",
      "tensor(1.4427, device='cuda:0')\n",
      "Review Text: 'I thought this movie was superb, I loved it. The acting was spectacular, the plot was great, and overall the movie was just very good.' \n",
      "Review Sentiment:\n",
      "tensor(2.8780, device='cuda:0')\n",
      "Review Text: 'I thought this movie was dire, I hated it. The acting was awful, the plot was unpleasant, and overall the movie was just very bad.' \n",
      "Review Sentiment:\n",
      "tensor(1.3005, device='cuda:0')\n",
      "Review Text: 'I thought this movie was spectacular, I loved it. The acting was great, the plot was splendid, and overall the movie was just very good.' \n",
      "Review Sentiment:\n",
      "tensor(2.8006, device='cuda:0')\n",
      "Review Text: 'I thought this movie was awful, I hated it. The acting was unpleasant, the plot was horrible, and overall the movie was just very bad.' \n",
      "Review Sentiment:\n",
      "tensor(1.4002, device='cuda:0')\n",
      "Review Text: 'I thought this movie was great, I loved it. The acting was splendid, the plot was beautiful, and overall the movie was just very good.' \n",
      "Review Sentiment:\n",
      "tensor(2.9159, device='cuda:0')\n",
      "Review Text: 'I thought this movie was unpleasant, I hated it. The acting was horrible, the plot was disappointing, and overall the movie was just very bad.' \n",
      "Review Sentiment:\n",
      "tensor(1.4425, device='cuda:0')\n",
      "Review Text: 'I thought this movie was splendid, I loved it. The acting was beautiful, the plot was positive, and overall the movie was just very good.' \n",
      "Review Sentiment:\n",
      "tensor(3.0601, device='cuda:0')\n",
      "Review Text: 'I thought this movie was horrible, I hated it. The acting was disappointing, the plot was inadequate, and overall the movie was just very bad.' \n",
      "Review Sentiment:\n",
      "tensor(1.3734, device='cuda:0')\n",
      "Review Text: 'I thought this movie was beautiful, I loved it. The acting was positive, the plot was excellent, and overall the movie was just very good.' \n",
      "Review Sentiment:\n",
      "tensor(3.0813, device='cuda:0')\n",
      "Review Text: 'I thought this movie was disappointing, I hated it. The acting was inadequate, the plot was dreadful, and overall the movie was just very bad.' \n",
      "Review Sentiment:\n",
      "tensor(1.4170, device='cuda:0')\n"
     ]
    }
   ],
   "source": [
    "for i in range(len(all_prompts)):\n",
    "    logits, _ = model.run_with_cache(all_prompts[i])\n",
    "    print(all_prompts[i])\n",
    "    print(get_logit_diff(logits, answer_tokens[i].unsqueeze(0)))"
   ]
  },
  {
   "cell_type": "code",
   "execution_count": 24,
   "id": "02f2a026",
   "metadata": {},
   "outputs": [
    {
     "data": {
      "text/plain": [
       "tensor(2.1349, device='cuda:0')"
      ]
     },
     "execution_count": 24,
     "metadata": {},
     "output_type": "execute_result"
    }
   ],
   "source": [
    "clean_logits, clean_cache = model.run_with_cache(clean_tokens)\n",
    "clean_logit_diff = get_logit_diff(clean_logits, answer_tokens, per_prompt=False)\n",
    "clean_logit_diff"
   ]
  },
  {
   "cell_type": "code",
   "execution_count": 25,
   "id": "20b52e08",
   "metadata": {},
   "outputs": [
    {
     "data": {
      "text/plain": [
       "tensor(-2.1349, device='cuda:0')"
      ]
     },
     "execution_count": 25,
     "metadata": {},
     "output_type": "execute_result"
    }
   ],
   "source": [
    "corrupted_logits, corrupted_cache = model.run_with_cache(corrupted_tokens)\n",
    "corrupted_logit_diff = get_logit_diff(corrupted_logits, answer_tokens, per_prompt=False)\n",
    "corrupted_logit_diff"
   ]
  },
  {
   "cell_type": "code",
   "execution_count": 26,
   "id": "2b398683",
   "metadata": {},
   "outputs": [],
   "source": [
    "def logit_diff_denoising(\n",
    "    logits: Float[Tensor, \"batch seq d_vocab\"],\n",
    "    answer_tokens: Float[Tensor, \"batch 2\"] = answer_tokens,\n",
    "    flipped_logit_diff: float = corrupted_logit_diff,\n",
    "    clean_logit_diff: float = clean_logit_diff,\n",
    ") -> Float[Tensor, \"\"]:\n",
    "    '''\n",
    "    Linear function of logit diff, calibrated so that it equals 0 when performance is\n",
    "    same as on flipped input, and 1 when performance is same as on clean input.\n",
    "    '''\n",
    "    patched_logit_diff = get_logit_diff(logits, answer_tokens)\n",
    "    return ((patched_logit_diff - flipped_logit_diff) / (clean_logit_diff  - flipped_logit_diff)).item()\n",
    "\n",
    "def logit_diff_noising(\n",
    "        logits: Float[Tensor, \"batch seq d_vocab\"],\n",
    "        clean_logit_diff: float = clean_logit_diff,\n",
    "        corrupted_logit_diff: float = corrupted_logit_diff,\n",
    "        answer_tokens: Float[Tensor, \"batch 2\"] = answer_tokens,\n",
    "    ) -> float:\n",
    "        '''\n",
    "        We calibrate this so that the value is 0 when performance isn't harmed (i.e. same as IOI dataset),\n",
    "        and -1 when performance has been destroyed (i.e. is same as ABC dataset).\n",
    "        '''\n",
    "        patched_logit_diff = get_logit_diff(logits, answer_tokens)\n",
    "        return ((patched_logit_diff - clean_logit_diff) / (clean_logit_diff - corrupted_logit_diff)).item()"
   ]
  },
  {
   "attachments": {},
   "cell_type": "markdown",
   "id": "3c7f2e93",
   "metadata": {
    "id": "TfiWnZtelFMV"
   },
   "source": [
    "### Direct Logit Attribution"
   ]
  },
  {
   "cell_type": "code",
   "execution_count": 27,
   "id": "2c9be75f",
   "metadata": {
    "colab": {
     "base_uri": "https://localhost:8080/"
    },
    "id": "bt_jzrazlMAK",
    "outputId": "39683745-1153-4a0f-bdbf-5f3be977abe3"
   },
   "outputs": [
    {
     "name": "stdout",
     "output_type": "stream",
     "text": [
      "Answer residual directions shape: torch.Size([46, 2, 2048])\n",
      "Logit difference directions shape: torch.Size([46, 2048])\n"
     ]
    }
   ],
   "source": [
    "answer_residual_directions = model.tokens_to_residual_directions(answer_tokens)\n",
    "print(\"Answer residual directions shape:\", answer_residual_directions.shape)\n",
    "logit_diff_directions = answer_residual_directions[:, 0] - answer_residual_directions[:, 1]\n",
    "print(\"Logit difference directions shape:\", logit_diff_directions.shape)"
   ]
  },
  {
   "cell_type": "code",
   "execution_count": 28,
   "id": "53c0e241",
   "metadata": {
    "colab": {
     "base_uri": "https://localhost:8080/"
    },
    "id": "LsDE7VUGIX8l",
    "outputId": "226c2ad4-fb5b-44f4-b872-1d06eee7cbd5"
   },
   "outputs": [
    {
     "name": "stdout",
     "output_type": "stream",
     "text": [
      "Final residual stream shape: torch.Size([46, 41, 2048])\n",
      "Calculated average logit diff: 2.1349241733551025\n",
      "Original logit difference: 2.1349239349365234\n"
     ]
    }
   ],
   "source": [
    "# cache syntax - resid_post is the residual stream at the end of the layer, -1 gets the final layer. The general syntax is [activation_name, layer_index, sub_layer_type]. \n",
    "final_residual_stream = clean_cache[\"resid_post\", -1]\n",
    "print(\"Final residual stream shape:\", final_residual_stream.shape)\n",
    "final_token_residual_stream = final_residual_stream[:, -1, :]\n",
    "# Apply LayerNorm scaling\n",
    "# pos_slice is the subset of the positions we take - here the final token of each prompt\n",
    "scaled_final_token_residual_stream = clean_cache.apply_ln_to_stack(final_token_residual_stream, layer = -1, pos_slice=-1)\n",
    "\n",
    "average_logit_diff = einsum(\"batch d_model, batch d_model -> \", scaled_final_token_residual_stream, logit_diff_directions)/len(all_prompts)\n",
    "print(\"Calculated average logit diff:\", average_logit_diff.item())\n",
    "print(\"Original logit difference:\",clean_logit_diff.item())"
   ]
  },
  {
   "attachments": {},
   "cell_type": "markdown",
   "id": "2b65a775",
   "metadata": {
    "id": "Nb2nC45lIohT"
   },
   "source": [
    "#### Logit Lens"
   ]
  },
  {
   "cell_type": "code",
   "execution_count": 31,
   "id": "b857e9f5",
   "metadata": {
    "id": "DvRDK2krIrid"
   },
   "outputs": [],
   "source": [
    "def residual_stack_to_logit_diff(residual_stack: TT[\"components\", \"batch\", \"d_model\"], cache: ActivationCache) -> float:\n",
    "    scaled_residual_stack = clean_cache.apply_ln_to_stack(residual_stack, layer = -1, pos_slice=-1)\n",
    "    return einsum(\"... batch d_model, batch d_model -> ...\", scaled_residual_stack, logit_diff_directions)/len(all_prompts)"
   ]
  },
  {
   "cell_type": "code",
   "execution_count": 35,
   "id": "4f646951",
   "metadata": {
    "colab": {
     "base_uri": "https://localhost:8080/",
     "height": 542
    },
    "id": "7vxP1pNuPMhr",
    "outputId": "616ac0ef-ddd2-4b1e-bccd-8ee3a3ebce23"
   },
   "outputs": [
    {
     "data": {
      "application/vnd.plotly.v1+json": {
       "config": {
        "plotlyServerURL": "https://plot.ly"
       },
       "data": [
        {
         "hovertemplate": "<b>%{hovertext}</b><br><br>x=%{x}<br>y=%{y}<extra></extra>",
         "hovertext": [
          "0_pre",
          "1_pre",
          "2_pre",
          "3_pre",
          "4_pre",
          "5_pre",
          "6_pre",
          "7_pre",
          "8_pre",
          "9_pre",
          "10_pre",
          "11_pre",
          "12_pre",
          "13_pre",
          "14_pre",
          "15_pre",
          "16_pre",
          "17_pre",
          "18_pre",
          "19_pre",
          "20_pre",
          "21_pre",
          "22_pre",
          "23_pre",
          "final_post"
         ],
         "legendgroup": "",
         "line": {
          "color": "#636efa",
          "dash": "solid"
         },
         "marker": {
          "symbol": "circle"
         },
         "mode": "lines",
         "name": "",
         "orientation": "v",
         "showlegend": false,
         "type": "scatter",
         "x": [
          0,
          0.5,
          1,
          1.5,
          2,
          2.5,
          3,
          3.5,
          4,
          4.5,
          5,
          5.5,
          6,
          6.5,
          7,
          7.5,
          8,
          8.5,
          9,
          9.5,
          10,
          10.5,
          11,
          11.5,
          12
         ],
         "xaxis": "x",
         "y": [
          0.000009605751984054223,
          0.00895776879042387,
          0.010910870507359505,
          0.015852145850658417,
          0.017620256170630455,
          0.02075148932635784,
          0.008090060204267502,
          0.03276260197162628,
          -0.021635347977280617,
          -0.01999364048242569,
          0.037689246237277985,
          0.024571767076849937,
          0.5983489155769348,
          0.6466144323348999,
          0.8405185341835022,
          1.0662881135940552,
          1.3817557096481323,
          1.515432357788086,
          1.5915781259536743,
          1.606850028038025,
          1.8040130138397217,
          1.8434861898422241,
          1.9956783056259155,
          2.0786101818084717,
          2.1349241733551025
         ],
         "yaxis": "y"
        }
       ],
       "layout": {
        "legend": {
         "tracegroupgap": 0
        },
        "template": {
         "data": {
          "bar": [
           {
            "error_x": {
             "color": "#2a3f5f"
            },
            "error_y": {
             "color": "#2a3f5f"
            },
            "marker": {
             "line": {
              "color": "#E5ECF6",
              "width": 0.5
             },
             "pattern": {
              "fillmode": "overlay",
              "size": 10,
              "solidity": 0.2
             }
            },
            "type": "bar"
           }
          ],
          "barpolar": [
           {
            "marker": {
             "line": {
              "color": "#E5ECF6",
              "width": 0.5
             },
             "pattern": {
              "fillmode": "overlay",
              "size": 10,
              "solidity": 0.2
             }
            },
            "type": "barpolar"
           }
          ],
          "carpet": [
           {
            "aaxis": {
             "endlinecolor": "#2a3f5f",
             "gridcolor": "white",
             "linecolor": "white",
             "minorgridcolor": "white",
             "startlinecolor": "#2a3f5f"
            },
            "baxis": {
             "endlinecolor": "#2a3f5f",
             "gridcolor": "white",
             "linecolor": "white",
             "minorgridcolor": "white",
             "startlinecolor": "#2a3f5f"
            },
            "type": "carpet"
           }
          ],
          "choropleth": [
           {
            "colorbar": {
             "outlinewidth": 0,
             "ticks": ""
            },
            "type": "choropleth"
           }
          ],
          "contour": [
           {
            "colorbar": {
             "outlinewidth": 0,
             "ticks": ""
            },
            "colorscale": [
             [
              0,
              "#0d0887"
             ],
             [
              0.1111111111111111,
              "#46039f"
             ],
             [
              0.2222222222222222,
              "#7201a8"
             ],
             [
              0.3333333333333333,
              "#9c179e"
             ],
             [
              0.4444444444444444,
              "#bd3786"
             ],
             [
              0.5555555555555556,
              "#d8576b"
             ],
             [
              0.6666666666666666,
              "#ed7953"
             ],
             [
              0.7777777777777778,
              "#fb9f3a"
             ],
             [
              0.8888888888888888,
              "#fdca26"
             ],
             [
              1,
              "#f0f921"
             ]
            ],
            "type": "contour"
           }
          ],
          "contourcarpet": [
           {
            "colorbar": {
             "outlinewidth": 0,
             "ticks": ""
            },
            "type": "contourcarpet"
           }
          ],
          "heatmap": [
           {
            "colorbar": {
             "outlinewidth": 0,
             "ticks": ""
            },
            "colorscale": [
             [
              0,
              "#0d0887"
             ],
             [
              0.1111111111111111,
              "#46039f"
             ],
             [
              0.2222222222222222,
              "#7201a8"
             ],
             [
              0.3333333333333333,
              "#9c179e"
             ],
             [
              0.4444444444444444,
              "#bd3786"
             ],
             [
              0.5555555555555556,
              "#d8576b"
             ],
             [
              0.6666666666666666,
              "#ed7953"
             ],
             [
              0.7777777777777778,
              "#fb9f3a"
             ],
             [
              0.8888888888888888,
              "#fdca26"
             ],
             [
              1,
              "#f0f921"
             ]
            ],
            "type": "heatmap"
           }
          ],
          "heatmapgl": [
           {
            "colorbar": {
             "outlinewidth": 0,
             "ticks": ""
            },
            "colorscale": [
             [
              0,
              "#0d0887"
             ],
             [
              0.1111111111111111,
              "#46039f"
             ],
             [
              0.2222222222222222,
              "#7201a8"
             ],
             [
              0.3333333333333333,
              "#9c179e"
             ],
             [
              0.4444444444444444,
              "#bd3786"
             ],
             [
              0.5555555555555556,
              "#d8576b"
             ],
             [
              0.6666666666666666,
              "#ed7953"
             ],
             [
              0.7777777777777778,
              "#fb9f3a"
             ],
             [
              0.8888888888888888,
              "#fdca26"
             ],
             [
              1,
              "#f0f921"
             ]
            ],
            "type": "heatmapgl"
           }
          ],
          "histogram": [
           {
            "marker": {
             "pattern": {
              "fillmode": "overlay",
              "size": 10,
              "solidity": 0.2
             }
            },
            "type": "histogram"
           }
          ],
          "histogram2d": [
           {
            "colorbar": {
             "outlinewidth": 0,
             "ticks": ""
            },
            "colorscale": [
             [
              0,
              "#0d0887"
             ],
             [
              0.1111111111111111,
              "#46039f"
             ],
             [
              0.2222222222222222,
              "#7201a8"
             ],
             [
              0.3333333333333333,
              "#9c179e"
             ],
             [
              0.4444444444444444,
              "#bd3786"
             ],
             [
              0.5555555555555556,
              "#d8576b"
             ],
             [
              0.6666666666666666,
              "#ed7953"
             ],
             [
              0.7777777777777778,
              "#fb9f3a"
             ],
             [
              0.8888888888888888,
              "#fdca26"
             ],
             [
              1,
              "#f0f921"
             ]
            ],
            "type": "histogram2d"
           }
          ],
          "histogram2dcontour": [
           {
            "colorbar": {
             "outlinewidth": 0,
             "ticks": ""
            },
            "colorscale": [
             [
              0,
              "#0d0887"
             ],
             [
              0.1111111111111111,
              "#46039f"
             ],
             [
              0.2222222222222222,
              "#7201a8"
             ],
             [
              0.3333333333333333,
              "#9c179e"
             ],
             [
              0.4444444444444444,
              "#bd3786"
             ],
             [
              0.5555555555555556,
              "#d8576b"
             ],
             [
              0.6666666666666666,
              "#ed7953"
             ],
             [
              0.7777777777777778,
              "#fb9f3a"
             ],
             [
              0.8888888888888888,
              "#fdca26"
             ],
             [
              1,
              "#f0f921"
             ]
            ],
            "type": "histogram2dcontour"
           }
          ],
          "mesh3d": [
           {
            "colorbar": {
             "outlinewidth": 0,
             "ticks": ""
            },
            "type": "mesh3d"
           }
          ],
          "parcoords": [
           {
            "line": {
             "colorbar": {
              "outlinewidth": 0,
              "ticks": ""
             }
            },
            "type": "parcoords"
           }
          ],
          "pie": [
           {
            "automargin": true,
            "type": "pie"
           }
          ],
          "scatter": [
           {
            "fillpattern": {
             "fillmode": "overlay",
             "size": 10,
             "solidity": 0.2
            },
            "type": "scatter"
           }
          ],
          "scatter3d": [
           {
            "line": {
             "colorbar": {
              "outlinewidth": 0,
              "ticks": ""
             }
            },
            "marker": {
             "colorbar": {
              "outlinewidth": 0,
              "ticks": ""
             }
            },
            "type": "scatter3d"
           }
          ],
          "scattercarpet": [
           {
            "marker": {
             "colorbar": {
              "outlinewidth": 0,
              "ticks": ""
             }
            },
            "type": "scattercarpet"
           }
          ],
          "scattergeo": [
           {
            "marker": {
             "colorbar": {
              "outlinewidth": 0,
              "ticks": ""
             }
            },
            "type": "scattergeo"
           }
          ],
          "scattergl": [
           {
            "marker": {
             "colorbar": {
              "outlinewidth": 0,
              "ticks": ""
             }
            },
            "type": "scattergl"
           }
          ],
          "scattermapbox": [
           {
            "marker": {
             "colorbar": {
              "outlinewidth": 0,
              "ticks": ""
             }
            },
            "type": "scattermapbox"
           }
          ],
          "scatterpolar": [
           {
            "marker": {
             "colorbar": {
              "outlinewidth": 0,
              "ticks": ""
             }
            },
            "type": "scatterpolar"
           }
          ],
          "scatterpolargl": [
           {
            "marker": {
             "colorbar": {
              "outlinewidth": 0,
              "ticks": ""
             }
            },
            "type": "scatterpolargl"
           }
          ],
          "scatterternary": [
           {
            "marker": {
             "colorbar": {
              "outlinewidth": 0,
              "ticks": ""
             }
            },
            "type": "scatterternary"
           }
          ],
          "surface": [
           {
            "colorbar": {
             "outlinewidth": 0,
             "ticks": ""
            },
            "colorscale": [
             [
              0,
              "#0d0887"
             ],
             [
              0.1111111111111111,
              "#46039f"
             ],
             [
              0.2222222222222222,
              "#7201a8"
             ],
             [
              0.3333333333333333,
              "#9c179e"
             ],
             [
              0.4444444444444444,
              "#bd3786"
             ],
             [
              0.5555555555555556,
              "#d8576b"
             ],
             [
              0.6666666666666666,
              "#ed7953"
             ],
             [
              0.7777777777777778,
              "#fb9f3a"
             ],
             [
              0.8888888888888888,
              "#fdca26"
             ],
             [
              1,
              "#f0f921"
             ]
            ],
            "type": "surface"
           }
          ],
          "table": [
           {
            "cells": {
             "fill": {
              "color": "#EBF0F8"
             },
             "line": {
              "color": "white"
             }
            },
            "header": {
             "fill": {
              "color": "#C8D4E3"
             },
             "line": {
              "color": "white"
             }
            },
            "type": "table"
           }
          ]
         },
         "layout": {
          "annotationdefaults": {
           "arrowcolor": "#2a3f5f",
           "arrowhead": 0,
           "arrowwidth": 1
          },
          "autotypenumbers": "strict",
          "coloraxis": {
           "colorbar": {
            "outlinewidth": 0,
            "ticks": ""
           }
          },
          "colorscale": {
           "diverging": [
            [
             0,
             "#8e0152"
            ],
            [
             0.1,
             "#c51b7d"
            ],
            [
             0.2,
             "#de77ae"
            ],
            [
             0.3,
             "#f1b6da"
            ],
            [
             0.4,
             "#fde0ef"
            ],
            [
             0.5,
             "#f7f7f7"
            ],
            [
             0.6,
             "#e6f5d0"
            ],
            [
             0.7,
             "#b8e186"
            ],
            [
             0.8,
             "#7fbc41"
            ],
            [
             0.9,
             "#4d9221"
            ],
            [
             1,
             "#276419"
            ]
           ],
           "sequential": [
            [
             0,
             "#0d0887"
            ],
            [
             0.1111111111111111,
             "#46039f"
            ],
            [
             0.2222222222222222,
             "#7201a8"
            ],
            [
             0.3333333333333333,
             "#9c179e"
            ],
            [
             0.4444444444444444,
             "#bd3786"
            ],
            [
             0.5555555555555556,
             "#d8576b"
            ],
            [
             0.6666666666666666,
             "#ed7953"
            ],
            [
             0.7777777777777778,
             "#fb9f3a"
            ],
            [
             0.8888888888888888,
             "#fdca26"
            ],
            [
             1,
             "#f0f921"
            ]
           ],
           "sequentialminus": [
            [
             0,
             "#0d0887"
            ],
            [
             0.1111111111111111,
             "#46039f"
            ],
            [
             0.2222222222222222,
             "#7201a8"
            ],
            [
             0.3333333333333333,
             "#9c179e"
            ],
            [
             0.4444444444444444,
             "#bd3786"
            ],
            [
             0.5555555555555556,
             "#d8576b"
            ],
            [
             0.6666666666666666,
             "#ed7953"
            ],
            [
             0.7777777777777778,
             "#fb9f3a"
            ],
            [
             0.8888888888888888,
             "#fdca26"
            ],
            [
             1,
             "#f0f921"
            ]
           ]
          },
          "colorway": [
           "#636efa",
           "#EF553B",
           "#00cc96",
           "#ab63fa",
           "#FFA15A",
           "#19d3f3",
           "#FF6692",
           "#B6E880",
           "#FF97FF",
           "#FECB52"
          ],
          "font": {
           "color": "#2a3f5f"
          },
          "geo": {
           "bgcolor": "white",
           "lakecolor": "white",
           "landcolor": "#E5ECF6",
           "showlakes": true,
           "showland": true,
           "subunitcolor": "white"
          },
          "hoverlabel": {
           "align": "left"
          },
          "hovermode": "closest",
          "mapbox": {
           "style": "light"
          },
          "paper_bgcolor": "white",
          "plot_bgcolor": "#E5ECF6",
          "polar": {
           "angularaxis": {
            "gridcolor": "white",
            "linecolor": "white",
            "ticks": ""
           },
           "bgcolor": "#E5ECF6",
           "radialaxis": {
            "gridcolor": "white",
            "linecolor": "white",
            "ticks": ""
           }
          },
          "scene": {
           "xaxis": {
            "backgroundcolor": "#E5ECF6",
            "gridcolor": "white",
            "gridwidth": 2,
            "linecolor": "white",
            "showbackground": true,
            "ticks": "",
            "zerolinecolor": "white"
           },
           "yaxis": {
            "backgroundcolor": "#E5ECF6",
            "gridcolor": "white",
            "gridwidth": 2,
            "linecolor": "white",
            "showbackground": true,
            "ticks": "",
            "zerolinecolor": "white"
           },
           "zaxis": {
            "backgroundcolor": "#E5ECF6",
            "gridcolor": "white",
            "gridwidth": 2,
            "linecolor": "white",
            "showbackground": true,
            "ticks": "",
            "zerolinecolor": "white"
           }
          },
          "shapedefaults": {
           "line": {
            "color": "#2a3f5f"
           }
          },
          "ternary": {
           "aaxis": {
            "gridcolor": "white",
            "linecolor": "white",
            "ticks": ""
           },
           "baxis": {
            "gridcolor": "white",
            "linecolor": "white",
            "ticks": ""
           },
           "bgcolor": "#E5ECF6",
           "caxis": {
            "gridcolor": "white",
            "linecolor": "white",
            "ticks": ""
           }
          },
          "title": {
           "x": 0.05
          },
          "xaxis": {
           "automargin": true,
           "gridcolor": "white",
           "linecolor": "white",
           "ticks": "",
           "title": {
            "standoff": 15
           },
           "zerolinecolor": "white",
           "zerolinewidth": 2
          },
          "yaxis": {
           "automargin": true,
           "gridcolor": "white",
           "linecolor": "white",
           "ticks": "",
           "title": {
            "standoff": 15
           },
           "zerolinecolor": "white",
           "zerolinewidth": 2
          }
         }
        },
        "title": {
         "text": "Logit Difference From Accumulated Residual Stream"
        },
        "xaxis": {
         "anchor": "y",
         "domain": [
          0,
          1
         ],
         "title": {
          "text": "x"
         }
        },
        "yaxis": {
         "anchor": "x",
         "domain": [
          0,
          1
         ],
         "title": {
          "text": "y"
         }
        }
       }
      },
      "text/html": [
       "<div>                            <div id=\"239ea57b-38ac-4001-b559-d58ffcd1a800\" class=\"plotly-graph-div\" style=\"height:525px; width:100%;\"></div>            <script type=\"text/javascript\">                require([\"plotly\"], function(Plotly) {                    window.PLOTLYENV=window.PLOTLYENV || {};                                    if (document.getElementById(\"239ea57b-38ac-4001-b559-d58ffcd1a800\")) {                    Plotly.newPlot(                        \"239ea57b-38ac-4001-b559-d58ffcd1a800\",                        [{\"hovertemplate\":\"\\u003cb\\u003e%{hovertext}\\u003c\\u002fb\\u003e\\u003cbr\\u003e\\u003cbr\\u003ex=%{x}\\u003cbr\\u003ey=%{y}\\u003cextra\\u003e\\u003c\\u002fextra\\u003e\",\"hovertext\":[\"0_pre\",\"1_pre\",\"2_pre\",\"3_pre\",\"4_pre\",\"5_pre\",\"6_pre\",\"7_pre\",\"8_pre\",\"9_pre\",\"10_pre\",\"11_pre\",\"12_pre\",\"13_pre\",\"14_pre\",\"15_pre\",\"16_pre\",\"17_pre\",\"18_pre\",\"19_pre\",\"20_pre\",\"21_pre\",\"22_pre\",\"23_pre\",\"final_post\"],\"legendgroup\":\"\",\"line\":{\"color\":\"#636efa\",\"dash\":\"solid\"},\"marker\":{\"symbol\":\"circle\"},\"mode\":\"lines\",\"name\":\"\",\"orientation\":\"v\",\"showlegend\":false,\"x\":[0.0,0.5,1.0,1.5,2.0,2.5,3.0,3.5,4.0,4.5,5.0,5.5,6.0,6.5,7.0,7.5,8.0,8.5,9.0,9.5,10.0,10.5,11.0,11.5,12.0],\"xaxis\":\"x\",\"y\":[9.605751984054223e-06,0.00895776879042387,0.010910870507359505,0.015852145850658417,0.017620256170630455,0.02075148932635784,0.008090060204267502,0.03276260197162628,-0.021635347977280617,-0.01999364048242569,0.037689246237277985,0.024571767076849937,0.5983489155769348,0.6466144323348999,0.8405185341835022,1.0662881135940552,1.3817557096481323,1.515432357788086,1.5915781259536743,1.606850028038025,1.8040130138397217,1.8434861898422241,1.9956783056259155,2.0786101818084717,2.1349241733551025],\"yaxis\":\"y\",\"type\":\"scatter\"}],                        {\"template\":{\"data\":{\"histogram2dcontour\":[{\"type\":\"histogram2dcontour\",\"colorbar\":{\"outlinewidth\":0,\"ticks\":\"\"},\"colorscale\":[[0.0,\"#0d0887\"],[0.1111111111111111,\"#46039f\"],[0.2222222222222222,\"#7201a8\"],[0.3333333333333333,\"#9c179e\"],[0.4444444444444444,\"#bd3786\"],[0.5555555555555556,\"#d8576b\"],[0.6666666666666666,\"#ed7953\"],[0.7777777777777778,\"#fb9f3a\"],[0.8888888888888888,\"#fdca26\"],[1.0,\"#f0f921\"]]}],\"choropleth\":[{\"type\":\"choropleth\",\"colorbar\":{\"outlinewidth\":0,\"ticks\":\"\"}}],\"histogram2d\":[{\"type\":\"histogram2d\",\"colorbar\":{\"outlinewidth\":0,\"ticks\":\"\"},\"colorscale\":[[0.0,\"#0d0887\"],[0.1111111111111111,\"#46039f\"],[0.2222222222222222,\"#7201a8\"],[0.3333333333333333,\"#9c179e\"],[0.4444444444444444,\"#bd3786\"],[0.5555555555555556,\"#d8576b\"],[0.6666666666666666,\"#ed7953\"],[0.7777777777777778,\"#fb9f3a\"],[0.8888888888888888,\"#fdca26\"],[1.0,\"#f0f921\"]]}],\"heatmap\":[{\"type\":\"heatmap\",\"colorbar\":{\"outlinewidth\":0,\"ticks\":\"\"},\"colorscale\":[[0.0,\"#0d0887\"],[0.1111111111111111,\"#46039f\"],[0.2222222222222222,\"#7201a8\"],[0.3333333333333333,\"#9c179e\"],[0.4444444444444444,\"#bd3786\"],[0.5555555555555556,\"#d8576b\"],[0.6666666666666666,\"#ed7953\"],[0.7777777777777778,\"#fb9f3a\"],[0.8888888888888888,\"#fdca26\"],[1.0,\"#f0f921\"]]}],\"heatmapgl\":[{\"type\":\"heatmapgl\",\"colorbar\":{\"outlinewidth\":0,\"ticks\":\"\"},\"colorscale\":[[0.0,\"#0d0887\"],[0.1111111111111111,\"#46039f\"],[0.2222222222222222,\"#7201a8\"],[0.3333333333333333,\"#9c179e\"],[0.4444444444444444,\"#bd3786\"],[0.5555555555555556,\"#d8576b\"],[0.6666666666666666,\"#ed7953\"],[0.7777777777777778,\"#fb9f3a\"],[0.8888888888888888,\"#fdca26\"],[1.0,\"#f0f921\"]]}],\"contourcarpet\":[{\"type\":\"contourcarpet\",\"colorbar\":{\"outlinewidth\":0,\"ticks\":\"\"}}],\"contour\":[{\"type\":\"contour\",\"colorbar\":{\"outlinewidth\":0,\"ticks\":\"\"},\"colorscale\":[[0.0,\"#0d0887\"],[0.1111111111111111,\"#46039f\"],[0.2222222222222222,\"#7201a8\"],[0.3333333333333333,\"#9c179e\"],[0.4444444444444444,\"#bd3786\"],[0.5555555555555556,\"#d8576b\"],[0.6666666666666666,\"#ed7953\"],[0.7777777777777778,\"#fb9f3a\"],[0.8888888888888888,\"#fdca26\"],[1.0,\"#f0f921\"]]}],\"surface\":[{\"type\":\"surface\",\"colorbar\":{\"outlinewidth\":0,\"ticks\":\"\"},\"colorscale\":[[0.0,\"#0d0887\"],[0.1111111111111111,\"#46039f\"],[0.2222222222222222,\"#7201a8\"],[0.3333333333333333,\"#9c179e\"],[0.4444444444444444,\"#bd3786\"],[0.5555555555555556,\"#d8576b\"],[0.6666666666666666,\"#ed7953\"],[0.7777777777777778,\"#fb9f3a\"],[0.8888888888888888,\"#fdca26\"],[1.0,\"#f0f921\"]]}],\"mesh3d\":[{\"type\":\"mesh3d\",\"colorbar\":{\"outlinewidth\":0,\"ticks\":\"\"}}],\"scatter\":[{\"fillpattern\":{\"fillmode\":\"overlay\",\"size\":10,\"solidity\":0.2},\"type\":\"scatter\"}],\"parcoords\":[{\"type\":\"parcoords\",\"line\":{\"colorbar\":{\"outlinewidth\":0,\"ticks\":\"\"}}}],\"scatterpolargl\":[{\"type\":\"scatterpolargl\",\"marker\":{\"colorbar\":{\"outlinewidth\":0,\"ticks\":\"\"}}}],\"bar\":[{\"error_x\":{\"color\":\"#2a3f5f\"},\"error_y\":{\"color\":\"#2a3f5f\"},\"marker\":{\"line\":{\"color\":\"#E5ECF6\",\"width\":0.5},\"pattern\":{\"fillmode\":\"overlay\",\"size\":10,\"solidity\":0.2}},\"type\":\"bar\"}],\"scattergeo\":[{\"type\":\"scattergeo\",\"marker\":{\"colorbar\":{\"outlinewidth\":0,\"ticks\":\"\"}}}],\"scatterpolar\":[{\"type\":\"scatterpolar\",\"marker\":{\"colorbar\":{\"outlinewidth\":0,\"ticks\":\"\"}}}],\"histogram\":[{\"marker\":{\"pattern\":{\"fillmode\":\"overlay\",\"size\":10,\"solidity\":0.2}},\"type\":\"histogram\"}],\"scattergl\":[{\"type\":\"scattergl\",\"marker\":{\"colorbar\":{\"outlinewidth\":0,\"ticks\":\"\"}}}],\"scatter3d\":[{\"type\":\"scatter3d\",\"line\":{\"colorbar\":{\"outlinewidth\":0,\"ticks\":\"\"}},\"marker\":{\"colorbar\":{\"outlinewidth\":0,\"ticks\":\"\"}}}],\"scattermapbox\":[{\"type\":\"scattermapbox\",\"marker\":{\"colorbar\":{\"outlinewidth\":0,\"ticks\":\"\"}}}],\"scatterternary\":[{\"type\":\"scatterternary\",\"marker\":{\"colorbar\":{\"outlinewidth\":0,\"ticks\":\"\"}}}],\"scattercarpet\":[{\"type\":\"scattercarpet\",\"marker\":{\"colorbar\":{\"outlinewidth\":0,\"ticks\":\"\"}}}],\"carpet\":[{\"aaxis\":{\"endlinecolor\":\"#2a3f5f\",\"gridcolor\":\"white\",\"linecolor\":\"white\",\"minorgridcolor\":\"white\",\"startlinecolor\":\"#2a3f5f\"},\"baxis\":{\"endlinecolor\":\"#2a3f5f\",\"gridcolor\":\"white\",\"linecolor\":\"white\",\"minorgridcolor\":\"white\",\"startlinecolor\":\"#2a3f5f\"},\"type\":\"carpet\"}],\"table\":[{\"cells\":{\"fill\":{\"color\":\"#EBF0F8\"},\"line\":{\"color\":\"white\"}},\"header\":{\"fill\":{\"color\":\"#C8D4E3\"},\"line\":{\"color\":\"white\"}},\"type\":\"table\"}],\"barpolar\":[{\"marker\":{\"line\":{\"color\":\"#E5ECF6\",\"width\":0.5},\"pattern\":{\"fillmode\":\"overlay\",\"size\":10,\"solidity\":0.2}},\"type\":\"barpolar\"}],\"pie\":[{\"automargin\":true,\"type\":\"pie\"}]},\"layout\":{\"autotypenumbers\":\"strict\",\"colorway\":[\"#636efa\",\"#EF553B\",\"#00cc96\",\"#ab63fa\",\"#FFA15A\",\"#19d3f3\",\"#FF6692\",\"#B6E880\",\"#FF97FF\",\"#FECB52\"],\"font\":{\"color\":\"#2a3f5f\"},\"hovermode\":\"closest\",\"hoverlabel\":{\"align\":\"left\"},\"paper_bgcolor\":\"white\",\"plot_bgcolor\":\"#E5ECF6\",\"polar\":{\"bgcolor\":\"#E5ECF6\",\"angularaxis\":{\"gridcolor\":\"white\",\"linecolor\":\"white\",\"ticks\":\"\"},\"radialaxis\":{\"gridcolor\":\"white\",\"linecolor\":\"white\",\"ticks\":\"\"}},\"ternary\":{\"bgcolor\":\"#E5ECF6\",\"aaxis\":{\"gridcolor\":\"white\",\"linecolor\":\"white\",\"ticks\":\"\"},\"baxis\":{\"gridcolor\":\"white\",\"linecolor\":\"white\",\"ticks\":\"\"},\"caxis\":{\"gridcolor\":\"white\",\"linecolor\":\"white\",\"ticks\":\"\"}},\"coloraxis\":{\"colorbar\":{\"outlinewidth\":0,\"ticks\":\"\"}},\"colorscale\":{\"sequential\":[[0.0,\"#0d0887\"],[0.1111111111111111,\"#46039f\"],[0.2222222222222222,\"#7201a8\"],[0.3333333333333333,\"#9c179e\"],[0.4444444444444444,\"#bd3786\"],[0.5555555555555556,\"#d8576b\"],[0.6666666666666666,\"#ed7953\"],[0.7777777777777778,\"#fb9f3a\"],[0.8888888888888888,\"#fdca26\"],[1.0,\"#f0f921\"]],\"sequentialminus\":[[0.0,\"#0d0887\"],[0.1111111111111111,\"#46039f\"],[0.2222222222222222,\"#7201a8\"],[0.3333333333333333,\"#9c179e\"],[0.4444444444444444,\"#bd3786\"],[0.5555555555555556,\"#d8576b\"],[0.6666666666666666,\"#ed7953\"],[0.7777777777777778,\"#fb9f3a\"],[0.8888888888888888,\"#fdca26\"],[1.0,\"#f0f921\"]],\"diverging\":[[0,\"#8e0152\"],[0.1,\"#c51b7d\"],[0.2,\"#de77ae\"],[0.3,\"#f1b6da\"],[0.4,\"#fde0ef\"],[0.5,\"#f7f7f7\"],[0.6,\"#e6f5d0\"],[0.7,\"#b8e186\"],[0.8,\"#7fbc41\"],[0.9,\"#4d9221\"],[1,\"#276419\"]]},\"xaxis\":{\"gridcolor\":\"white\",\"linecolor\":\"white\",\"ticks\":\"\",\"title\":{\"standoff\":15},\"zerolinecolor\":\"white\",\"automargin\":true,\"zerolinewidth\":2},\"yaxis\":{\"gridcolor\":\"white\",\"linecolor\":\"white\",\"ticks\":\"\",\"title\":{\"standoff\":15},\"zerolinecolor\":\"white\",\"automargin\":true,\"zerolinewidth\":2},\"scene\":{\"xaxis\":{\"backgroundcolor\":\"#E5ECF6\",\"gridcolor\":\"white\",\"linecolor\":\"white\",\"showbackground\":true,\"ticks\":\"\",\"zerolinecolor\":\"white\",\"gridwidth\":2},\"yaxis\":{\"backgroundcolor\":\"#E5ECF6\",\"gridcolor\":\"white\",\"linecolor\":\"white\",\"showbackground\":true,\"ticks\":\"\",\"zerolinecolor\":\"white\",\"gridwidth\":2},\"zaxis\":{\"backgroundcolor\":\"#E5ECF6\",\"gridcolor\":\"white\",\"linecolor\":\"white\",\"showbackground\":true,\"ticks\":\"\",\"zerolinecolor\":\"white\",\"gridwidth\":2}},\"shapedefaults\":{\"line\":{\"color\":\"#2a3f5f\"}},\"annotationdefaults\":{\"arrowcolor\":\"#2a3f5f\",\"arrowhead\":0,\"arrowwidth\":1},\"geo\":{\"bgcolor\":\"white\",\"landcolor\":\"#E5ECF6\",\"subunitcolor\":\"white\",\"showland\":true,\"showlakes\":true,\"lakecolor\":\"white\"},\"title\":{\"x\":0.05},\"mapbox\":{\"style\":\"light\"}}},\"xaxis\":{\"anchor\":\"y\",\"domain\":[0.0,1.0],\"title\":{\"text\":\"x\"}},\"yaxis\":{\"anchor\":\"x\",\"domain\":[0.0,1.0],\"title\":{\"text\":\"y\"}},\"legend\":{\"tracegroupgap\":0},\"title\":{\"text\":\"Logit Difference From Accumulated Residual Stream\"}},                        {\"responsive\": true}                    ).then(function(){\n",
       "                            \n",
       "var gd = document.getElementById('239ea57b-38ac-4001-b559-d58ffcd1a800');\n",
       "var x = new MutationObserver(function (mutations, observer) {{\n",
       "        var display = window.getComputedStyle(gd).display;\n",
       "        if (!display || display === 'none') {{\n",
       "            console.log([gd, 'removed!']);\n",
       "            Plotly.purge(gd);\n",
       "            observer.disconnect();\n",
       "        }}\n",
       "}});\n",
       "\n",
       "// Listen for the removal of the full notebook cells\n",
       "var notebookContainer = gd.closest('#notebook-container');\n",
       "if (notebookContainer) {{\n",
       "    x.observe(notebookContainer, {childList: true});\n",
       "}}\n",
       "\n",
       "// Listen for the clearing of the current output cell\n",
       "var outputEl = gd.closest('.output');\n",
       "if (outputEl) {{\n",
       "    x.observe(outputEl, {childList: true});\n",
       "}}\n",
       "\n",
       "                        })                };                });            </script>        </div>"
      ]
     },
     "metadata": {},
     "output_type": "display_data"
    }
   ],
   "source": [
    "accumulated_residual, labels = clean_cache.accumulated_resid(layer=-1, incl_mid=False, pos_slice=-1, return_labels=True)\n",
    "logit_lens_logit_diffs = residual_stack_to_logit_diff(accumulated_residual, clean_cache)\n",
    "line(logit_lens_logit_diffs, x=np.arange(model.cfg.n_layers*1+1)/2, hover_name=labels, title=\"Logit Difference From Accumulated Residual Stream\")"
   ]
  },
  {
   "attachments": {},
   "cell_type": "markdown",
   "id": "af6c009e",
   "metadata": {
    "id": "s60emfYIbTuT"
   },
   "source": [
    "#### Layer Attribution"
   ]
  },
  {
   "cell_type": "code",
   "execution_count": 36,
   "id": "57040391",
   "metadata": {
    "colab": {
     "base_uri": "https://localhost:8080/",
     "height": 542
    },
    "id": "yGgAVYgIJi9Z",
    "outputId": "2d6b1ffe-b701-419d-a786-24f0d24d2b54"
   },
   "outputs": [
    {
     "data": {
      "application/vnd.plotly.v1+json": {
       "config": {
        "plotlyServerURL": "https://plot.ly"
       },
       "data": [
        {
         "hovertemplate": "<b>%{hovertext}</b><br><br>x=%{x}<br>y=%{y}<extra></extra>",
         "hovertext": [
          "embed",
          "0_attn_out",
          "0_mlp_out",
          "1_attn_out",
          "1_mlp_out",
          "2_attn_out",
          "2_mlp_out",
          "3_attn_out",
          "3_mlp_out",
          "4_attn_out",
          "4_mlp_out",
          "5_attn_out",
          "5_mlp_out",
          "6_attn_out",
          "6_mlp_out",
          "7_attn_out",
          "7_mlp_out",
          "8_attn_out",
          "8_mlp_out",
          "9_attn_out",
          "9_mlp_out",
          "10_attn_out",
          "10_mlp_out",
          "11_attn_out",
          "11_mlp_out",
          "12_attn_out",
          "12_mlp_out",
          "13_attn_out",
          "13_mlp_out",
          "14_attn_out",
          "14_mlp_out",
          "15_attn_out",
          "15_mlp_out",
          "16_attn_out",
          "16_mlp_out",
          "17_attn_out",
          "17_mlp_out",
          "18_attn_out",
          "18_mlp_out",
          "19_attn_out",
          "19_mlp_out",
          "20_attn_out",
          "20_mlp_out",
          "21_attn_out",
          "21_mlp_out",
          "22_attn_out",
          "22_mlp_out",
          "23_attn_out",
          "23_mlp_out"
         ],
         "legendgroup": "",
         "line": {
          "color": "#636efa",
          "dash": "solid"
         },
         "marker": {
          "symbol": "circle"
         },
         "mode": "lines",
         "name": "",
         "orientation": "v",
         "showlegend": false,
         "type": "scatter",
         "x": [
          0,
          1,
          2,
          3,
          4,
          5,
          6,
          7,
          8,
          9,
          10,
          11,
          12,
          13,
          14,
          15,
          16,
          17,
          18,
          19,
          20,
          21,
          22,
          23,
          24,
          25,
          26,
          27,
          28,
          29,
          30,
          31,
          32,
          33,
          34,
          35,
          36,
          37,
          38,
          39,
          40,
          41,
          42,
          43,
          44,
          45,
          46,
          47,
          48
         ],
         "xaxis": "x",
         "y": [
          0.000009605701961845625,
          0.0062157586216926575,
          0.002732411492615938,
          0.002942924853414297,
          -0.0009898084681481123,
          -0.0018432859797030687,
          0.00678454153239727,
          0.000996183487586677,
          0.0007719522691331804,
          0.00037719099782407284,
          0.002754037268459797,
          -0.013467848300933838,
          0.0008064353023655713,
          0.018332412466406822,
          0.006340142339468002,
          -0.05992010980844498,
          0.005522113759070635,
          -0.007384852506220341,
          0.009026553481817245,
          -0.004806802608072758,
          0.06248972937464714,
          -0.01907917484641075,
          0.005961699411273003,
          0.48984888195991516,
          0.08392833173274994,
          -0.04977627471089363,
          0.0980418398976326,
          0.177018404006958,
          0.016885532066226006,
          0.09556877613067627,
          0.13020092248916626,
          -0.05052698776125908,
          0.3659946620464325,
          0.017041344195604324,
          0.11663508415222168,
          -0.020967476069927216,
          0.097113236784935,
          0.0765409767627716,
          -0.061268966645002365,
          -0.012431073933839798,
          0.20959393680095673,
          -0.01858574151992798,
          0.05805893614888191,
          0.12712739408016205,
          0.02506505697965622,
          0.011404135264456272,
          0.07152770459651947,
          0.06114427000284195,
          -0.004830469377338886
         ],
         "yaxis": "y"
        }
       ],
       "layout": {
        "legend": {
         "tracegroupgap": 0
        },
        "template": {
         "data": {
          "bar": [
           {
            "error_x": {
             "color": "#2a3f5f"
            },
            "error_y": {
             "color": "#2a3f5f"
            },
            "marker": {
             "line": {
              "color": "#E5ECF6",
              "width": 0.5
             },
             "pattern": {
              "fillmode": "overlay",
              "size": 10,
              "solidity": 0.2
             }
            },
            "type": "bar"
           }
          ],
          "barpolar": [
           {
            "marker": {
             "line": {
              "color": "#E5ECF6",
              "width": 0.5
             },
             "pattern": {
              "fillmode": "overlay",
              "size": 10,
              "solidity": 0.2
             }
            },
            "type": "barpolar"
           }
          ],
          "carpet": [
           {
            "aaxis": {
             "endlinecolor": "#2a3f5f",
             "gridcolor": "white",
             "linecolor": "white",
             "minorgridcolor": "white",
             "startlinecolor": "#2a3f5f"
            },
            "baxis": {
             "endlinecolor": "#2a3f5f",
             "gridcolor": "white",
             "linecolor": "white",
             "minorgridcolor": "white",
             "startlinecolor": "#2a3f5f"
            },
            "type": "carpet"
           }
          ],
          "choropleth": [
           {
            "colorbar": {
             "outlinewidth": 0,
             "ticks": ""
            },
            "type": "choropleth"
           }
          ],
          "contour": [
           {
            "colorbar": {
             "outlinewidth": 0,
             "ticks": ""
            },
            "colorscale": [
             [
              0,
              "#0d0887"
             ],
             [
              0.1111111111111111,
              "#46039f"
             ],
             [
              0.2222222222222222,
              "#7201a8"
             ],
             [
              0.3333333333333333,
              "#9c179e"
             ],
             [
              0.4444444444444444,
              "#bd3786"
             ],
             [
              0.5555555555555556,
              "#d8576b"
             ],
             [
              0.6666666666666666,
              "#ed7953"
             ],
             [
              0.7777777777777778,
              "#fb9f3a"
             ],
             [
              0.8888888888888888,
              "#fdca26"
             ],
             [
              1,
              "#f0f921"
             ]
            ],
            "type": "contour"
           }
          ],
          "contourcarpet": [
           {
            "colorbar": {
             "outlinewidth": 0,
             "ticks": ""
            },
            "type": "contourcarpet"
           }
          ],
          "heatmap": [
           {
            "colorbar": {
             "outlinewidth": 0,
             "ticks": ""
            },
            "colorscale": [
             [
              0,
              "#0d0887"
             ],
             [
              0.1111111111111111,
              "#46039f"
             ],
             [
              0.2222222222222222,
              "#7201a8"
             ],
             [
              0.3333333333333333,
              "#9c179e"
             ],
             [
              0.4444444444444444,
              "#bd3786"
             ],
             [
              0.5555555555555556,
              "#d8576b"
             ],
             [
              0.6666666666666666,
              "#ed7953"
             ],
             [
              0.7777777777777778,
              "#fb9f3a"
             ],
             [
              0.8888888888888888,
              "#fdca26"
             ],
             [
              1,
              "#f0f921"
             ]
            ],
            "type": "heatmap"
           }
          ],
          "heatmapgl": [
           {
            "colorbar": {
             "outlinewidth": 0,
             "ticks": ""
            },
            "colorscale": [
             [
              0,
              "#0d0887"
             ],
             [
              0.1111111111111111,
              "#46039f"
             ],
             [
              0.2222222222222222,
              "#7201a8"
             ],
             [
              0.3333333333333333,
              "#9c179e"
             ],
             [
              0.4444444444444444,
              "#bd3786"
             ],
             [
              0.5555555555555556,
              "#d8576b"
             ],
             [
              0.6666666666666666,
              "#ed7953"
             ],
             [
              0.7777777777777778,
              "#fb9f3a"
             ],
             [
              0.8888888888888888,
              "#fdca26"
             ],
             [
              1,
              "#f0f921"
             ]
            ],
            "type": "heatmapgl"
           }
          ],
          "histogram": [
           {
            "marker": {
             "pattern": {
              "fillmode": "overlay",
              "size": 10,
              "solidity": 0.2
             }
            },
            "type": "histogram"
           }
          ],
          "histogram2d": [
           {
            "colorbar": {
             "outlinewidth": 0,
             "ticks": ""
            },
            "colorscale": [
             [
              0,
              "#0d0887"
             ],
             [
              0.1111111111111111,
              "#46039f"
             ],
             [
              0.2222222222222222,
              "#7201a8"
             ],
             [
              0.3333333333333333,
              "#9c179e"
             ],
             [
              0.4444444444444444,
              "#bd3786"
             ],
             [
              0.5555555555555556,
              "#d8576b"
             ],
             [
              0.6666666666666666,
              "#ed7953"
             ],
             [
              0.7777777777777778,
              "#fb9f3a"
             ],
             [
              0.8888888888888888,
              "#fdca26"
             ],
             [
              1,
              "#f0f921"
             ]
            ],
            "type": "histogram2d"
           }
          ],
          "histogram2dcontour": [
           {
            "colorbar": {
             "outlinewidth": 0,
             "ticks": ""
            },
            "colorscale": [
             [
              0,
              "#0d0887"
             ],
             [
              0.1111111111111111,
              "#46039f"
             ],
             [
              0.2222222222222222,
              "#7201a8"
             ],
             [
              0.3333333333333333,
              "#9c179e"
             ],
             [
              0.4444444444444444,
              "#bd3786"
             ],
             [
              0.5555555555555556,
              "#d8576b"
             ],
             [
              0.6666666666666666,
              "#ed7953"
             ],
             [
              0.7777777777777778,
              "#fb9f3a"
             ],
             [
              0.8888888888888888,
              "#fdca26"
             ],
             [
              1,
              "#f0f921"
             ]
            ],
            "type": "histogram2dcontour"
           }
          ],
          "mesh3d": [
           {
            "colorbar": {
             "outlinewidth": 0,
             "ticks": ""
            },
            "type": "mesh3d"
           }
          ],
          "parcoords": [
           {
            "line": {
             "colorbar": {
              "outlinewidth": 0,
              "ticks": ""
             }
            },
            "type": "parcoords"
           }
          ],
          "pie": [
           {
            "automargin": true,
            "type": "pie"
           }
          ],
          "scatter": [
           {
            "fillpattern": {
             "fillmode": "overlay",
             "size": 10,
             "solidity": 0.2
            },
            "type": "scatter"
           }
          ],
          "scatter3d": [
           {
            "line": {
             "colorbar": {
              "outlinewidth": 0,
              "ticks": ""
             }
            },
            "marker": {
             "colorbar": {
              "outlinewidth": 0,
              "ticks": ""
             }
            },
            "type": "scatter3d"
           }
          ],
          "scattercarpet": [
           {
            "marker": {
             "colorbar": {
              "outlinewidth": 0,
              "ticks": ""
             }
            },
            "type": "scattercarpet"
           }
          ],
          "scattergeo": [
           {
            "marker": {
             "colorbar": {
              "outlinewidth": 0,
              "ticks": ""
             }
            },
            "type": "scattergeo"
           }
          ],
          "scattergl": [
           {
            "marker": {
             "colorbar": {
              "outlinewidth": 0,
              "ticks": ""
             }
            },
            "type": "scattergl"
           }
          ],
          "scattermapbox": [
           {
            "marker": {
             "colorbar": {
              "outlinewidth": 0,
              "ticks": ""
             }
            },
            "type": "scattermapbox"
           }
          ],
          "scatterpolar": [
           {
            "marker": {
             "colorbar": {
              "outlinewidth": 0,
              "ticks": ""
             }
            },
            "type": "scatterpolar"
           }
          ],
          "scatterpolargl": [
           {
            "marker": {
             "colorbar": {
              "outlinewidth": 0,
              "ticks": ""
             }
            },
            "type": "scatterpolargl"
           }
          ],
          "scatterternary": [
           {
            "marker": {
             "colorbar": {
              "outlinewidth": 0,
              "ticks": ""
             }
            },
            "type": "scatterternary"
           }
          ],
          "surface": [
           {
            "colorbar": {
             "outlinewidth": 0,
             "ticks": ""
            },
            "colorscale": [
             [
              0,
              "#0d0887"
             ],
             [
              0.1111111111111111,
              "#46039f"
             ],
             [
              0.2222222222222222,
              "#7201a8"
             ],
             [
              0.3333333333333333,
              "#9c179e"
             ],
             [
              0.4444444444444444,
              "#bd3786"
             ],
             [
              0.5555555555555556,
              "#d8576b"
             ],
             [
              0.6666666666666666,
              "#ed7953"
             ],
             [
              0.7777777777777778,
              "#fb9f3a"
             ],
             [
              0.8888888888888888,
              "#fdca26"
             ],
             [
              1,
              "#f0f921"
             ]
            ],
            "type": "surface"
           }
          ],
          "table": [
           {
            "cells": {
             "fill": {
              "color": "#EBF0F8"
             },
             "line": {
              "color": "white"
             }
            },
            "header": {
             "fill": {
              "color": "#C8D4E3"
             },
             "line": {
              "color": "white"
             }
            },
            "type": "table"
           }
          ]
         },
         "layout": {
          "annotationdefaults": {
           "arrowcolor": "#2a3f5f",
           "arrowhead": 0,
           "arrowwidth": 1
          },
          "autotypenumbers": "strict",
          "coloraxis": {
           "colorbar": {
            "outlinewidth": 0,
            "ticks": ""
           }
          },
          "colorscale": {
           "diverging": [
            [
             0,
             "#8e0152"
            ],
            [
             0.1,
             "#c51b7d"
            ],
            [
             0.2,
             "#de77ae"
            ],
            [
             0.3,
             "#f1b6da"
            ],
            [
             0.4,
             "#fde0ef"
            ],
            [
             0.5,
             "#f7f7f7"
            ],
            [
             0.6,
             "#e6f5d0"
            ],
            [
             0.7,
             "#b8e186"
            ],
            [
             0.8,
             "#7fbc41"
            ],
            [
             0.9,
             "#4d9221"
            ],
            [
             1,
             "#276419"
            ]
           ],
           "sequential": [
            [
             0,
             "#0d0887"
            ],
            [
             0.1111111111111111,
             "#46039f"
            ],
            [
             0.2222222222222222,
             "#7201a8"
            ],
            [
             0.3333333333333333,
             "#9c179e"
            ],
            [
             0.4444444444444444,
             "#bd3786"
            ],
            [
             0.5555555555555556,
             "#d8576b"
            ],
            [
             0.6666666666666666,
             "#ed7953"
            ],
            [
             0.7777777777777778,
             "#fb9f3a"
            ],
            [
             0.8888888888888888,
             "#fdca26"
            ],
            [
             1,
             "#f0f921"
            ]
           ],
           "sequentialminus": [
            [
             0,
             "#0d0887"
            ],
            [
             0.1111111111111111,
             "#46039f"
            ],
            [
             0.2222222222222222,
             "#7201a8"
            ],
            [
             0.3333333333333333,
             "#9c179e"
            ],
            [
             0.4444444444444444,
             "#bd3786"
            ],
            [
             0.5555555555555556,
             "#d8576b"
            ],
            [
             0.6666666666666666,
             "#ed7953"
            ],
            [
             0.7777777777777778,
             "#fb9f3a"
            ],
            [
             0.8888888888888888,
             "#fdca26"
            ],
            [
             1,
             "#f0f921"
            ]
           ]
          },
          "colorway": [
           "#636efa",
           "#EF553B",
           "#00cc96",
           "#ab63fa",
           "#FFA15A",
           "#19d3f3",
           "#FF6692",
           "#B6E880",
           "#FF97FF",
           "#FECB52"
          ],
          "font": {
           "color": "#2a3f5f"
          },
          "geo": {
           "bgcolor": "white",
           "lakecolor": "white",
           "landcolor": "#E5ECF6",
           "showlakes": true,
           "showland": true,
           "subunitcolor": "white"
          },
          "hoverlabel": {
           "align": "left"
          },
          "hovermode": "closest",
          "mapbox": {
           "style": "light"
          },
          "paper_bgcolor": "white",
          "plot_bgcolor": "#E5ECF6",
          "polar": {
           "angularaxis": {
            "gridcolor": "white",
            "linecolor": "white",
            "ticks": ""
           },
           "bgcolor": "#E5ECF6",
           "radialaxis": {
            "gridcolor": "white",
            "linecolor": "white",
            "ticks": ""
           }
          },
          "scene": {
           "xaxis": {
            "backgroundcolor": "#E5ECF6",
            "gridcolor": "white",
            "gridwidth": 2,
            "linecolor": "white",
            "showbackground": true,
            "ticks": "",
            "zerolinecolor": "white"
           },
           "yaxis": {
            "backgroundcolor": "#E5ECF6",
            "gridcolor": "white",
            "gridwidth": 2,
            "linecolor": "white",
            "showbackground": true,
            "ticks": "",
            "zerolinecolor": "white"
           },
           "zaxis": {
            "backgroundcolor": "#E5ECF6",
            "gridcolor": "white",
            "gridwidth": 2,
            "linecolor": "white",
            "showbackground": true,
            "ticks": "",
            "zerolinecolor": "white"
           }
          },
          "shapedefaults": {
           "line": {
            "color": "#2a3f5f"
           }
          },
          "ternary": {
           "aaxis": {
            "gridcolor": "white",
            "linecolor": "white",
            "ticks": ""
           },
           "baxis": {
            "gridcolor": "white",
            "linecolor": "white",
            "ticks": ""
           },
           "bgcolor": "#E5ECF6",
           "caxis": {
            "gridcolor": "white",
            "linecolor": "white",
            "ticks": ""
           }
          },
          "title": {
           "x": 0.05
          },
          "xaxis": {
           "automargin": true,
           "gridcolor": "white",
           "linecolor": "white",
           "ticks": "",
           "title": {
            "standoff": 15
           },
           "zerolinecolor": "white",
           "zerolinewidth": 2
          },
          "yaxis": {
           "automargin": true,
           "gridcolor": "white",
           "linecolor": "white",
           "ticks": "",
           "title": {
            "standoff": 15
           },
           "zerolinecolor": "white",
           "zerolinewidth": 2
          }
         }
        },
        "title": {
         "text": "Logit Difference From Each Layer"
        },
        "xaxis": {
         "anchor": "y",
         "domain": [
          0,
          1
         ],
         "title": {
          "text": "x"
         }
        },
        "yaxis": {
         "anchor": "x",
         "domain": [
          0,
          1
         ],
         "title": {
          "text": "y"
         }
        }
       }
      },
      "text/html": [
       "<div>                            <div id=\"05bad982-5786-48fc-875d-892a147fac5d\" class=\"plotly-graph-div\" style=\"height:525px; width:100%;\"></div>            <script type=\"text/javascript\">                require([\"plotly\"], function(Plotly) {                    window.PLOTLYENV=window.PLOTLYENV || {};                                    if (document.getElementById(\"05bad982-5786-48fc-875d-892a147fac5d\")) {                    Plotly.newPlot(                        \"05bad982-5786-48fc-875d-892a147fac5d\",                        [{\"hovertemplate\":\"\\u003cb\\u003e%{hovertext}\\u003c\\u002fb\\u003e\\u003cbr\\u003e\\u003cbr\\u003ex=%{x}\\u003cbr\\u003ey=%{y}\\u003cextra\\u003e\\u003c\\u002fextra\\u003e\",\"hovertext\":[\"embed\",\"0_attn_out\",\"0_mlp_out\",\"1_attn_out\",\"1_mlp_out\",\"2_attn_out\",\"2_mlp_out\",\"3_attn_out\",\"3_mlp_out\",\"4_attn_out\",\"4_mlp_out\",\"5_attn_out\",\"5_mlp_out\",\"6_attn_out\",\"6_mlp_out\",\"7_attn_out\",\"7_mlp_out\",\"8_attn_out\",\"8_mlp_out\",\"9_attn_out\",\"9_mlp_out\",\"10_attn_out\",\"10_mlp_out\",\"11_attn_out\",\"11_mlp_out\",\"12_attn_out\",\"12_mlp_out\",\"13_attn_out\",\"13_mlp_out\",\"14_attn_out\",\"14_mlp_out\",\"15_attn_out\",\"15_mlp_out\",\"16_attn_out\",\"16_mlp_out\",\"17_attn_out\",\"17_mlp_out\",\"18_attn_out\",\"18_mlp_out\",\"19_attn_out\",\"19_mlp_out\",\"20_attn_out\",\"20_mlp_out\",\"21_attn_out\",\"21_mlp_out\",\"22_attn_out\",\"22_mlp_out\",\"23_attn_out\",\"23_mlp_out\"],\"legendgroup\":\"\",\"line\":{\"color\":\"#636efa\",\"dash\":\"solid\"},\"marker\":{\"symbol\":\"circle\"},\"mode\":\"lines\",\"name\":\"\",\"orientation\":\"v\",\"showlegend\":false,\"x\":[0,1,2,3,4,5,6,7,8,9,10,11,12,13,14,15,16,17,18,19,20,21,22,23,24,25,26,27,28,29,30,31,32,33,34,35,36,37,38,39,40,41,42,43,44,45,46,47,48],\"xaxis\":\"x\",\"y\":[9.605701961845625e-06,0.0062157586216926575,0.002732411492615938,0.002942924853414297,-0.0009898084681481123,-0.0018432859797030687,0.00678454153239727,0.000996183487586677,0.0007719522691331804,0.00037719099782407284,0.002754037268459797,-0.013467848300933838,0.0008064353023655713,0.018332412466406822,0.006340142339468002,-0.05992010980844498,0.005522113759070635,-0.007384852506220341,0.009026553481817245,-0.004806802608072758,0.06248972937464714,-0.01907917484641075,0.005961699411273003,0.48984888195991516,0.08392833173274994,-0.04977627471089363,0.0980418398976326,0.177018404006958,0.016885532066226006,0.09556877613067627,0.13020092248916626,-0.05052698776125908,0.3659946620464325,0.017041344195604324,0.11663508415222168,-0.020967476069927216,0.097113236784935,0.0765409767627716,-0.061268966645002365,-0.012431073933839798,0.20959393680095673,-0.01858574151992798,0.05805893614888191,0.12712739408016205,0.02506505697965622,0.011404135264456272,0.07152770459651947,0.06114427000284195,-0.004830469377338886],\"yaxis\":\"y\",\"type\":\"scatter\"}],                        {\"template\":{\"data\":{\"histogram2dcontour\":[{\"type\":\"histogram2dcontour\",\"colorbar\":{\"outlinewidth\":0,\"ticks\":\"\"},\"colorscale\":[[0.0,\"#0d0887\"],[0.1111111111111111,\"#46039f\"],[0.2222222222222222,\"#7201a8\"],[0.3333333333333333,\"#9c179e\"],[0.4444444444444444,\"#bd3786\"],[0.5555555555555556,\"#d8576b\"],[0.6666666666666666,\"#ed7953\"],[0.7777777777777778,\"#fb9f3a\"],[0.8888888888888888,\"#fdca26\"],[1.0,\"#f0f921\"]]}],\"choropleth\":[{\"type\":\"choropleth\",\"colorbar\":{\"outlinewidth\":0,\"ticks\":\"\"}}],\"histogram2d\":[{\"type\":\"histogram2d\",\"colorbar\":{\"outlinewidth\":0,\"ticks\":\"\"},\"colorscale\":[[0.0,\"#0d0887\"],[0.1111111111111111,\"#46039f\"],[0.2222222222222222,\"#7201a8\"],[0.3333333333333333,\"#9c179e\"],[0.4444444444444444,\"#bd3786\"],[0.5555555555555556,\"#d8576b\"],[0.6666666666666666,\"#ed7953\"],[0.7777777777777778,\"#fb9f3a\"],[0.8888888888888888,\"#fdca26\"],[1.0,\"#f0f921\"]]}],\"heatmap\":[{\"type\":\"heatmap\",\"colorbar\":{\"outlinewidth\":0,\"ticks\":\"\"},\"colorscale\":[[0.0,\"#0d0887\"],[0.1111111111111111,\"#46039f\"],[0.2222222222222222,\"#7201a8\"],[0.3333333333333333,\"#9c179e\"],[0.4444444444444444,\"#bd3786\"],[0.5555555555555556,\"#d8576b\"],[0.6666666666666666,\"#ed7953\"],[0.7777777777777778,\"#fb9f3a\"],[0.8888888888888888,\"#fdca26\"],[1.0,\"#f0f921\"]]}],\"heatmapgl\":[{\"type\":\"heatmapgl\",\"colorbar\":{\"outlinewidth\":0,\"ticks\":\"\"},\"colorscale\":[[0.0,\"#0d0887\"],[0.1111111111111111,\"#46039f\"],[0.2222222222222222,\"#7201a8\"],[0.3333333333333333,\"#9c179e\"],[0.4444444444444444,\"#bd3786\"],[0.5555555555555556,\"#d8576b\"],[0.6666666666666666,\"#ed7953\"],[0.7777777777777778,\"#fb9f3a\"],[0.8888888888888888,\"#fdca26\"],[1.0,\"#f0f921\"]]}],\"contourcarpet\":[{\"type\":\"contourcarpet\",\"colorbar\":{\"outlinewidth\":0,\"ticks\":\"\"}}],\"contour\":[{\"type\":\"contour\",\"colorbar\":{\"outlinewidth\":0,\"ticks\":\"\"},\"colorscale\":[[0.0,\"#0d0887\"],[0.1111111111111111,\"#46039f\"],[0.2222222222222222,\"#7201a8\"],[0.3333333333333333,\"#9c179e\"],[0.4444444444444444,\"#bd3786\"],[0.5555555555555556,\"#d8576b\"],[0.6666666666666666,\"#ed7953\"],[0.7777777777777778,\"#fb9f3a\"],[0.8888888888888888,\"#fdca26\"],[1.0,\"#f0f921\"]]}],\"surface\":[{\"type\":\"surface\",\"colorbar\":{\"outlinewidth\":0,\"ticks\":\"\"},\"colorscale\":[[0.0,\"#0d0887\"],[0.1111111111111111,\"#46039f\"],[0.2222222222222222,\"#7201a8\"],[0.3333333333333333,\"#9c179e\"],[0.4444444444444444,\"#bd3786\"],[0.5555555555555556,\"#d8576b\"],[0.6666666666666666,\"#ed7953\"],[0.7777777777777778,\"#fb9f3a\"],[0.8888888888888888,\"#fdca26\"],[1.0,\"#f0f921\"]]}],\"mesh3d\":[{\"type\":\"mesh3d\",\"colorbar\":{\"outlinewidth\":0,\"ticks\":\"\"}}],\"scatter\":[{\"fillpattern\":{\"fillmode\":\"overlay\",\"size\":10,\"solidity\":0.2},\"type\":\"scatter\"}],\"parcoords\":[{\"type\":\"parcoords\",\"line\":{\"colorbar\":{\"outlinewidth\":0,\"ticks\":\"\"}}}],\"scatterpolargl\":[{\"type\":\"scatterpolargl\",\"marker\":{\"colorbar\":{\"outlinewidth\":0,\"ticks\":\"\"}}}],\"bar\":[{\"error_x\":{\"color\":\"#2a3f5f\"},\"error_y\":{\"color\":\"#2a3f5f\"},\"marker\":{\"line\":{\"color\":\"#E5ECF6\",\"width\":0.5},\"pattern\":{\"fillmode\":\"overlay\",\"size\":10,\"solidity\":0.2}},\"type\":\"bar\"}],\"scattergeo\":[{\"type\":\"scattergeo\",\"marker\":{\"colorbar\":{\"outlinewidth\":0,\"ticks\":\"\"}}}],\"scatterpolar\":[{\"type\":\"scatterpolar\",\"marker\":{\"colorbar\":{\"outlinewidth\":0,\"ticks\":\"\"}}}],\"histogram\":[{\"marker\":{\"pattern\":{\"fillmode\":\"overlay\",\"size\":10,\"solidity\":0.2}},\"type\":\"histogram\"}],\"scattergl\":[{\"type\":\"scattergl\",\"marker\":{\"colorbar\":{\"outlinewidth\":0,\"ticks\":\"\"}}}],\"scatter3d\":[{\"type\":\"scatter3d\",\"line\":{\"colorbar\":{\"outlinewidth\":0,\"ticks\":\"\"}},\"marker\":{\"colorbar\":{\"outlinewidth\":0,\"ticks\":\"\"}}}],\"scattermapbox\":[{\"type\":\"scattermapbox\",\"marker\":{\"colorbar\":{\"outlinewidth\":0,\"ticks\":\"\"}}}],\"scatterternary\":[{\"type\":\"scatterternary\",\"marker\":{\"colorbar\":{\"outlinewidth\":0,\"ticks\":\"\"}}}],\"scattercarpet\":[{\"type\":\"scattercarpet\",\"marker\":{\"colorbar\":{\"outlinewidth\":0,\"ticks\":\"\"}}}],\"carpet\":[{\"aaxis\":{\"endlinecolor\":\"#2a3f5f\",\"gridcolor\":\"white\",\"linecolor\":\"white\",\"minorgridcolor\":\"white\",\"startlinecolor\":\"#2a3f5f\"},\"baxis\":{\"endlinecolor\":\"#2a3f5f\",\"gridcolor\":\"white\",\"linecolor\":\"white\",\"minorgridcolor\":\"white\",\"startlinecolor\":\"#2a3f5f\"},\"type\":\"carpet\"}],\"table\":[{\"cells\":{\"fill\":{\"color\":\"#EBF0F8\"},\"line\":{\"color\":\"white\"}},\"header\":{\"fill\":{\"color\":\"#C8D4E3\"},\"line\":{\"color\":\"white\"}},\"type\":\"table\"}],\"barpolar\":[{\"marker\":{\"line\":{\"color\":\"#E5ECF6\",\"width\":0.5},\"pattern\":{\"fillmode\":\"overlay\",\"size\":10,\"solidity\":0.2}},\"type\":\"barpolar\"}],\"pie\":[{\"automargin\":true,\"type\":\"pie\"}]},\"layout\":{\"autotypenumbers\":\"strict\",\"colorway\":[\"#636efa\",\"#EF553B\",\"#00cc96\",\"#ab63fa\",\"#FFA15A\",\"#19d3f3\",\"#FF6692\",\"#B6E880\",\"#FF97FF\",\"#FECB52\"],\"font\":{\"color\":\"#2a3f5f\"},\"hovermode\":\"closest\",\"hoverlabel\":{\"align\":\"left\"},\"paper_bgcolor\":\"white\",\"plot_bgcolor\":\"#E5ECF6\",\"polar\":{\"bgcolor\":\"#E5ECF6\",\"angularaxis\":{\"gridcolor\":\"white\",\"linecolor\":\"white\",\"ticks\":\"\"},\"radialaxis\":{\"gridcolor\":\"white\",\"linecolor\":\"white\",\"ticks\":\"\"}},\"ternary\":{\"bgcolor\":\"#E5ECF6\",\"aaxis\":{\"gridcolor\":\"white\",\"linecolor\":\"white\",\"ticks\":\"\"},\"baxis\":{\"gridcolor\":\"white\",\"linecolor\":\"white\",\"ticks\":\"\"},\"caxis\":{\"gridcolor\":\"white\",\"linecolor\":\"white\",\"ticks\":\"\"}},\"coloraxis\":{\"colorbar\":{\"outlinewidth\":0,\"ticks\":\"\"}},\"colorscale\":{\"sequential\":[[0.0,\"#0d0887\"],[0.1111111111111111,\"#46039f\"],[0.2222222222222222,\"#7201a8\"],[0.3333333333333333,\"#9c179e\"],[0.4444444444444444,\"#bd3786\"],[0.5555555555555556,\"#d8576b\"],[0.6666666666666666,\"#ed7953\"],[0.7777777777777778,\"#fb9f3a\"],[0.8888888888888888,\"#fdca26\"],[1.0,\"#f0f921\"]],\"sequentialminus\":[[0.0,\"#0d0887\"],[0.1111111111111111,\"#46039f\"],[0.2222222222222222,\"#7201a8\"],[0.3333333333333333,\"#9c179e\"],[0.4444444444444444,\"#bd3786\"],[0.5555555555555556,\"#d8576b\"],[0.6666666666666666,\"#ed7953\"],[0.7777777777777778,\"#fb9f3a\"],[0.8888888888888888,\"#fdca26\"],[1.0,\"#f0f921\"]],\"diverging\":[[0,\"#8e0152\"],[0.1,\"#c51b7d\"],[0.2,\"#de77ae\"],[0.3,\"#f1b6da\"],[0.4,\"#fde0ef\"],[0.5,\"#f7f7f7\"],[0.6,\"#e6f5d0\"],[0.7,\"#b8e186\"],[0.8,\"#7fbc41\"],[0.9,\"#4d9221\"],[1,\"#276419\"]]},\"xaxis\":{\"gridcolor\":\"white\",\"linecolor\":\"white\",\"ticks\":\"\",\"title\":{\"standoff\":15},\"zerolinecolor\":\"white\",\"automargin\":true,\"zerolinewidth\":2},\"yaxis\":{\"gridcolor\":\"white\",\"linecolor\":\"white\",\"ticks\":\"\",\"title\":{\"standoff\":15},\"zerolinecolor\":\"white\",\"automargin\":true,\"zerolinewidth\":2},\"scene\":{\"xaxis\":{\"backgroundcolor\":\"#E5ECF6\",\"gridcolor\":\"white\",\"linecolor\":\"white\",\"showbackground\":true,\"ticks\":\"\",\"zerolinecolor\":\"white\",\"gridwidth\":2},\"yaxis\":{\"backgroundcolor\":\"#E5ECF6\",\"gridcolor\":\"white\",\"linecolor\":\"white\",\"showbackground\":true,\"ticks\":\"\",\"zerolinecolor\":\"white\",\"gridwidth\":2},\"zaxis\":{\"backgroundcolor\":\"#E5ECF6\",\"gridcolor\":\"white\",\"linecolor\":\"white\",\"showbackground\":true,\"ticks\":\"\",\"zerolinecolor\":\"white\",\"gridwidth\":2}},\"shapedefaults\":{\"line\":{\"color\":\"#2a3f5f\"}},\"annotationdefaults\":{\"arrowcolor\":\"#2a3f5f\",\"arrowhead\":0,\"arrowwidth\":1},\"geo\":{\"bgcolor\":\"white\",\"landcolor\":\"#E5ECF6\",\"subunitcolor\":\"white\",\"showland\":true,\"showlakes\":true,\"lakecolor\":\"white\"},\"title\":{\"x\":0.05},\"mapbox\":{\"style\":\"light\"}}},\"xaxis\":{\"anchor\":\"y\",\"domain\":[0.0,1.0],\"title\":{\"text\":\"x\"}},\"yaxis\":{\"anchor\":\"x\",\"domain\":[0.0,1.0],\"title\":{\"text\":\"y\"}},\"legend\":{\"tracegroupgap\":0},\"title\":{\"text\":\"Logit Difference From Each Layer\"}},                        {\"responsive\": true}                    ).then(function(){\n",
       "                            \n",
       "var gd = document.getElementById('05bad982-5786-48fc-875d-892a147fac5d');\n",
       "var x = new MutationObserver(function (mutations, observer) {{\n",
       "        var display = window.getComputedStyle(gd).display;\n",
       "        if (!display || display === 'none') {{\n",
       "            console.log([gd, 'removed!']);\n",
       "            Plotly.purge(gd);\n",
       "            observer.disconnect();\n",
       "        }}\n",
       "}});\n",
       "\n",
       "// Listen for the removal of the full notebook cells\n",
       "var notebookContainer = gd.closest('#notebook-container');\n",
       "if (notebookContainer) {{\n",
       "    x.observe(notebookContainer, {childList: true});\n",
       "}}\n",
       "\n",
       "// Listen for the clearing of the current output cell\n",
       "var outputEl = gd.closest('.output');\n",
       "if (outputEl) {{\n",
       "    x.observe(outputEl, {childList: true});\n",
       "}}\n",
       "\n",
       "                        })                };                });            </script>        </div>"
      ]
     },
     "metadata": {},
     "output_type": "display_data"
    }
   ],
   "source": [
    "per_layer_residual, labels = clean_cache.decompose_resid(layer=-1, pos_slice=-1, return_labels=True)\n",
    "per_layer_logit_diffs = residual_stack_to_logit_diff(per_layer_residual, clean_cache)\n",
    "\n",
    "line(per_layer_logit_diffs, hover_name=labels, title=\"Logit Difference From Each Layer\")"
   ]
  },
  {
   "attachments": {},
   "cell_type": "markdown",
   "id": "420b6bb0",
   "metadata": {},
   "source": [
    "#### Head Attribution"
   ]
  },
  {
   "cell_type": "code",
   "execution_count": 37,
   "id": "54c981c5",
   "metadata": {},
   "outputs": [
    {
     "name": "stdout",
     "output_type": "stream",
     "text": [
      "Tried to stack head results when they weren't cached. Computing head results now\n"
     ]
    },
    {
     "data": {
      "application/vnd.plotly.v1+json": {
       "config": {
        "plotlyServerURL": "https://plot.ly"
       },
       "data": [
        {
         "coloraxis": "coloraxis",
         "hovertemplate": "Head: %{x}<br>Layer: %{y}<br>color: %{z}<extra></extra>",
         "name": "0",
         "type": "heatmap",
         "xaxis": "x",
         "yaxis": "y",
         "z": [
          [
           -0.00001724702633509878,
           0.00021940108854323626,
           -0.0004895926686003804,
           -0.00008795050962362438,
           -0.00019943657389376312,
           0.00008832826279103756,
           -0.000012392612916301005,
           0.0016942109214141965,
           0.0005168569623492658,
           -0.00014996597019489855,
           0.0007192361517809331,
           0.00018332820036448538,
           -0.00002989466520375572,
           -0.00009488411160418764,
           0.000025543444280629046,
           0.00003214890239178203
          ],
          [
           -0.0002327659458387643,
           6.286770144470211e-7,
           0.001178703154437244,
           0.00016871441039256752,
           0.000039475809899158776,
           0.0004069842107128352,
           0.00033230482949875295,
           0.0007186054717749357,
           -0.00013867694360669702,
           -0.000011902729056600947,
           -0.0007068694685585797,
           -0.00009083151235245168,
           -0.00045590667286887765,
           0.0002416001952951774,
           0.00014620233559980989,
           -0.0002524379815440625
          ],
          [
           0.00002621876774355769,
           -0.0007916907779872417,
           0.00011070787877542898,
           -0.00014082925918046385,
           0.00003478349754004739,
           -0.00004781119787367061,
           0.00003468712748144753,
           0.00005443373083835468,
           -0.00022283046564552933,
           -0.001522438949905336,
           0.00048345618415623903,
           0.00003585049125831574,
           0.0004597220686264336,
           0.00021334133634809405,
           0.00029436504701152444,
           0.00012739402882289141
          ],
          [
           -0.00011703697236953303,
           -0.00021436798851937056,
           0.0005611827946268022,
           -0.00015230412827804685,
           0.0004172275948803872,
           -0.00013554372708313167,
           -0.0005686574149876833,
           -0.0002082599967252463,
           0.00043559196637943387,
           0.0006719740340486169,
           -0.0011772456346079707,
           -0.00003743910929188132,
           -0.0005710392142646015,
           0.000053056603064760566,
           0.0007120661903172731,
           0.0007129911100491881
          ],
          [
           0.0003365108568686992,
           0.00008231383981183171,
           -0.001081251772120595,
           0.000325372617226094,
           0.0001066528566298075,
           0.00009227111877407879,
           0.000068649671447929,
           0.00024045778263825923,
           0.00002189509177696891,
           -0.0006413877126760781,
           -0.00017192355880979449,
           -0.0003299720410723239,
           0.00018482339510228485,
           0.0018665097886696458,
           -0.0006022360757924616,
           -0.0005090489285066724
          ],
          [
           -0.0003628532576840371,
           -0.0011872798204421997,
           -0.0009654888417571783,
           0.000279916450381279,
           0.00009206981485476717,
           -0.0007228970061987638,
           -0.00008646924834465608,
           -0.00016058055916801095,
           -0.000521951646078378,
           -0.00012158101162640378,
           0.00041188354953192174,
           0.0000890875089680776,
           -0.0013115308247506618,
           -0.00024305004626512527,
           0.0004948427085764706,
           -0.002083834260702133
          ],
          [
           -0.00030825717840343714,
           0.0008445809362456203,
           -0.0015058079734444618,
           -0.00003715241837198846,
           0.001373709412291646,
           -0.0010855846339836717,
           -0.0000022103695300756954,
           0.0008467278094030917,
           0.0006637756014242768,
           0.002720125252380967,
           -0.0006990547408349812,
           0.004981211386620998,
           -0.0036311878357082605,
           0.0015328616136685014,
           0.0033692270517349243,
           -0.000544942740816623
          ],
          [
           -0.003524653147906065,
           0.00046787119936197996,
           0.00017578880942892283,
           4.887697357958132e-8,
           0.000542461930308491,
           0.0013596838107332587,
           -0.005772588308900595,
           -0.034942399710416794,
           0.0006431029760278761,
           0.000245436531258747,
           -0.0010400849860161543,
           0.016829656437039375,
           0.0005545411258935928,
           -0.003944459371268749,
           -0.002179936273023486,
           0.002427760511636734
          ],
          [
           0.0007444514194503427,
           -0.0017101786797866225,
           0.02976912446320057,
           -0.00040832077502273023,
           0.0009762481786310673,
           -0.002367932815104723,
           0.0014787340769544244,
           0.0040079629980027676,
           -0.0011292793788015842,
           -0.0011167529737576842,
           -0.0380387157201767,
           0.0026127106975764036,
           -0.000995244481600821,
           0.0011016038479283452,
           0.0017591650830581784,
           -0.00026519977836869657
          ],
          [
           -0.01950555481016636,
           0.0011504772119224072,
           0.0008996233809739351,
           0.007629694417119026,
           -0.0007015957380644977,
           0.004869117867201567,
           0.0016560284420847893,
           0.0003871840890496969,
           -0.009158415719866753,
           -0.00804168451577425,
           0.00017065476276911795,
           0.014873772859573364,
           -0.0002785671385936439,
           -0.0007387426448985934,
           -0.0013719862326979637,
           0.005817769560962915
          ],
          [
           0.0002658205630723387,
           0.0013127406127750874,
           -0.0001859899639384821,
           0.00028485246002674103,
           0.010650183074176311,
           -0.04317650571465492,
           -0.0029803747311234474,
           -0.008971710689365864,
           -0.00010565582488197833,
           0.0001796488941181451,
           0.0013090413995087147,
           0.0029825568199157715,
           0.0004245563759468496,
           0.03126758709549904,
           0.001956154126673937,
           -0.0042997077107429504
          ],
          [
           0.000851301068905741,
           0.21850956976413727,
           -0.0003192645963281393,
           -0.0025323990266770124,
           0.0008763865334913135,
           -0.00020698650041595101,
           0.008818687871098518,
           0.00041629018960520625,
           0.016827194020152092,
           0.0009321912657469511,
           -0.0026502483524382114,
           0.003967589698731899,
           -0.00022092297149356455,
           0.00003493628173600882,
           0.00002985159881063737,
           -0.01588549092411995
          ],
          [
           -0.0012094039702787995,
           -0.0038539923261851072,
           0.005178340245038271,
           -0.003831498557701707,
           -0.0015142724150791764,
           -0.00750673608854413,
           0.0006367823225446045,
           -0.026887767016887665,
           0.008815194480121136,
           0.00018030455976258963,
           0.0027944406028836966,
           -0.00046576245222240686,
           0.0022249501198530197,
           -0.000018252372683491558,
           -0.00007680171256652102,
           0.0021514720283448696
          ],
          [
           0.02548043243587017,
           -0.0017454874468967319,
           -0.013377267867326736,
           -0.025422492995858192,
           0.00009234809112967923,
           0.0014056334039196372,
           0.01445017196238041,
           -0.0020428358111530542,
           0.006970516871660948,
           -0.001017484930343926,
           0.00000725618929209304,
           -0.005340587813407183,
           -0.00033484864979982376,
           0.08217503875494003,
           0.0016979052452370524,
           -0.0001133745172410272
          ],
          [
           0.016486307606101036,
           -0.0011719234753400087,
           0.006370686460286379,
           0.00002056596531474497,
           0.0006499107112176716,
           -0.002469447674229741,
           0.007756642997264862,
           0.002616924000903964,
           0.000364782870747149,
           0.0021842808928340673,
           0.002150816610082984,
           0.0016802616883069277,
           0.018486544489860535,
           0.00076644541695714,
           -0.01208867784589529,
           0.0009591701673343778
          ],
          [
           -0.0030619713943451643,
           -0.0025969091802835464,
           -0.00011079820251325145,
           0.0011486049043014646,
           0.00008334781159646809,
           0.0002984010789077729,
           -0.006477062124758959,
           0.0003409838827792555,
           -0.006861396599560976,
           0.00006853318336652592,
           -0.0013033082941547036,
           -0.0001466790126869455,
           -0.00865339394658804,
           -0.0004380944883450866,
           0.0028032923582941294,
           0.001128833624534309
          ],
          [
           0.005665919743478298,
           0.0029300495516508818,
           0.00002321904685231857,
           0.0011868549045175314,
           0.003395675215870142,
           -0.0010576073545962572,
           0.007495922967791557,
           -0.007799649611115456,
           0.00005613220855593681,
           0.000378436001483351,
           0.0026543219573795795,
           -0.001181015046313405,
           -0.006719945929944515,
           0.0012996476143598557,
           0.00011670467210933566,
           -0.00027243190561421216
          ],
          [
           0.0005236614379100502,
           0.0006582955247722566,
           0.0000352011265931651,
           0.000015393288776976988,
           -0.011293137446045876,
           0.0000635746109765023,
           -0.0000015132326325328904,
           0.002748994855210185,
           0.0032091953326016665,
           -0.00011401249503251165,
           -0.0005093490472063422,
           -0.0032946448773145676,
           -0.00007038468902464956,
           -0.0004929012502543628,
           -0.0002040868712356314,
           -0.0010447553358972073
          ],
          [
           -0.0013544840039685369,
           0.0007154493359848857,
           0.057691458612680435,
           -0.000379011791665107,
           0.0009636477334424853,
           -0.0005965907475911081,
           0.0020804654341191053,
           -0.000019221728507545777,
           -0.0013746509794145823,
           -0.0012389138573780656,
           -0.018020570278167725,
           -0.0009007332264445722,
           0.00015383740537799895,
           -0.0000804240771685727,
           -0.00005763294029748067,
           -0.0015695792390033603
          ],
          [
           -0.0002839687222149223,
           0.0002503338910173625,
           0.002366785891354084,
           -0.0004628855094779283,
           -0.001572090550325811,
           0.0015140530886128545,
           0.0009959619492292404,
           0.00031951634446159005,
           -0.0018496995326131582,
           -0.000029651357181137428,
           0.0005952641367912292,
           0.0013055253075435758,
           0.0002582947490736842,
           -0.001886064768768847,
           -0.0006297032814472914,
           -0.006811436265707016
          ],
          [
           0.002672928385436535,
           -0.0008921070257201791,
           -0.0015964689664542675,
           -0.005874043330550194,
           0.0010035732993856072,
           -0.0011075928341597319,
           0.0012471596710383892,
           0.000035250955988885835,
           -0.0006714848568663001,
           -0.006190188694745302,
           0.000476752407848835,
           -0.00009314278577221557,
           -0.000017267777366214432,
           0.00028183922404423356,
           -0.001319871749728918,
           0.0034792458172887564
          ],
          [
           0.04133264347910881,
           0.0015426651807501912,
           -0.0007059605559334159,
           -0.00005555326788453385,
           -0.0018202678766101599,
           0.0019337940029799938,
           -0.0031681894324719906,
           -0.00030168506782501936,
           -0.00010129417933057994,
           -0.0024427848402410746,
           0.0003222221275791526,
           -0.013282115571200848,
           -0.000025204763005604036,
           0.0004204991564620286,
           0.03549225255846977,
           0.0002901486586779356
          ],
          [
           0.003214702708646655,
           -0.00003198553531547077,
           0.0016099590575322509,
           0.00034213197068311274,
           0.0004899909254163504,
           0.0000852110460982658,
           0.00019225236610509455,
           -0.0011527964379638433,
           -0.00022193753102328628,
           -0.000891636882442981,
           -0.0000406669350923039,
           -0.00012135592987760901,
           0.0028700612019747496,
           0.00003945498610846698,
           -0.0008987622568383813,
           0.000027593792765401304
          ],
          [
           0.0008199969888664782,
           -0.0008823138778097928,
           -0.0009367347229272127,
           0.00006887216295581311,
           -0.0006272535538300872,
           0.0005989914061501622,
           0.011239008978009224,
           0.0000024847063286870252,
           0.000008250182872870937,
           0.014671212993562222,
           0.002263873815536499,
           -0.0007265717722475529,
           0.000024353983462788165,
           0.00016487530956510454,
           0.0009299666853621602,
           0.0010041778441518545
          ]
         ]
        }
       ],
       "layout": {
        "coloraxis": {
         "cmid": 0,
         "colorscale": [
          [
           0,
           "rgb(103,0,31)"
          ],
          [
           0.1,
           "rgb(178,24,43)"
          ],
          [
           0.2,
           "rgb(214,96,77)"
          ],
          [
           0.3,
           "rgb(244,165,130)"
          ],
          [
           0.4,
           "rgb(253,219,199)"
          ],
          [
           0.5,
           "rgb(247,247,247)"
          ],
          [
           0.6,
           "rgb(209,229,240)"
          ],
          [
           0.7,
           "rgb(146,197,222)"
          ],
          [
           0.8,
           "rgb(67,147,195)"
          ],
          [
           0.9,
           "rgb(33,102,172)"
          ],
          [
           1,
           "rgb(5,48,97)"
          ]
         ]
        },
        "template": {
         "data": {
          "bar": [
           {
            "error_x": {
             "color": "#2a3f5f"
            },
            "error_y": {
             "color": "#2a3f5f"
            },
            "marker": {
             "line": {
              "color": "#E5ECF6",
              "width": 0.5
             },
             "pattern": {
              "fillmode": "overlay",
              "size": 10,
              "solidity": 0.2
             }
            },
            "type": "bar"
           }
          ],
          "barpolar": [
           {
            "marker": {
             "line": {
              "color": "#E5ECF6",
              "width": 0.5
             },
             "pattern": {
              "fillmode": "overlay",
              "size": 10,
              "solidity": 0.2
             }
            },
            "type": "barpolar"
           }
          ],
          "carpet": [
           {
            "aaxis": {
             "endlinecolor": "#2a3f5f",
             "gridcolor": "white",
             "linecolor": "white",
             "minorgridcolor": "white",
             "startlinecolor": "#2a3f5f"
            },
            "baxis": {
             "endlinecolor": "#2a3f5f",
             "gridcolor": "white",
             "linecolor": "white",
             "minorgridcolor": "white",
             "startlinecolor": "#2a3f5f"
            },
            "type": "carpet"
           }
          ],
          "choropleth": [
           {
            "colorbar": {
             "outlinewidth": 0,
             "ticks": ""
            },
            "type": "choropleth"
           }
          ],
          "contour": [
           {
            "colorbar": {
             "outlinewidth": 0,
             "ticks": ""
            },
            "colorscale": [
             [
              0,
              "#0d0887"
             ],
             [
              0.1111111111111111,
              "#46039f"
             ],
             [
              0.2222222222222222,
              "#7201a8"
             ],
             [
              0.3333333333333333,
              "#9c179e"
             ],
             [
              0.4444444444444444,
              "#bd3786"
             ],
             [
              0.5555555555555556,
              "#d8576b"
             ],
             [
              0.6666666666666666,
              "#ed7953"
             ],
             [
              0.7777777777777778,
              "#fb9f3a"
             ],
             [
              0.8888888888888888,
              "#fdca26"
             ],
             [
              1,
              "#f0f921"
             ]
            ],
            "type": "contour"
           }
          ],
          "contourcarpet": [
           {
            "colorbar": {
             "outlinewidth": 0,
             "ticks": ""
            },
            "type": "contourcarpet"
           }
          ],
          "heatmap": [
           {
            "colorbar": {
             "outlinewidth": 0,
             "ticks": ""
            },
            "colorscale": [
             [
              0,
              "#0d0887"
             ],
             [
              0.1111111111111111,
              "#46039f"
             ],
             [
              0.2222222222222222,
              "#7201a8"
             ],
             [
              0.3333333333333333,
              "#9c179e"
             ],
             [
              0.4444444444444444,
              "#bd3786"
             ],
             [
              0.5555555555555556,
              "#d8576b"
             ],
             [
              0.6666666666666666,
              "#ed7953"
             ],
             [
              0.7777777777777778,
              "#fb9f3a"
             ],
             [
              0.8888888888888888,
              "#fdca26"
             ],
             [
              1,
              "#f0f921"
             ]
            ],
            "type": "heatmap"
           }
          ],
          "heatmapgl": [
           {
            "colorbar": {
             "outlinewidth": 0,
             "ticks": ""
            },
            "colorscale": [
             [
              0,
              "#0d0887"
             ],
             [
              0.1111111111111111,
              "#46039f"
             ],
             [
              0.2222222222222222,
              "#7201a8"
             ],
             [
              0.3333333333333333,
              "#9c179e"
             ],
             [
              0.4444444444444444,
              "#bd3786"
             ],
             [
              0.5555555555555556,
              "#d8576b"
             ],
             [
              0.6666666666666666,
              "#ed7953"
             ],
             [
              0.7777777777777778,
              "#fb9f3a"
             ],
             [
              0.8888888888888888,
              "#fdca26"
             ],
             [
              1,
              "#f0f921"
             ]
            ],
            "type": "heatmapgl"
           }
          ],
          "histogram": [
           {
            "marker": {
             "pattern": {
              "fillmode": "overlay",
              "size": 10,
              "solidity": 0.2
             }
            },
            "type": "histogram"
           }
          ],
          "histogram2d": [
           {
            "colorbar": {
             "outlinewidth": 0,
             "ticks": ""
            },
            "colorscale": [
             [
              0,
              "#0d0887"
             ],
             [
              0.1111111111111111,
              "#46039f"
             ],
             [
              0.2222222222222222,
              "#7201a8"
             ],
             [
              0.3333333333333333,
              "#9c179e"
             ],
             [
              0.4444444444444444,
              "#bd3786"
             ],
             [
              0.5555555555555556,
              "#d8576b"
             ],
             [
              0.6666666666666666,
              "#ed7953"
             ],
             [
              0.7777777777777778,
              "#fb9f3a"
             ],
             [
              0.8888888888888888,
              "#fdca26"
             ],
             [
              1,
              "#f0f921"
             ]
            ],
            "type": "histogram2d"
           }
          ],
          "histogram2dcontour": [
           {
            "colorbar": {
             "outlinewidth": 0,
             "ticks": ""
            },
            "colorscale": [
             [
              0,
              "#0d0887"
             ],
             [
              0.1111111111111111,
              "#46039f"
             ],
             [
              0.2222222222222222,
              "#7201a8"
             ],
             [
              0.3333333333333333,
              "#9c179e"
             ],
             [
              0.4444444444444444,
              "#bd3786"
             ],
             [
              0.5555555555555556,
              "#d8576b"
             ],
             [
              0.6666666666666666,
              "#ed7953"
             ],
             [
              0.7777777777777778,
              "#fb9f3a"
             ],
             [
              0.8888888888888888,
              "#fdca26"
             ],
             [
              1,
              "#f0f921"
             ]
            ],
            "type": "histogram2dcontour"
           }
          ],
          "mesh3d": [
           {
            "colorbar": {
             "outlinewidth": 0,
             "ticks": ""
            },
            "type": "mesh3d"
           }
          ],
          "parcoords": [
           {
            "line": {
             "colorbar": {
              "outlinewidth": 0,
              "ticks": ""
             }
            },
            "type": "parcoords"
           }
          ],
          "pie": [
           {
            "automargin": true,
            "type": "pie"
           }
          ],
          "scatter": [
           {
            "fillpattern": {
             "fillmode": "overlay",
             "size": 10,
             "solidity": 0.2
            },
            "type": "scatter"
           }
          ],
          "scatter3d": [
           {
            "line": {
             "colorbar": {
              "outlinewidth": 0,
              "ticks": ""
             }
            },
            "marker": {
             "colorbar": {
              "outlinewidth": 0,
              "ticks": ""
             }
            },
            "type": "scatter3d"
           }
          ],
          "scattercarpet": [
           {
            "marker": {
             "colorbar": {
              "outlinewidth": 0,
              "ticks": ""
             }
            },
            "type": "scattercarpet"
           }
          ],
          "scattergeo": [
           {
            "marker": {
             "colorbar": {
              "outlinewidth": 0,
              "ticks": ""
             }
            },
            "type": "scattergeo"
           }
          ],
          "scattergl": [
           {
            "marker": {
             "colorbar": {
              "outlinewidth": 0,
              "ticks": ""
             }
            },
            "type": "scattergl"
           }
          ],
          "scattermapbox": [
           {
            "marker": {
             "colorbar": {
              "outlinewidth": 0,
              "ticks": ""
             }
            },
            "type": "scattermapbox"
           }
          ],
          "scatterpolar": [
           {
            "marker": {
             "colorbar": {
              "outlinewidth": 0,
              "ticks": ""
             }
            },
            "type": "scatterpolar"
           }
          ],
          "scatterpolargl": [
           {
            "marker": {
             "colorbar": {
              "outlinewidth": 0,
              "ticks": ""
             }
            },
            "type": "scatterpolargl"
           }
          ],
          "scatterternary": [
           {
            "marker": {
             "colorbar": {
              "outlinewidth": 0,
              "ticks": ""
             }
            },
            "type": "scatterternary"
           }
          ],
          "surface": [
           {
            "colorbar": {
             "outlinewidth": 0,
             "ticks": ""
            },
            "colorscale": [
             [
              0,
              "#0d0887"
             ],
             [
              0.1111111111111111,
              "#46039f"
             ],
             [
              0.2222222222222222,
              "#7201a8"
             ],
             [
              0.3333333333333333,
              "#9c179e"
             ],
             [
              0.4444444444444444,
              "#bd3786"
             ],
             [
              0.5555555555555556,
              "#d8576b"
             ],
             [
              0.6666666666666666,
              "#ed7953"
             ],
             [
              0.7777777777777778,
              "#fb9f3a"
             ],
             [
              0.8888888888888888,
              "#fdca26"
             ],
             [
              1,
              "#f0f921"
             ]
            ],
            "type": "surface"
           }
          ],
          "table": [
           {
            "cells": {
             "fill": {
              "color": "#EBF0F8"
             },
             "line": {
              "color": "white"
             }
            },
            "header": {
             "fill": {
              "color": "#C8D4E3"
             },
             "line": {
              "color": "white"
             }
            },
            "type": "table"
           }
          ]
         },
         "layout": {
          "annotationdefaults": {
           "arrowcolor": "#2a3f5f",
           "arrowhead": 0,
           "arrowwidth": 1
          },
          "autotypenumbers": "strict",
          "coloraxis": {
           "colorbar": {
            "outlinewidth": 0,
            "ticks": ""
           }
          },
          "colorscale": {
           "diverging": [
            [
             0,
             "#8e0152"
            ],
            [
             0.1,
             "#c51b7d"
            ],
            [
             0.2,
             "#de77ae"
            ],
            [
             0.3,
             "#f1b6da"
            ],
            [
             0.4,
             "#fde0ef"
            ],
            [
             0.5,
             "#f7f7f7"
            ],
            [
             0.6,
             "#e6f5d0"
            ],
            [
             0.7,
             "#b8e186"
            ],
            [
             0.8,
             "#7fbc41"
            ],
            [
             0.9,
             "#4d9221"
            ],
            [
             1,
             "#276419"
            ]
           ],
           "sequential": [
            [
             0,
             "#0d0887"
            ],
            [
             0.1111111111111111,
             "#46039f"
            ],
            [
             0.2222222222222222,
             "#7201a8"
            ],
            [
             0.3333333333333333,
             "#9c179e"
            ],
            [
             0.4444444444444444,
             "#bd3786"
            ],
            [
             0.5555555555555556,
             "#d8576b"
            ],
            [
             0.6666666666666666,
             "#ed7953"
            ],
            [
             0.7777777777777778,
             "#fb9f3a"
            ],
            [
             0.8888888888888888,
             "#fdca26"
            ],
            [
             1,
             "#f0f921"
            ]
           ],
           "sequentialminus": [
            [
             0,
             "#0d0887"
            ],
            [
             0.1111111111111111,
             "#46039f"
            ],
            [
             0.2222222222222222,
             "#7201a8"
            ],
            [
             0.3333333333333333,
             "#9c179e"
            ],
            [
             0.4444444444444444,
             "#bd3786"
            ],
            [
             0.5555555555555556,
             "#d8576b"
            ],
            [
             0.6666666666666666,
             "#ed7953"
            ],
            [
             0.7777777777777778,
             "#fb9f3a"
            ],
            [
             0.8888888888888888,
             "#fdca26"
            ],
            [
             1,
             "#f0f921"
            ]
           ]
          },
          "colorway": [
           "#636efa",
           "#EF553B",
           "#00cc96",
           "#ab63fa",
           "#FFA15A",
           "#19d3f3",
           "#FF6692",
           "#B6E880",
           "#FF97FF",
           "#FECB52"
          ],
          "font": {
           "color": "#2a3f5f"
          },
          "geo": {
           "bgcolor": "white",
           "lakecolor": "white",
           "landcolor": "#E5ECF6",
           "showlakes": true,
           "showland": true,
           "subunitcolor": "white"
          },
          "hoverlabel": {
           "align": "left"
          },
          "hovermode": "closest",
          "mapbox": {
           "style": "light"
          },
          "paper_bgcolor": "white",
          "plot_bgcolor": "#E5ECF6",
          "polar": {
           "angularaxis": {
            "gridcolor": "white",
            "linecolor": "white",
            "ticks": ""
           },
           "bgcolor": "#E5ECF6",
           "radialaxis": {
            "gridcolor": "white",
            "linecolor": "white",
            "ticks": ""
           }
          },
          "scene": {
           "xaxis": {
            "backgroundcolor": "#E5ECF6",
            "gridcolor": "white",
            "gridwidth": 2,
            "linecolor": "white",
            "showbackground": true,
            "ticks": "",
            "zerolinecolor": "white"
           },
           "yaxis": {
            "backgroundcolor": "#E5ECF6",
            "gridcolor": "white",
            "gridwidth": 2,
            "linecolor": "white",
            "showbackground": true,
            "ticks": "",
            "zerolinecolor": "white"
           },
           "zaxis": {
            "backgroundcolor": "#E5ECF6",
            "gridcolor": "white",
            "gridwidth": 2,
            "linecolor": "white",
            "showbackground": true,
            "ticks": "",
            "zerolinecolor": "white"
           }
          },
          "shapedefaults": {
           "line": {
            "color": "#2a3f5f"
           }
          },
          "ternary": {
           "aaxis": {
            "gridcolor": "white",
            "linecolor": "white",
            "ticks": ""
           },
           "baxis": {
            "gridcolor": "white",
            "linecolor": "white",
            "ticks": ""
           },
           "bgcolor": "#E5ECF6",
           "caxis": {
            "gridcolor": "white",
            "linecolor": "white",
            "ticks": ""
           }
          },
          "title": {
           "x": 0.05
          },
          "xaxis": {
           "automargin": true,
           "gridcolor": "white",
           "linecolor": "white",
           "ticks": "",
           "title": {
            "standoff": 15
           },
           "zerolinecolor": "white",
           "zerolinewidth": 2
          },
          "yaxis": {
           "automargin": true,
           "gridcolor": "white",
           "linecolor": "white",
           "ticks": "",
           "title": {
            "standoff": 15
           },
           "zerolinecolor": "white",
           "zerolinewidth": 2
          }
         }
        },
        "title": {
         "text": "Logit Difference From Each Head"
        },
        "xaxis": {
         "anchor": "y",
         "constrain": "domain",
         "domain": [
          0,
          1
         ],
         "scaleanchor": "y",
         "title": {
          "text": "Head"
         }
        },
        "yaxis": {
         "anchor": "x",
         "autorange": "reversed",
         "constrain": "domain",
         "domain": [
          0,
          1
         ],
         "title": {
          "text": "Layer"
         }
        }
       }
      },
      "text/html": [
       "<div>                            <div id=\"6e550445-b8ef-4fa1-988a-16285469a2c2\" class=\"plotly-graph-div\" style=\"height:525px; width:100%;\"></div>            <script type=\"text/javascript\">                require([\"plotly\"], function(Plotly) {                    window.PLOTLYENV=window.PLOTLYENV || {};                                    if (document.getElementById(\"6e550445-b8ef-4fa1-988a-16285469a2c2\")) {                    Plotly.newPlot(                        \"6e550445-b8ef-4fa1-988a-16285469a2c2\",                        [{\"coloraxis\":\"coloraxis\",\"name\":\"0\",\"z\":[[-1.724702633509878e-05,0.00021940108854323626,-0.0004895926686003804,-8.795050962362438e-05,-0.00019943657389376312,8.832826279103756e-05,-1.2392612916301005e-05,0.0016942109214141965,0.0005168569623492658,-0.00014996597019489855,0.0007192361517809331,0.00018332820036448538,-2.989466520375572e-05,-9.488411160418764e-05,2.5543444280629046e-05,3.214890239178203e-05],[-0.0002327659458387643,6.286770144470211e-07,0.001178703154437244,0.00016871441039256752,3.9475809899158776e-05,0.0004069842107128352,0.00033230482949875295,0.0007186054717749357,-0.00013867694360669702,-1.1902729056600947e-05,-0.0007068694685585797,-9.083151235245168e-05,-0.00045590667286887765,0.0002416001952951774,0.00014620233559980989,-0.0002524379815440625],[2.621876774355769e-05,-0.0007916907779872417,0.00011070787877542898,-0.00014082925918046385,3.478349754004739e-05,-4.781119787367061e-05,3.468712748144753e-05,5.443373083835468e-05,-0.00022283046564552933,-0.001522438949905336,0.00048345618415623903,3.585049125831574e-05,0.0004597220686264336,0.00021334133634809405,0.00029436504701152444,0.00012739402882289141],[-0.00011703697236953303,-0.00021436798851937056,0.0005611827946268022,-0.00015230412827804685,0.0004172275948803872,-0.00013554372708313167,-0.0005686574149876833,-0.0002082599967252463,0.00043559196637943387,0.0006719740340486169,-0.0011772456346079707,-3.743910929188132e-05,-0.0005710392142646015,5.3056603064760566e-05,0.0007120661903172731,0.0007129911100491881],[0.0003365108568686992,8.231383981183171e-05,-0.001081251772120595,0.000325372617226094,0.0001066528566298075,9.227111877407879e-05,6.8649671447929e-05,0.00024045778263825923,2.189509177696891e-05,-0.0006413877126760781,-0.00017192355880979449,-0.0003299720410723239,0.00018482339510228485,0.0018665097886696458,-0.0006022360757924616,-0.0005090489285066724],[-0.0003628532576840371,-0.0011872798204421997,-0.0009654888417571783,0.000279916450381279,9.206981485476717e-05,-0.0007228970061987638,-8.646924834465608e-05,-0.00016058055916801095,-0.000521951646078378,-0.00012158101162640378,0.00041188354953192174,8.90875089680776e-05,-0.0013115308247506618,-0.00024305004626512527,0.0004948427085764706,-0.002083834260702133],[-0.00030825717840343714,0.0008445809362456203,-0.0015058079734444618,-3.715241837198846e-05,0.001373709412291646,-0.0010855846339836717,-2.2103695300756954e-06,0.0008467278094030917,0.0006637756014242768,0.002720125252380967,-0.0006990547408349812,0.004981211386620998,-0.0036311878357082605,0.0015328616136685014,0.0033692270517349243,-0.000544942740816623],[-0.003524653147906065,0.00046787119936197996,0.00017578880942892283,4.887697357958132e-08,0.000542461930308491,0.0013596838107332587,-0.005772588308900595,-0.034942399710416794,0.0006431029760278761,0.000245436531258747,-0.0010400849860161543,0.016829656437039375,0.0005545411258935928,-0.003944459371268749,-0.002179936273023486,0.002427760511636734],[0.0007444514194503427,-0.0017101786797866225,0.02976912446320057,-0.00040832077502273023,0.0009762481786310673,-0.002367932815104723,0.0014787340769544244,0.0040079629980027676,-0.0011292793788015842,-0.0011167529737576842,-0.0380387157201767,0.0026127106975764036,-0.000995244481600821,0.0011016038479283452,0.0017591650830581784,-0.00026519977836869657],[-0.01950555481016636,0.0011504772119224072,0.0008996233809739351,0.007629694417119026,-0.0007015957380644977,0.004869117867201567,0.0016560284420847893,0.0003871840890496969,-0.009158415719866753,-0.00804168451577425,0.00017065476276911795,0.014873772859573364,-0.0002785671385936439,-0.0007387426448985934,-0.0013719862326979637,0.005817769560962915],[0.0002658205630723387,0.0013127406127750874,-0.0001859899639384821,0.00028485246002674103,0.010650183074176311,-0.04317650571465492,-0.0029803747311234474,-0.008971710689365864,-0.00010565582488197833,0.0001796488941181451,0.0013090413995087147,0.0029825568199157715,0.0004245563759468496,0.03126758709549904,0.001956154126673937,-0.0042997077107429504],[0.000851301068905741,0.21850956976413727,-0.0003192645963281393,-0.0025323990266770124,0.0008763865334913135,-0.00020698650041595101,0.008818687871098518,0.00041629018960520625,0.016827194020152092,0.0009321912657469511,-0.0026502483524382114,0.003967589698731899,-0.00022092297149356455,3.493628173600882e-05,2.985159881063737e-05,-0.01588549092411995],[-0.0012094039702787995,-0.0038539923261851072,0.005178340245038271,-0.003831498557701707,-0.0015142724150791764,-0.00750673608854413,0.0006367823225446045,-0.026887767016887665,0.008815194480121136,0.00018030455976258963,0.0027944406028836966,-0.00046576245222240686,0.0022249501198530197,-1.8252372683491558e-05,-7.680171256652102e-05,0.0021514720283448696],[0.02548043243587017,-0.0017454874468967319,-0.013377267867326736,-0.025422492995858192,9.234809112967923e-05,0.0014056334039196372,0.01445017196238041,-0.0020428358111530542,0.006970516871660948,-0.001017484930343926,7.25618929209304e-06,-0.005340587813407183,-0.00033484864979982376,0.08217503875494003,0.0016979052452370524,-0.0001133745172410272],[0.016486307606101036,-0.0011719234753400087,0.006370686460286379,2.056596531474497e-05,0.0006499107112176716,-0.002469447674229741,0.007756642997264862,0.002616924000903964,0.000364782870747149,0.0021842808928340673,0.002150816610082984,0.0016802616883069277,0.018486544489860535,0.00076644541695714,-0.01208867784589529,0.0009591701673343778],[-0.0030619713943451643,-0.0025969091802835464,-0.00011079820251325145,0.0011486049043014646,8.334781159646809e-05,0.0002984010789077729,-0.006477062124758959,0.0003409838827792555,-0.006861396599560976,6.853318336652592e-05,-0.0013033082941547036,-0.0001466790126869455,-0.00865339394658804,-0.0004380944883450866,0.0028032923582941294,0.001128833624534309],[0.005665919743478298,0.0029300495516508818,2.321904685231857e-05,0.0011868549045175314,0.003395675215870142,-0.0010576073545962572,0.007495922967791557,-0.007799649611115456,5.613220855593681e-05,0.000378436001483351,0.0026543219573795795,-0.001181015046313405,-0.006719945929944515,0.0012996476143598557,0.00011670467210933566,-0.00027243190561421216],[0.0005236614379100502,0.0006582955247722566,3.52011265931651e-05,1.5393288776976988e-05,-0.011293137446045876,6.35746109765023e-05,-1.5132326325328904e-06,0.002748994855210185,0.0032091953326016665,-0.00011401249503251165,-0.0005093490472063422,-0.0032946448773145676,-7.038468902464956e-05,-0.0004929012502543628,-0.0002040868712356314,-0.0010447553358972073],[-0.0013544840039685369,0.0007154493359848857,0.057691458612680435,-0.000379011791665107,0.0009636477334424853,-0.0005965907475911081,0.0020804654341191053,-1.9221728507545777e-05,-0.0013746509794145823,-0.0012389138573780656,-0.018020570278167725,-0.0009007332264445722,0.00015383740537799895,-8.04240771685727e-05,-5.763294029748067e-05,-0.0015695792390033603],[-0.0002839687222149223,0.0002503338910173625,0.002366785891354084,-0.0004628855094779283,-0.001572090550325811,0.0015140530886128545,0.0009959619492292404,0.00031951634446159005,-0.0018496995326131582,-2.9651357181137428e-05,0.0005952641367912292,0.0013055253075435758,0.0002582947490736842,-0.001886064768768847,-0.0006297032814472914,-0.006811436265707016],[0.002672928385436535,-0.0008921070257201791,-0.0015964689664542675,-0.005874043330550194,0.0010035732993856072,-0.0011075928341597319,0.0012471596710383892,3.5250955988885835e-05,-0.0006714848568663001,-0.006190188694745302,0.000476752407848835,-9.314278577221557e-05,-1.7267777366214432e-05,0.00028183922404423356,-0.001319871749728918,0.0034792458172887564],[0.04133264347910881,0.0015426651807501912,-0.0007059605559334159,-5.555326788453385e-05,-0.0018202678766101599,0.0019337940029799938,-0.0031681894324719906,-0.00030168506782501936,-0.00010129417933057994,-0.0024427848402410746,0.0003222221275791526,-0.013282115571200848,-2.5204763005604036e-05,0.0004204991564620286,0.03549225255846977,0.0002901486586779356],[0.003214702708646655,-3.198553531547077e-05,0.0016099590575322509,0.00034213197068311274,0.0004899909254163504,8.52110460982658e-05,0.00019225236610509455,-0.0011527964379638433,-0.00022193753102328628,-0.000891636882442981,-4.06669350923039e-05,-0.00012135592987760901,0.0028700612019747496,3.945498610846698e-05,-0.0008987622568383813,2.7593792765401304e-05],[0.0008199969888664782,-0.0008823138778097928,-0.0009367347229272127,6.887216295581311e-05,-0.0006272535538300872,0.0005989914061501622,0.011239008978009224,2.4847063286870252e-06,8.250182872870937e-06,0.014671212993562222,0.002263873815536499,-0.0007265717722475529,2.4353983462788165e-05,0.00016487530956510454,0.0009299666853621602,0.0010041778441518545]],\"type\":\"heatmap\",\"xaxis\":\"x\",\"yaxis\":\"y\",\"hovertemplate\":\"Head: %{x}\\u003cbr\\u003eLayer: %{y}\\u003cbr\\u003ecolor: %{z}\\u003cextra\\u003e\\u003c\\u002fextra\\u003e\"}],                        {\"template\":{\"data\":{\"histogram2dcontour\":[{\"type\":\"histogram2dcontour\",\"colorbar\":{\"outlinewidth\":0,\"ticks\":\"\"},\"colorscale\":[[0.0,\"#0d0887\"],[0.1111111111111111,\"#46039f\"],[0.2222222222222222,\"#7201a8\"],[0.3333333333333333,\"#9c179e\"],[0.4444444444444444,\"#bd3786\"],[0.5555555555555556,\"#d8576b\"],[0.6666666666666666,\"#ed7953\"],[0.7777777777777778,\"#fb9f3a\"],[0.8888888888888888,\"#fdca26\"],[1.0,\"#f0f921\"]]}],\"choropleth\":[{\"type\":\"choropleth\",\"colorbar\":{\"outlinewidth\":0,\"ticks\":\"\"}}],\"histogram2d\":[{\"type\":\"histogram2d\",\"colorbar\":{\"outlinewidth\":0,\"ticks\":\"\"},\"colorscale\":[[0.0,\"#0d0887\"],[0.1111111111111111,\"#46039f\"],[0.2222222222222222,\"#7201a8\"],[0.3333333333333333,\"#9c179e\"],[0.4444444444444444,\"#bd3786\"],[0.5555555555555556,\"#d8576b\"],[0.6666666666666666,\"#ed7953\"],[0.7777777777777778,\"#fb9f3a\"],[0.8888888888888888,\"#fdca26\"],[1.0,\"#f0f921\"]]}],\"heatmap\":[{\"type\":\"heatmap\",\"colorbar\":{\"outlinewidth\":0,\"ticks\":\"\"},\"colorscale\":[[0.0,\"#0d0887\"],[0.1111111111111111,\"#46039f\"],[0.2222222222222222,\"#7201a8\"],[0.3333333333333333,\"#9c179e\"],[0.4444444444444444,\"#bd3786\"],[0.5555555555555556,\"#d8576b\"],[0.6666666666666666,\"#ed7953\"],[0.7777777777777778,\"#fb9f3a\"],[0.8888888888888888,\"#fdca26\"],[1.0,\"#f0f921\"]]}],\"heatmapgl\":[{\"type\":\"heatmapgl\",\"colorbar\":{\"outlinewidth\":0,\"ticks\":\"\"},\"colorscale\":[[0.0,\"#0d0887\"],[0.1111111111111111,\"#46039f\"],[0.2222222222222222,\"#7201a8\"],[0.3333333333333333,\"#9c179e\"],[0.4444444444444444,\"#bd3786\"],[0.5555555555555556,\"#d8576b\"],[0.6666666666666666,\"#ed7953\"],[0.7777777777777778,\"#fb9f3a\"],[0.8888888888888888,\"#fdca26\"],[1.0,\"#f0f921\"]]}],\"contourcarpet\":[{\"type\":\"contourcarpet\",\"colorbar\":{\"outlinewidth\":0,\"ticks\":\"\"}}],\"contour\":[{\"type\":\"contour\",\"colorbar\":{\"outlinewidth\":0,\"ticks\":\"\"},\"colorscale\":[[0.0,\"#0d0887\"],[0.1111111111111111,\"#46039f\"],[0.2222222222222222,\"#7201a8\"],[0.3333333333333333,\"#9c179e\"],[0.4444444444444444,\"#bd3786\"],[0.5555555555555556,\"#d8576b\"],[0.6666666666666666,\"#ed7953\"],[0.7777777777777778,\"#fb9f3a\"],[0.8888888888888888,\"#fdca26\"],[1.0,\"#f0f921\"]]}],\"surface\":[{\"type\":\"surface\",\"colorbar\":{\"outlinewidth\":0,\"ticks\":\"\"},\"colorscale\":[[0.0,\"#0d0887\"],[0.1111111111111111,\"#46039f\"],[0.2222222222222222,\"#7201a8\"],[0.3333333333333333,\"#9c179e\"],[0.4444444444444444,\"#bd3786\"],[0.5555555555555556,\"#d8576b\"],[0.6666666666666666,\"#ed7953\"],[0.7777777777777778,\"#fb9f3a\"],[0.8888888888888888,\"#fdca26\"],[1.0,\"#f0f921\"]]}],\"mesh3d\":[{\"type\":\"mesh3d\",\"colorbar\":{\"outlinewidth\":0,\"ticks\":\"\"}}],\"scatter\":[{\"fillpattern\":{\"fillmode\":\"overlay\",\"size\":10,\"solidity\":0.2},\"type\":\"scatter\"}],\"parcoords\":[{\"type\":\"parcoords\",\"line\":{\"colorbar\":{\"outlinewidth\":0,\"ticks\":\"\"}}}],\"scatterpolargl\":[{\"type\":\"scatterpolargl\",\"marker\":{\"colorbar\":{\"outlinewidth\":0,\"ticks\":\"\"}}}],\"bar\":[{\"error_x\":{\"color\":\"#2a3f5f\"},\"error_y\":{\"color\":\"#2a3f5f\"},\"marker\":{\"line\":{\"color\":\"#E5ECF6\",\"width\":0.5},\"pattern\":{\"fillmode\":\"overlay\",\"size\":10,\"solidity\":0.2}},\"type\":\"bar\"}],\"scattergeo\":[{\"type\":\"scattergeo\",\"marker\":{\"colorbar\":{\"outlinewidth\":0,\"ticks\":\"\"}}}],\"scatterpolar\":[{\"type\":\"scatterpolar\",\"marker\":{\"colorbar\":{\"outlinewidth\":0,\"ticks\":\"\"}}}],\"histogram\":[{\"marker\":{\"pattern\":{\"fillmode\":\"overlay\",\"size\":10,\"solidity\":0.2}},\"type\":\"histogram\"}],\"scattergl\":[{\"type\":\"scattergl\",\"marker\":{\"colorbar\":{\"outlinewidth\":0,\"ticks\":\"\"}}}],\"scatter3d\":[{\"type\":\"scatter3d\",\"line\":{\"colorbar\":{\"outlinewidth\":0,\"ticks\":\"\"}},\"marker\":{\"colorbar\":{\"outlinewidth\":0,\"ticks\":\"\"}}}],\"scattermapbox\":[{\"type\":\"scattermapbox\",\"marker\":{\"colorbar\":{\"outlinewidth\":0,\"ticks\":\"\"}}}],\"scatterternary\":[{\"type\":\"scatterternary\",\"marker\":{\"colorbar\":{\"outlinewidth\":0,\"ticks\":\"\"}}}],\"scattercarpet\":[{\"type\":\"scattercarpet\",\"marker\":{\"colorbar\":{\"outlinewidth\":0,\"ticks\":\"\"}}}],\"carpet\":[{\"aaxis\":{\"endlinecolor\":\"#2a3f5f\",\"gridcolor\":\"white\",\"linecolor\":\"white\",\"minorgridcolor\":\"white\",\"startlinecolor\":\"#2a3f5f\"},\"baxis\":{\"endlinecolor\":\"#2a3f5f\",\"gridcolor\":\"white\",\"linecolor\":\"white\",\"minorgridcolor\":\"white\",\"startlinecolor\":\"#2a3f5f\"},\"type\":\"carpet\"}],\"table\":[{\"cells\":{\"fill\":{\"color\":\"#EBF0F8\"},\"line\":{\"color\":\"white\"}},\"header\":{\"fill\":{\"color\":\"#C8D4E3\"},\"line\":{\"color\":\"white\"}},\"type\":\"table\"}],\"barpolar\":[{\"marker\":{\"line\":{\"color\":\"#E5ECF6\",\"width\":0.5},\"pattern\":{\"fillmode\":\"overlay\",\"size\":10,\"solidity\":0.2}},\"type\":\"barpolar\"}],\"pie\":[{\"automargin\":true,\"type\":\"pie\"}]},\"layout\":{\"autotypenumbers\":\"strict\",\"colorway\":[\"#636efa\",\"#EF553B\",\"#00cc96\",\"#ab63fa\",\"#FFA15A\",\"#19d3f3\",\"#FF6692\",\"#B6E880\",\"#FF97FF\",\"#FECB52\"],\"font\":{\"color\":\"#2a3f5f\"},\"hovermode\":\"closest\",\"hoverlabel\":{\"align\":\"left\"},\"paper_bgcolor\":\"white\",\"plot_bgcolor\":\"#E5ECF6\",\"polar\":{\"bgcolor\":\"#E5ECF6\",\"angularaxis\":{\"gridcolor\":\"white\",\"linecolor\":\"white\",\"ticks\":\"\"},\"radialaxis\":{\"gridcolor\":\"white\",\"linecolor\":\"white\",\"ticks\":\"\"}},\"ternary\":{\"bgcolor\":\"#E5ECF6\",\"aaxis\":{\"gridcolor\":\"white\",\"linecolor\":\"white\",\"ticks\":\"\"},\"baxis\":{\"gridcolor\":\"white\",\"linecolor\":\"white\",\"ticks\":\"\"},\"caxis\":{\"gridcolor\":\"white\",\"linecolor\":\"white\",\"ticks\":\"\"}},\"coloraxis\":{\"colorbar\":{\"outlinewidth\":0,\"ticks\":\"\"}},\"colorscale\":{\"sequential\":[[0.0,\"#0d0887\"],[0.1111111111111111,\"#46039f\"],[0.2222222222222222,\"#7201a8\"],[0.3333333333333333,\"#9c179e\"],[0.4444444444444444,\"#bd3786\"],[0.5555555555555556,\"#d8576b\"],[0.6666666666666666,\"#ed7953\"],[0.7777777777777778,\"#fb9f3a\"],[0.8888888888888888,\"#fdca26\"],[1.0,\"#f0f921\"]],\"sequentialminus\":[[0.0,\"#0d0887\"],[0.1111111111111111,\"#46039f\"],[0.2222222222222222,\"#7201a8\"],[0.3333333333333333,\"#9c179e\"],[0.4444444444444444,\"#bd3786\"],[0.5555555555555556,\"#d8576b\"],[0.6666666666666666,\"#ed7953\"],[0.7777777777777778,\"#fb9f3a\"],[0.8888888888888888,\"#fdca26\"],[1.0,\"#f0f921\"]],\"diverging\":[[0,\"#8e0152\"],[0.1,\"#c51b7d\"],[0.2,\"#de77ae\"],[0.3,\"#f1b6da\"],[0.4,\"#fde0ef\"],[0.5,\"#f7f7f7\"],[0.6,\"#e6f5d0\"],[0.7,\"#b8e186\"],[0.8,\"#7fbc41\"],[0.9,\"#4d9221\"],[1,\"#276419\"]]},\"xaxis\":{\"gridcolor\":\"white\",\"linecolor\":\"white\",\"ticks\":\"\",\"title\":{\"standoff\":15},\"zerolinecolor\":\"white\",\"automargin\":true,\"zerolinewidth\":2},\"yaxis\":{\"gridcolor\":\"white\",\"linecolor\":\"white\",\"ticks\":\"\",\"title\":{\"standoff\":15},\"zerolinecolor\":\"white\",\"automargin\":true,\"zerolinewidth\":2},\"scene\":{\"xaxis\":{\"backgroundcolor\":\"#E5ECF6\",\"gridcolor\":\"white\",\"linecolor\":\"white\",\"showbackground\":true,\"ticks\":\"\",\"zerolinecolor\":\"white\",\"gridwidth\":2},\"yaxis\":{\"backgroundcolor\":\"#E5ECF6\",\"gridcolor\":\"white\",\"linecolor\":\"white\",\"showbackground\":true,\"ticks\":\"\",\"zerolinecolor\":\"white\",\"gridwidth\":2},\"zaxis\":{\"backgroundcolor\":\"#E5ECF6\",\"gridcolor\":\"white\",\"linecolor\":\"white\",\"showbackground\":true,\"ticks\":\"\",\"zerolinecolor\":\"white\",\"gridwidth\":2}},\"shapedefaults\":{\"line\":{\"color\":\"#2a3f5f\"}},\"annotationdefaults\":{\"arrowcolor\":\"#2a3f5f\",\"arrowhead\":0,\"arrowwidth\":1},\"geo\":{\"bgcolor\":\"white\",\"landcolor\":\"#E5ECF6\",\"subunitcolor\":\"white\",\"showland\":true,\"showlakes\":true,\"lakecolor\":\"white\"},\"title\":{\"x\":0.05},\"mapbox\":{\"style\":\"light\"}}},\"xaxis\":{\"anchor\":\"y\",\"domain\":[0.0,1.0],\"scaleanchor\":\"y\",\"constrain\":\"domain\",\"title\":{\"text\":\"Head\"}},\"yaxis\":{\"anchor\":\"x\",\"domain\":[0.0,1.0],\"autorange\":\"reversed\",\"constrain\":\"domain\",\"title\":{\"text\":\"Layer\"}},\"coloraxis\":{\"colorscale\":[[0.0,\"rgb(103,0,31)\"],[0.1,\"rgb(178,24,43)\"],[0.2,\"rgb(214,96,77)\"],[0.3,\"rgb(244,165,130)\"],[0.4,\"rgb(253,219,199)\"],[0.5,\"rgb(247,247,247)\"],[0.6,\"rgb(209,229,240)\"],[0.7,\"rgb(146,197,222)\"],[0.8,\"rgb(67,147,195)\"],[0.9,\"rgb(33,102,172)\"],[1.0,\"rgb(5,48,97)\"]],\"cmid\":0.0},\"title\":{\"text\":\"Logit Difference From Each Head\"}},                        {\"responsive\": true}                    ).then(function(){\n",
       "                            \n",
       "var gd = document.getElementById('6e550445-b8ef-4fa1-988a-16285469a2c2');\n",
       "var x = new MutationObserver(function (mutations, observer) {{\n",
       "        var display = window.getComputedStyle(gd).display;\n",
       "        if (!display || display === 'none') {{\n",
       "            console.log([gd, 'removed!']);\n",
       "            Plotly.purge(gd);\n",
       "            observer.disconnect();\n",
       "        }}\n",
       "}});\n",
       "\n",
       "// Listen for the removal of the full notebook cells\n",
       "var notebookContainer = gd.closest('#notebook-container');\n",
       "if (notebookContainer) {{\n",
       "    x.observe(notebookContainer, {childList: true});\n",
       "}}\n",
       "\n",
       "// Listen for the clearing of the current output cell\n",
       "var outputEl = gd.closest('.output');\n",
       "if (outputEl) {{\n",
       "    x.observe(outputEl, {childList: true});\n",
       "}}\n",
       "\n",
       "                        })                };                });            </script>        </div>"
      ]
     },
     "metadata": {},
     "output_type": "display_data"
    }
   ],
   "source": [
    "def imshow(tensor, renderer=None, **kwargs):\n",
    "    px.imshow(utils.to_numpy(tensor), color_continuous_midpoint=0.0, color_continuous_scale=\"RdBu\", **kwargs).show(renderer)\n",
    "\n",
    "per_head_residual, labels = clean_cache.stack_head_results(layer=-1, pos_slice=-1, return_labels=True)\n",
    "per_head_logit_diffs = residual_stack_to_logit_diff(per_head_residual, clean_cache)\n",
    "per_head_logit_diffs = einops.rearrange(per_head_logit_diffs, \"(layer head_index) -> layer head_index\", layer=model.cfg.n_layers, head_index=model.cfg.n_heads)\n",
    "per_head_logit_diffs_pct = per_head_logit_diffs/clean_logit_diff\n",
    "imshow(per_head_logit_diffs_pct, labels={\"x\":\"Head\", \"y\":\"Layer\"}, title=\"Logit Difference From Each Head\")"
   ]
  },
  {
   "attachments": {},
   "cell_type": "markdown",
   "id": "f2add5e8",
   "metadata": {},
   "source": [
    "### Activation Patching"
   ]
  },
  {
   "attachments": {},
   "cell_type": "markdown",
   "id": "d6e4b14b",
   "metadata": {},
   "source": [
    "#### Attention Heads"
   ]
  },
  {
   "cell_type": "code",
   "execution_count": 38,
   "id": "7edffd59",
   "metadata": {},
   "outputs": [
    {
     "data": {
      "application/vnd.jupyter.widget-view+json": {
       "model_id": "ee0e3b78428b4ef1aad14cb9610e4850",
       "version_major": 2,
       "version_minor": 0
      },
      "text/plain": [
       "  0%|          | 0/384 [00:00<?, ?it/s]"
      ]
     },
     "metadata": {},
     "output_type": "display_data"
    },
    {
     "name": "stdout",
     "output_type": "stream",
     "text": [
      "results['z'].shape = (layer=24, head=16)\n"
     ]
    }
   ],
   "source": [
    "results = act_patch(\n",
    "    model=model,\n",
    "    orig_input=corrupted_tokens,\n",
    "    new_cache=clean_cache,\n",
    "    patching_nodes=IterNode(\"z\"), # iterating over all heads' output in all layers\n",
    "    patching_metric=logit_diff_denoising,\n",
    "    verbose=True,\n",
    ")"
   ]
  },
  {
   "cell_type": "code",
   "execution_count": 39,
   "id": "423747e3",
   "metadata": {},
   "outputs": [
    {
     "data": {
      "application/vnd.plotly.v1+json": {
       "config": {
        "plotlyServerURL": "https://plot.ly"
       },
       "data": [
        {
         "coloraxis": "coloraxis",
         "hovertemplate": "Head: %{x}<br>Layer: %{y}<br>Logit diff variation: %{z}<extra></extra>",
         "name": "0",
         "type": "heatmap",
         "xaxis": "x",
         "yaxis": "y",
         "z": [
          [
           -0.001016246504150331,
           -0.022714786231517792,
           -0.295688658952713,
           0.033323951065540314,
           0.08874289691448212,
           -0.10179217159748077,
           0.14288315176963806,
           0.3801432251930237,
           -0.003350263461470604,
           0.09075304865837097,
           0.12743842601776123,
           -0.0044446829706430435,
           -0.0715337023139,
           0.3045612573623657,
           -0.10873838514089584,
           0.003986813127994537
          ],
          [
           -0.03431786224246025,
           0.06406261771917343,
           -0.4229372441768646,
           0.07180172950029373,
           0.19687820971012115,
           0.25593218207359314,
           0.011826429516077042,
           -0.08788298815488815,
           0.15942786633968353,
           0.06488343328237534,
           0.05004734918475151,
           0.23256969451904297,
           -0.08004895597696304,
           0.14540143311023712,
           0.010776680894196033,
           0.1654583364725113
          ],
          [
           0.08239972591400146,
           0.11864399164915085,
           -0.08231038600206375,
           0.005874128546565771,
           -0.22077676653862,
           0.006985299289226532,
           0.10023988038301468,
           0.04419555887579918,
           0.13794150948524475,
           -0.18219290673732758,
           0.12067090719938278,
           -0.10208810865879059,
           -0.05743468180298805,
           0.2074594795703888,
           -0.1884690672159195,
           0.1395496279001236
          ],
          [
           -0.07387330383062363,
           -0.07573828846216202,
           0.45345258712768555,
           0.07711189985275269,
           0.19510817527770996,
           0.19658787548542023,
           -0.14843341708183289,
           -0.05216359719634056,
           0.05146004259586334,
           0.2834267020225525,
           -0.04952806234359741,
           -0.0032776740845292807,
           0.21383054554462433,
           0.04202905297279358,
           -0.019515283405780792,
           -0.12245211750268936
          ],
          [
           -0.027036625891923904,
           -0.029711250215768814,
           -0.27385610342025757,
           -0.28989270329475403,
           0.0442793145775795,
           -0.17179591953754425,
           0.07582762837409973,
           0.0036741220392286777,
           0.038081325590610504,
           0.030224960297346115,
           -0.060701191425323486,
           0.08918959647417068,
           -0.20595744252204895,
           0.8151078820228577,
           0.14507757127285004,
           0.5015455484390259
          ],
          [
           -0.09658250957727432,
           -0.35249796509742737,
           -0.31020087003707886,
           0.28585004806518555,
           -0.004539606627076864,
           0.21223360300064087,
           0.05039912462234497,
           -0.09025609493255615,
           -0.015299536287784576,
           -0.31360697746276855,
           -0.40236660838127136,
           0.17563755810260773,
           -0.6094799041748047,
           -0.1503821611404419,
           0.029884349554777145,
           0.10395867377519608
          ],
          [
           0.0455133281648159,
           -0.23977835476398468,
           0.006951796356588602,
           0.10144038498401642,
           0.14151513576507568,
           -0.19312593340873718,
           0.0076665193773806095,
           0.0885530412197113,
           -0.07985352724790573,
           -0.2983018457889557,
           -0.21414323151111603,
           25.681533813476562,
           -0.7775123715400696,
           -0.24774082005023956,
           0.30979883670806885,
           0.07536976039409637
          ],
          [
           -0.08570531755685806,
           -0.027706677094101906,
           -0.06899867206811905,
           -0.0647215023636818,
           -0.05172248184680939,
           -0.30638158321380615,
           -0.3519339859485626,
           -0.6710745096206665,
           0.4370753765106201,
           -0.062398653477430344,
           0.059249408543109894,
           1.1207524538040161,
           -0.9416306614875793,
           0.21650518476963043,
           -0.0304483100771904,
           -0.3962412476539612
          ],
          [
           -0.32412123680114746,
           -0.6563891768455505,
           1.1648362874984741,
           -0.38792142271995544,
           0.11432773619890213,
           -0.32838723063468933,
           -0.14972884953022003,
           0.3585619330406189,
           0.26604440808296204,
           0.05051080510020256,
           1.3612174987792969,
           -1.3697328567504883,
           0.19184724986553192,
           -0.6480470299720764,
           -1.1037832498550415,
           -0.1926010549068451
          ],
          [
           -1.1136386394500732,
           0.5978991985321045,
           0.22519910335540771,
           0.27634647488594055,
           0.17172890901565552,
           0.9741169214248657,
           -0.1984863579273224,
           -0.01763913594186306,
           -0.2766368091106415,
           -0.7151806950569153,
           -0.23900778591632843,
           6.6907243728637695,
           0.002300514141097665,
           0.43633830547332764,
           -0.7227858304977417,
           0.5652341246604919
          ],
          [
           -0.0019822390750050545,
           0.06325297057628632,
           0.48121505975723267,
           -0.36273300647735596,
           1.3004661798477173,
           -4.216825485229492,
           -0.13298870623111725,
           -0.14465320110321045,
           -0.050454966723918915,
           -0.07588346302509308,
           0.524813175201416,
           0.7516315579414368,
           0.03293308988213539,
           3.199183225631714,
           -0.10164140164852142,
           -0.23497629165649414
          ],
          [
           -0.1199338436126709,
           43.65480041503906,
           0.003160415217280388,
           0.7521508932113647,
           -0.5114456415176392,
           0.17055073380470276,
           0.6120261549949646,
           0.04445241019129753,
           2.2220120429992676,
           -0.06845146417617798,
           -0.1004297286272049,
           -0.17674872279167175,
           -0.0360209159553051,
           0.2403869777917862,
           0.11464042961597443,
           -1.0425461530685425
          ],
          [
           -0.24737785756587982,
           -0.6926054954528809,
           2.3930373191833496,
           -0.31352880597114563,
           0.04320722818374634,
           0.14534558355808258,
           -0.4948897361755371,
           -3.51371169090271,
           1.7659684419631958,
           -0.49124351143836975,
           -0.21217775344848633,
           -0.13337399065494537,
           0.6793385148048401,
           -0.0733819305896759,
           -0.01388684194535017,
           0.22671790421009064
          ],
          [
           3.4253482818603516,
           -0.23360827565193176,
           -2.8354172706604004,
           -4.442633152008057,
           -0.000033502634323667735,
           0.30121660232543945,
           1.6051950454711914,
           -0.6227748394012451,
           2.791579008102417,
           -0.5255893468856812,
           0.02682444080710411,
           -1.2134430408477783,
           -0.14217400550842285,
           15.665870666503906,
           -0.07522457838058472,
           0.1519344449043274
          ],
          [
           1.6594078540802002,
           -0.923801600933075,
           1.541165828704834,
           -0.001122338231652975,
           0.014780244790017605,
           -0.5402634739875793,
           0.6745587587356567,
           1.0954300165176392,
           0.3091120421886444,
           0.3864249587059021,
           -0.18956907093524933,
           -0.21460670232772827,
           1.6537513732910156,
           -0.15291160345077515,
           -1.9889675378799438,
           0.8388444781303406
          ],
          [
           -0.2559601068496704,
           -0.23795804381370544,
           0.013847755268216133,
           0.1544080525636673,
           -0.021899554878473282,
           0.09917337447404861,
           -0.15350349247455597,
           0.04068894684314728,
           -0.3242775797843933,
           -0.037545282393693924,
           -0.13785216212272644,
           0.1914507895708084,
           -0.9121649861335754,
           -0.027706677094101906,
           0.18167918920516968,
           0.28230994939804077
          ],
          [
           0.2063371241092682,
           0.3296658992767334,
           0.05403974652290344,
           0.049349378794431686,
           2.0692455768585205,
           -0.051940251141786575,
           1.5544049739837646,
           -1.1059554815292358,
           0.00008375658217119053,
           0.07450985908508301,
           -0.10078708827495575,
           -0.19018328189849854,
           -1.454416275024414,
           0.05120877921581268,
           -0.1346750110387802,
           -0.020805135369300842
          ],
          [
           -0.10839218646287918,
           -0.17970812320709229,
           0,
           -0.02166503667831421,
           -1.395965337753296,
           -0.10563381016254425,
           -0.03555746376514435,
           0.20706860721111298,
           0.15166641771793365,
           -0.0200736615806818,
           -0.0018873149529099464,
           -0.256267249584198,
           -0.007325909100472927,
           -0.10432719439268112,
           -0.03993513807654381,
           -0.21290923655033112
          ],
          [
           -0.21057522296905518,
           -0.0961916446685791,
           8.407971382141113,
           -0.03411126509308815,
           -0.03740568831562996,
           -0.08252257108688354,
           0.261873334646225,
           -0.004299504682421684,
           0.00040203158278018236,
           -0.10644344985485077,
           -2.250824213027954,
           -0.0111731281504035,
           0.05410674959421158,
           -0.011865516193211079,
           -0.023999053984880447,
           -0.2543240785598755
          ],
          [
           -0.022804126143455505,
           -0.18688327074050903,
           0.27055051922798157,
           -0.07996520400047302,
           -0.09379620105028152,
           0.16006441414356232,
           0.3979721963405609,
           -0.06613419950008392,
           -0.08518602699041367,
           -0.010246221907436848,
           0.04011940211057663,
           0.36108580231666565,
           0.08695049583911896,
           -1.3353089094161987,
           0.18047310411930084,
           -0.8716659545898438
          ],
          [
           0.15618368983268738,
           -0.23123517632484436,
           -0.07225959748029709,
           -0.7056715488433838,
           0.05889204144477844,
           -0.10660537332296371,
           0.012273131869733334,
           -0.004226915538311005,
           -0.09241142868995667,
           -0.637443482875824,
           -0.09060229361057281,
           -0.013473642989993095,
           -0.006633521057665348,
           0.07485046237707138,
           0.024981796741485596,
           -0.013300545513629913
          ],
          [
           4.073844909667969,
           -0.06870831549167633,
           -0.07084131985902786,
           -0.05318542942404747,
           -0.2097376585006714,
           0.16831722855567932,
           -0.319888710975647,
           -0.04863465577363968,
           -0.016125934198498726,
           -0.24364790320396423,
           0.059662606567144394,
           -1.0471471548080444,
           -0.0031380802392959595,
           0.10057491064071655,
           3.8849987983703613,
           0.0348818264901638
          ],
          [
           0.4226747751235962,
           0.01149698719382286,
           0.17946243286132812,
           0.10820792615413666,
           0.03210669010877609,
           0.02411072701215744,
           0.0213132593780756,
           -0.12241862714290619,
           -0.022586358711123466,
           -0.10512568056583405,
           0.006181235890835524,
           -0.13730496168136597,
           0.24138647317886353,
           0.0034116848837584257,
           -0.04013615474104881,
           -0.004422347992658615
          ],
          [
           0.08888248354196548,
           -0.08090327680110931,
           -0.09260686486959457,
           0.007789362221956253,
           -0.06823927909135818,
           0.05581538379192352,
           1.142724633216858,
           -0.000039086404285626486,
           0.00017868071154225618,
           1.4154192209243774,
           0.2224351465702057,
           -0.07229310274124146,
           -0.000033502634323667735,
           0.019956402480602264,
           0.0842200368642807,
           0.10722517967224121
          ]
         ]
        }
       ],
       "layout": {
        "coloraxis": {
         "cmid": 0,
         "colorbar": {
          "ticksuffix": "%",
          "title": {
           "text": "Logit diff variation"
          }
         },
         "colorscale": [
          [
           0,
           "rgb(103,0,31)"
          ],
          [
           0.1,
           "rgb(178,24,43)"
          ],
          [
           0.2,
           "rgb(214,96,77)"
          ],
          [
           0.3,
           "rgb(244,165,130)"
          ],
          [
           0.4,
           "rgb(253,219,199)"
          ],
          [
           0.5,
           "rgb(247,247,247)"
          ],
          [
           0.6,
           "rgb(209,229,240)"
          ],
          [
           0.7,
           "rgb(146,197,222)"
          ],
          [
           0.8,
           "rgb(67,147,195)"
          ],
          [
           0.9,
           "rgb(33,102,172)"
          ],
          [
           1,
           "rgb(5,48,97)"
          ]
         ]
        },
        "margin": {
         "l": 100,
         "r": 100
        },
        "template": {
         "data": {
          "bar": [
           {
            "error_x": {
             "color": "#2a3f5f"
            },
            "error_y": {
             "color": "#2a3f5f"
            },
            "marker": {
             "line": {
              "color": "#E5ECF6",
              "width": 0.5
             },
             "pattern": {
              "fillmode": "overlay",
              "size": 10,
              "solidity": 0.2
             }
            },
            "type": "bar"
           }
          ],
          "barpolar": [
           {
            "marker": {
             "line": {
              "color": "#E5ECF6",
              "width": 0.5
             },
             "pattern": {
              "fillmode": "overlay",
              "size": 10,
              "solidity": 0.2
             }
            },
            "type": "barpolar"
           }
          ],
          "carpet": [
           {
            "aaxis": {
             "endlinecolor": "#2a3f5f",
             "gridcolor": "white",
             "linecolor": "white",
             "minorgridcolor": "white",
             "startlinecolor": "#2a3f5f"
            },
            "baxis": {
             "endlinecolor": "#2a3f5f",
             "gridcolor": "white",
             "linecolor": "white",
             "minorgridcolor": "white",
             "startlinecolor": "#2a3f5f"
            },
            "type": "carpet"
           }
          ],
          "choropleth": [
           {
            "colorbar": {
             "outlinewidth": 0,
             "ticks": ""
            },
            "type": "choropleth"
           }
          ],
          "contour": [
           {
            "colorbar": {
             "outlinewidth": 0,
             "ticks": ""
            },
            "colorscale": [
             [
              0,
              "#0d0887"
             ],
             [
              0.1111111111111111,
              "#46039f"
             ],
             [
              0.2222222222222222,
              "#7201a8"
             ],
             [
              0.3333333333333333,
              "#9c179e"
             ],
             [
              0.4444444444444444,
              "#bd3786"
             ],
             [
              0.5555555555555556,
              "#d8576b"
             ],
             [
              0.6666666666666666,
              "#ed7953"
             ],
             [
              0.7777777777777778,
              "#fb9f3a"
             ],
             [
              0.8888888888888888,
              "#fdca26"
             ],
             [
              1,
              "#f0f921"
             ]
            ],
            "type": "contour"
           }
          ],
          "contourcarpet": [
           {
            "colorbar": {
             "outlinewidth": 0,
             "ticks": ""
            },
            "type": "contourcarpet"
           }
          ],
          "heatmap": [
           {
            "colorbar": {
             "outlinewidth": 0,
             "ticks": ""
            },
            "colorscale": [
             [
              0,
              "#0d0887"
             ],
             [
              0.1111111111111111,
              "#46039f"
             ],
             [
              0.2222222222222222,
              "#7201a8"
             ],
             [
              0.3333333333333333,
              "#9c179e"
             ],
             [
              0.4444444444444444,
              "#bd3786"
             ],
             [
              0.5555555555555556,
              "#d8576b"
             ],
             [
              0.6666666666666666,
              "#ed7953"
             ],
             [
              0.7777777777777778,
              "#fb9f3a"
             ],
             [
              0.8888888888888888,
              "#fdca26"
             ],
             [
              1,
              "#f0f921"
             ]
            ],
            "type": "heatmap"
           }
          ],
          "heatmapgl": [
           {
            "colorbar": {
             "outlinewidth": 0,
             "ticks": ""
            },
            "colorscale": [
             [
              0,
              "#0d0887"
             ],
             [
              0.1111111111111111,
              "#46039f"
             ],
             [
              0.2222222222222222,
              "#7201a8"
             ],
             [
              0.3333333333333333,
              "#9c179e"
             ],
             [
              0.4444444444444444,
              "#bd3786"
             ],
             [
              0.5555555555555556,
              "#d8576b"
             ],
             [
              0.6666666666666666,
              "#ed7953"
             ],
             [
              0.7777777777777778,
              "#fb9f3a"
             ],
             [
              0.8888888888888888,
              "#fdca26"
             ],
             [
              1,
              "#f0f921"
             ]
            ],
            "type": "heatmapgl"
           }
          ],
          "histogram": [
           {
            "marker": {
             "pattern": {
              "fillmode": "overlay",
              "size": 10,
              "solidity": 0.2
             }
            },
            "type": "histogram"
           }
          ],
          "histogram2d": [
           {
            "colorbar": {
             "outlinewidth": 0,
             "ticks": ""
            },
            "colorscale": [
             [
              0,
              "#0d0887"
             ],
             [
              0.1111111111111111,
              "#46039f"
             ],
             [
              0.2222222222222222,
              "#7201a8"
             ],
             [
              0.3333333333333333,
              "#9c179e"
             ],
             [
              0.4444444444444444,
              "#bd3786"
             ],
             [
              0.5555555555555556,
              "#d8576b"
             ],
             [
              0.6666666666666666,
              "#ed7953"
             ],
             [
              0.7777777777777778,
              "#fb9f3a"
             ],
             [
              0.8888888888888888,
              "#fdca26"
             ],
             [
              1,
              "#f0f921"
             ]
            ],
            "type": "histogram2d"
           }
          ],
          "histogram2dcontour": [
           {
            "colorbar": {
             "outlinewidth": 0,
             "ticks": ""
            },
            "colorscale": [
             [
              0,
              "#0d0887"
             ],
             [
              0.1111111111111111,
              "#46039f"
             ],
             [
              0.2222222222222222,
              "#7201a8"
             ],
             [
              0.3333333333333333,
              "#9c179e"
             ],
             [
              0.4444444444444444,
              "#bd3786"
             ],
             [
              0.5555555555555556,
              "#d8576b"
             ],
             [
              0.6666666666666666,
              "#ed7953"
             ],
             [
              0.7777777777777778,
              "#fb9f3a"
             ],
             [
              0.8888888888888888,
              "#fdca26"
             ],
             [
              1,
              "#f0f921"
             ]
            ],
            "type": "histogram2dcontour"
           }
          ],
          "mesh3d": [
           {
            "colorbar": {
             "outlinewidth": 0,
             "ticks": ""
            },
            "type": "mesh3d"
           }
          ],
          "parcoords": [
           {
            "line": {
             "colorbar": {
              "outlinewidth": 0,
              "ticks": ""
             }
            },
            "type": "parcoords"
           }
          ],
          "pie": [
           {
            "automargin": true,
            "type": "pie"
           }
          ],
          "scatter": [
           {
            "fillpattern": {
             "fillmode": "overlay",
             "size": 10,
             "solidity": 0.2
            },
            "type": "scatter"
           }
          ],
          "scatter3d": [
           {
            "line": {
             "colorbar": {
              "outlinewidth": 0,
              "ticks": ""
             }
            },
            "marker": {
             "colorbar": {
              "outlinewidth": 0,
              "ticks": ""
             }
            },
            "type": "scatter3d"
           }
          ],
          "scattercarpet": [
           {
            "marker": {
             "colorbar": {
              "outlinewidth": 0,
              "ticks": ""
             }
            },
            "type": "scattercarpet"
           }
          ],
          "scattergeo": [
           {
            "marker": {
             "colorbar": {
              "outlinewidth": 0,
              "ticks": ""
             }
            },
            "type": "scattergeo"
           }
          ],
          "scattergl": [
           {
            "marker": {
             "colorbar": {
              "outlinewidth": 0,
              "ticks": ""
             }
            },
            "type": "scattergl"
           }
          ],
          "scattermapbox": [
           {
            "marker": {
             "colorbar": {
              "outlinewidth": 0,
              "ticks": ""
             }
            },
            "type": "scattermapbox"
           }
          ],
          "scatterpolar": [
           {
            "marker": {
             "colorbar": {
              "outlinewidth": 0,
              "ticks": ""
             }
            },
            "type": "scatterpolar"
           }
          ],
          "scatterpolargl": [
           {
            "marker": {
             "colorbar": {
              "outlinewidth": 0,
              "ticks": ""
             }
            },
            "type": "scatterpolargl"
           }
          ],
          "scatterternary": [
           {
            "marker": {
             "colorbar": {
              "outlinewidth": 0,
              "ticks": ""
             }
            },
            "type": "scatterternary"
           }
          ],
          "surface": [
           {
            "colorbar": {
             "outlinewidth": 0,
             "ticks": ""
            },
            "colorscale": [
             [
              0,
              "#0d0887"
             ],
             [
              0.1111111111111111,
              "#46039f"
             ],
             [
              0.2222222222222222,
              "#7201a8"
             ],
             [
              0.3333333333333333,
              "#9c179e"
             ],
             [
              0.4444444444444444,
              "#bd3786"
             ],
             [
              0.5555555555555556,
              "#d8576b"
             ],
             [
              0.6666666666666666,
              "#ed7953"
             ],
             [
              0.7777777777777778,
              "#fb9f3a"
             ],
             [
              0.8888888888888888,
              "#fdca26"
             ],
             [
              1,
              "#f0f921"
             ]
            ],
            "type": "surface"
           }
          ],
          "table": [
           {
            "cells": {
             "fill": {
              "color": "#EBF0F8"
             },
             "line": {
              "color": "white"
             }
            },
            "header": {
             "fill": {
              "color": "#C8D4E3"
             },
             "line": {
              "color": "white"
             }
            },
            "type": "table"
           }
          ]
         },
         "layout": {
          "annotationdefaults": {
           "arrowcolor": "#2a3f5f",
           "arrowhead": 0,
           "arrowwidth": 1
          },
          "autotypenumbers": "strict",
          "coloraxis": {
           "colorbar": {
            "outlinewidth": 0,
            "ticks": ""
           }
          },
          "colorscale": {
           "diverging": [
            [
             0,
             "#8e0152"
            ],
            [
             0.1,
             "#c51b7d"
            ],
            [
             0.2,
             "#de77ae"
            ],
            [
             0.3,
             "#f1b6da"
            ],
            [
             0.4,
             "#fde0ef"
            ],
            [
             0.5,
             "#f7f7f7"
            ],
            [
             0.6,
             "#e6f5d0"
            ],
            [
             0.7,
             "#b8e186"
            ],
            [
             0.8,
             "#7fbc41"
            ],
            [
             0.9,
             "#4d9221"
            ],
            [
             1,
             "#276419"
            ]
           ],
           "sequential": [
            [
             0,
             "#0d0887"
            ],
            [
             0.1111111111111111,
             "#46039f"
            ],
            [
             0.2222222222222222,
             "#7201a8"
            ],
            [
             0.3333333333333333,
             "#9c179e"
            ],
            [
             0.4444444444444444,
             "#bd3786"
            ],
            [
             0.5555555555555556,
             "#d8576b"
            ],
            [
             0.6666666666666666,
             "#ed7953"
            ],
            [
             0.7777777777777778,
             "#fb9f3a"
            ],
            [
             0.8888888888888888,
             "#fdca26"
            ],
            [
             1,
             "#f0f921"
            ]
           ],
           "sequentialminus": [
            [
             0,
             "#0d0887"
            ],
            [
             0.1111111111111111,
             "#46039f"
            ],
            [
             0.2222222222222222,
             "#7201a8"
            ],
            [
             0.3333333333333333,
             "#9c179e"
            ],
            [
             0.4444444444444444,
             "#bd3786"
            ],
            [
             0.5555555555555556,
             "#d8576b"
            ],
            [
             0.6666666666666666,
             "#ed7953"
            ],
            [
             0.7777777777777778,
             "#fb9f3a"
            ],
            [
             0.8888888888888888,
             "#fdca26"
            ],
            [
             1,
             "#f0f921"
            ]
           ]
          },
          "colorway": [
           "#636efa",
           "#EF553B",
           "#00cc96",
           "#ab63fa",
           "#FFA15A",
           "#19d3f3",
           "#FF6692",
           "#B6E880",
           "#FF97FF",
           "#FECB52"
          ],
          "font": {
           "color": "#2a3f5f"
          },
          "geo": {
           "bgcolor": "white",
           "lakecolor": "white",
           "landcolor": "#E5ECF6",
           "showlakes": true,
           "showland": true,
           "subunitcolor": "white"
          },
          "hoverlabel": {
           "align": "left"
          },
          "hovermode": "closest",
          "mapbox": {
           "style": "light"
          },
          "paper_bgcolor": "white",
          "plot_bgcolor": "#E5ECF6",
          "polar": {
           "angularaxis": {
            "gridcolor": "white",
            "linecolor": "white",
            "ticks": ""
           },
           "bgcolor": "#E5ECF6",
           "radialaxis": {
            "gridcolor": "white",
            "linecolor": "white",
            "ticks": ""
           }
          },
          "scene": {
           "xaxis": {
            "backgroundcolor": "#E5ECF6",
            "gridcolor": "white",
            "gridwidth": 2,
            "linecolor": "white",
            "showbackground": true,
            "ticks": "",
            "zerolinecolor": "white"
           },
           "yaxis": {
            "backgroundcolor": "#E5ECF6",
            "gridcolor": "white",
            "gridwidth": 2,
            "linecolor": "white",
            "showbackground": true,
            "ticks": "",
            "zerolinecolor": "white"
           },
           "zaxis": {
            "backgroundcolor": "#E5ECF6",
            "gridcolor": "white",
            "gridwidth": 2,
            "linecolor": "white",
            "showbackground": true,
            "ticks": "",
            "zerolinecolor": "white"
           }
          },
          "shapedefaults": {
           "line": {
            "color": "#2a3f5f"
           }
          },
          "ternary": {
           "aaxis": {
            "gridcolor": "white",
            "linecolor": "white",
            "ticks": ""
           },
           "baxis": {
            "gridcolor": "white",
            "linecolor": "white",
            "ticks": ""
           },
           "bgcolor": "#E5ECF6",
           "caxis": {
            "gridcolor": "white",
            "linecolor": "white",
            "ticks": ""
           }
          },
          "title": {
           "x": 0.05
          },
          "xaxis": {
           "automargin": true,
           "gridcolor": "white",
           "linecolor": "white",
           "ticks": "",
           "title": {
            "standoff": 15
           },
           "zerolinecolor": "white",
           "zerolinewidth": 2
          },
          "yaxis": {
           "automargin": true,
           "gridcolor": "white",
           "linecolor": "white",
           "ticks": "",
           "title": {
            "standoff": 15
           },
           "zerolinecolor": "white",
           "zerolinewidth": 2
          }
         }
        },
        "title": {
         "text": "Patching output of attention heads (corrupted -> clean)"
        },
        "width": 600,
        "xaxis": {
         "anchor": "y",
         "constrain": "domain",
         "domain": [
          0,
          1
         ],
         "linecolor": "black",
         "linewidth": 1,
         "mirror": true,
         "scaleanchor": "y",
         "showline": true,
         "title": {
          "text": "Head"
         }
        },
        "yaxis": {
         "anchor": "x",
         "autorange": "reversed",
         "constrain": "domain",
         "domain": [
          0,
          1
         ],
         "linecolor": "black",
         "linewidth": 1,
         "mirror": true,
         "showline": true,
         "title": {
          "text": "Layer"
         }
        }
       }
      },
      "text/html": [
       "<div>                            <div id=\"1c16e369-1d85-4cca-99d7-a7e0d12bdcc3\" class=\"plotly-graph-div\" style=\"height:525px; width:600px;\"></div>            <script type=\"text/javascript\">                require([\"plotly\"], function(Plotly) {                    window.PLOTLYENV=window.PLOTLYENV || {};                                    if (document.getElementById(\"1c16e369-1d85-4cca-99d7-a7e0d12bdcc3\")) {                    Plotly.newPlot(                        \"1c16e369-1d85-4cca-99d7-a7e0d12bdcc3\",                        [{\"coloraxis\":\"coloraxis\",\"name\":\"0\",\"z\":[[-0.001016246504150331,-0.022714786231517792,-0.295688658952713,0.033323951065540314,0.08874289691448212,-0.10179217159748077,0.14288315176963806,0.3801432251930237,-0.003350263461470604,0.09075304865837097,0.12743842601776123,-0.0044446829706430435,-0.0715337023139,0.3045612573623657,-0.10873838514089584,0.003986813127994537],[-0.03431786224246025,0.06406261771917343,-0.4229372441768646,0.07180172950029373,0.19687820971012115,0.25593218207359314,0.011826429516077042,-0.08788298815488815,0.15942786633968353,0.06488343328237534,0.05004734918475151,0.23256969451904297,-0.08004895597696304,0.14540143311023712,0.010776680894196033,0.1654583364725113],[0.08239972591400146,0.11864399164915085,-0.08231038600206375,0.005874128546565771,-0.22077676653862,0.006985299289226532,0.10023988038301468,0.04419555887579918,0.13794150948524475,-0.18219290673732758,0.12067090719938278,-0.10208810865879059,-0.05743468180298805,0.2074594795703888,-0.1884690672159195,0.1395496279001236],[-0.07387330383062363,-0.07573828846216202,0.45345258712768555,0.07711189985275269,0.19510817527770996,0.19658787548542023,-0.14843341708183289,-0.05216359719634056,0.05146004259586334,0.2834267020225525,-0.04952806234359741,-0.0032776740845292807,0.21383054554462433,0.04202905297279358,-0.019515283405780792,-0.12245211750268936],[-0.027036625891923904,-0.029711250215768814,-0.27385610342025757,-0.28989270329475403,0.0442793145775795,-0.17179591953754425,0.07582762837409973,0.0036741220392286777,0.038081325590610504,0.030224960297346115,-0.060701191425323486,0.08918959647417068,-0.20595744252204895,0.8151078820228577,0.14507757127285004,0.5015455484390259],[-0.09658250957727432,-0.35249796509742737,-0.31020087003707886,0.28585004806518555,-0.004539606627076864,0.21223360300064087,0.05039912462234497,-0.09025609493255615,-0.015299536287784576,-0.31360697746276855,-0.40236660838127136,0.17563755810260773,-0.6094799041748047,-0.1503821611404419,0.029884349554777145,0.10395867377519608],[0.0455133281648159,-0.23977835476398468,0.006951796356588602,0.10144038498401642,0.14151513576507568,-0.19312593340873718,0.0076665193773806095,0.0885530412197113,-0.07985352724790573,-0.2983018457889557,-0.21414323151111603,25.681533813476562,-0.7775123715400696,-0.24774082005023956,0.30979883670806885,0.07536976039409637],[-0.08570531755685806,-0.027706677094101906,-0.06899867206811905,-0.0647215023636818,-0.05172248184680939,-0.30638158321380615,-0.3519339859485626,-0.6710745096206665,0.4370753765106201,-0.062398653477430344,0.059249408543109894,1.1207524538040161,-0.9416306614875793,0.21650518476963043,-0.0304483100771904,-0.3962412476539612],[-0.32412123680114746,-0.6563891768455505,1.1648362874984741,-0.38792142271995544,0.11432773619890213,-0.32838723063468933,-0.14972884953022003,0.3585619330406189,0.26604440808296204,0.05051080510020256,1.3612174987792969,-1.3697328567504883,0.19184724986553192,-0.6480470299720764,-1.1037832498550415,-0.1926010549068451],[-1.1136386394500732,0.5978991985321045,0.22519910335540771,0.27634647488594055,0.17172890901565552,0.9741169214248657,-0.1984863579273224,-0.01763913594186306,-0.2766368091106415,-0.7151806950569153,-0.23900778591632843,6.6907243728637695,0.002300514141097665,0.43633830547332764,-0.7227858304977417,0.5652341246604919],[-0.0019822390750050545,0.06325297057628632,0.48121505975723267,-0.36273300647735596,1.3004661798477173,-4.216825485229492,-0.13298870623111725,-0.14465320110321045,-0.050454966723918915,-0.07588346302509308,0.524813175201416,0.7516315579414368,0.03293308988213539,3.199183225631714,-0.10164140164852142,-0.23497629165649414],[-0.1199338436126709,43.65480041503906,0.003160415217280388,0.7521508932113647,-0.5114456415176392,0.17055073380470276,0.6120261549949646,0.04445241019129753,2.2220120429992676,-0.06845146417617798,-0.1004297286272049,-0.17674872279167175,-0.0360209159553051,0.2403869777917862,0.11464042961597443,-1.0425461530685425],[-0.24737785756587982,-0.6926054954528809,2.3930373191833496,-0.31352880597114563,0.04320722818374634,0.14534558355808258,-0.4948897361755371,-3.51371169090271,1.7659684419631958,-0.49124351143836975,-0.21217775344848633,-0.13337399065494537,0.6793385148048401,-0.0733819305896759,-0.01388684194535017,0.22671790421009064],[3.4253482818603516,-0.23360827565193176,-2.8354172706604004,-4.442633152008057,-3.3502634323667735e-05,0.30121660232543945,1.6051950454711914,-0.6227748394012451,2.791579008102417,-0.5255893468856812,0.02682444080710411,-1.2134430408477783,-0.14217400550842285,15.665870666503906,-0.07522457838058472,0.1519344449043274],[1.6594078540802002,-0.923801600933075,1.541165828704834,-0.001122338231652975,0.014780244790017605,-0.5402634739875793,0.6745587587356567,1.0954300165176392,0.3091120421886444,0.3864249587059021,-0.18956907093524933,-0.21460670232772827,1.6537513732910156,-0.15291160345077515,-1.9889675378799438,0.8388444781303406],[-0.2559601068496704,-0.23795804381370544,0.013847755268216133,0.1544080525636673,-0.021899554878473282,0.09917337447404861,-0.15350349247455597,0.04068894684314728,-0.3242775797843933,-0.037545282393693924,-0.13785216212272644,0.1914507895708084,-0.9121649861335754,-0.027706677094101906,0.18167918920516968,0.28230994939804077],[0.2063371241092682,0.3296658992767334,0.05403974652290344,0.049349378794431686,2.0692455768585205,-0.051940251141786575,1.5544049739837646,-1.1059554815292358,8.375658217119053e-05,0.07450985908508301,-0.10078708827495575,-0.19018328189849854,-1.454416275024414,0.05120877921581268,-0.1346750110387802,-0.020805135369300842],[-0.10839218646287918,-0.17970812320709229,0.0,-0.02166503667831421,-1.395965337753296,-0.10563381016254425,-0.03555746376514435,0.20706860721111298,0.15166641771793365,-0.0200736615806818,-0.0018873149529099464,-0.256267249584198,-0.007325909100472927,-0.10432719439268112,-0.03993513807654381,-0.21290923655033112],[-0.21057522296905518,-0.0961916446685791,8.407971382141113,-0.03411126509308815,-0.03740568831562996,-0.08252257108688354,0.261873334646225,-0.004299504682421684,0.00040203158278018236,-0.10644344985485077,-2.250824213027954,-0.0111731281504035,0.05410674959421158,-0.011865516193211079,-0.023999053984880447,-0.2543240785598755],[-0.022804126143455505,-0.18688327074050903,0.27055051922798157,-0.07996520400047302,-0.09379620105028152,0.16006441414356232,0.3979721963405609,-0.06613419950008392,-0.08518602699041367,-0.010246221907436848,0.04011940211057663,0.36108580231666565,0.08695049583911896,-1.3353089094161987,0.18047310411930084,-0.8716659545898438],[0.15618368983268738,-0.23123517632484436,-0.07225959748029709,-0.7056715488433838,0.05889204144477844,-0.10660537332296371,0.012273131869733334,-0.004226915538311005,-0.09241142868995667,-0.637443482875824,-0.09060229361057281,-0.013473642989993095,-0.006633521057665348,0.07485046237707138,0.024981796741485596,-0.013300545513629913],[4.073844909667969,-0.06870831549167633,-0.07084131985902786,-0.05318542942404747,-0.2097376585006714,0.16831722855567932,-0.319888710975647,-0.04863465577363968,-0.016125934198498726,-0.24364790320396423,0.059662606567144394,-1.0471471548080444,-0.0031380802392959595,0.10057491064071655,3.8849987983703613,0.0348818264901638],[0.4226747751235962,0.01149698719382286,0.17946243286132812,0.10820792615413666,0.03210669010877609,0.02411072701215744,0.0213132593780756,-0.12241862714290619,-0.022586358711123466,-0.10512568056583405,0.006181235890835524,-0.13730496168136597,0.24138647317886353,0.0034116848837584257,-0.04013615474104881,-0.004422347992658615],[0.08888248354196548,-0.08090327680110931,-0.09260686486959457,0.007789362221956253,-0.06823927909135818,0.05581538379192352,1.142724633216858,-3.9086404285626486e-05,0.00017868071154225618,1.4154192209243774,0.2224351465702057,-0.07229310274124146,-3.3502634323667735e-05,0.019956402480602264,0.0842200368642807,0.10722517967224121]],\"type\":\"heatmap\",\"xaxis\":\"x\",\"yaxis\":\"y\",\"hovertemplate\":\"Head: %{x}\\u003cbr\\u003eLayer: %{y}\\u003cbr\\u003eLogit diff variation: %{z}\\u003cextra\\u003e\\u003c\\u002fextra\\u003e\"}],                        {\"template\":{\"data\":{\"histogram2dcontour\":[{\"type\":\"histogram2dcontour\",\"colorbar\":{\"outlinewidth\":0,\"ticks\":\"\"},\"colorscale\":[[0.0,\"#0d0887\"],[0.1111111111111111,\"#46039f\"],[0.2222222222222222,\"#7201a8\"],[0.3333333333333333,\"#9c179e\"],[0.4444444444444444,\"#bd3786\"],[0.5555555555555556,\"#d8576b\"],[0.6666666666666666,\"#ed7953\"],[0.7777777777777778,\"#fb9f3a\"],[0.8888888888888888,\"#fdca26\"],[1.0,\"#f0f921\"]]}],\"choropleth\":[{\"type\":\"choropleth\",\"colorbar\":{\"outlinewidth\":0,\"ticks\":\"\"}}],\"histogram2d\":[{\"type\":\"histogram2d\",\"colorbar\":{\"outlinewidth\":0,\"ticks\":\"\"},\"colorscale\":[[0.0,\"#0d0887\"],[0.1111111111111111,\"#46039f\"],[0.2222222222222222,\"#7201a8\"],[0.3333333333333333,\"#9c179e\"],[0.4444444444444444,\"#bd3786\"],[0.5555555555555556,\"#d8576b\"],[0.6666666666666666,\"#ed7953\"],[0.7777777777777778,\"#fb9f3a\"],[0.8888888888888888,\"#fdca26\"],[1.0,\"#f0f921\"]]}],\"heatmap\":[{\"type\":\"heatmap\",\"colorbar\":{\"outlinewidth\":0,\"ticks\":\"\"},\"colorscale\":[[0.0,\"#0d0887\"],[0.1111111111111111,\"#46039f\"],[0.2222222222222222,\"#7201a8\"],[0.3333333333333333,\"#9c179e\"],[0.4444444444444444,\"#bd3786\"],[0.5555555555555556,\"#d8576b\"],[0.6666666666666666,\"#ed7953\"],[0.7777777777777778,\"#fb9f3a\"],[0.8888888888888888,\"#fdca26\"],[1.0,\"#f0f921\"]]}],\"heatmapgl\":[{\"type\":\"heatmapgl\",\"colorbar\":{\"outlinewidth\":0,\"ticks\":\"\"},\"colorscale\":[[0.0,\"#0d0887\"],[0.1111111111111111,\"#46039f\"],[0.2222222222222222,\"#7201a8\"],[0.3333333333333333,\"#9c179e\"],[0.4444444444444444,\"#bd3786\"],[0.5555555555555556,\"#d8576b\"],[0.6666666666666666,\"#ed7953\"],[0.7777777777777778,\"#fb9f3a\"],[0.8888888888888888,\"#fdca26\"],[1.0,\"#f0f921\"]]}],\"contourcarpet\":[{\"type\":\"contourcarpet\",\"colorbar\":{\"outlinewidth\":0,\"ticks\":\"\"}}],\"contour\":[{\"type\":\"contour\",\"colorbar\":{\"outlinewidth\":0,\"ticks\":\"\"},\"colorscale\":[[0.0,\"#0d0887\"],[0.1111111111111111,\"#46039f\"],[0.2222222222222222,\"#7201a8\"],[0.3333333333333333,\"#9c179e\"],[0.4444444444444444,\"#bd3786\"],[0.5555555555555556,\"#d8576b\"],[0.6666666666666666,\"#ed7953\"],[0.7777777777777778,\"#fb9f3a\"],[0.8888888888888888,\"#fdca26\"],[1.0,\"#f0f921\"]]}],\"surface\":[{\"type\":\"surface\",\"colorbar\":{\"outlinewidth\":0,\"ticks\":\"\"},\"colorscale\":[[0.0,\"#0d0887\"],[0.1111111111111111,\"#46039f\"],[0.2222222222222222,\"#7201a8\"],[0.3333333333333333,\"#9c179e\"],[0.4444444444444444,\"#bd3786\"],[0.5555555555555556,\"#d8576b\"],[0.6666666666666666,\"#ed7953\"],[0.7777777777777778,\"#fb9f3a\"],[0.8888888888888888,\"#fdca26\"],[1.0,\"#f0f921\"]]}],\"mesh3d\":[{\"type\":\"mesh3d\",\"colorbar\":{\"outlinewidth\":0,\"ticks\":\"\"}}],\"scatter\":[{\"fillpattern\":{\"fillmode\":\"overlay\",\"size\":10,\"solidity\":0.2},\"type\":\"scatter\"}],\"parcoords\":[{\"type\":\"parcoords\",\"line\":{\"colorbar\":{\"outlinewidth\":0,\"ticks\":\"\"}}}],\"scatterpolargl\":[{\"type\":\"scatterpolargl\",\"marker\":{\"colorbar\":{\"outlinewidth\":0,\"ticks\":\"\"}}}],\"bar\":[{\"error_x\":{\"color\":\"#2a3f5f\"},\"error_y\":{\"color\":\"#2a3f5f\"},\"marker\":{\"line\":{\"color\":\"#E5ECF6\",\"width\":0.5},\"pattern\":{\"fillmode\":\"overlay\",\"size\":10,\"solidity\":0.2}},\"type\":\"bar\"}],\"scattergeo\":[{\"type\":\"scattergeo\",\"marker\":{\"colorbar\":{\"outlinewidth\":0,\"ticks\":\"\"}}}],\"scatterpolar\":[{\"type\":\"scatterpolar\",\"marker\":{\"colorbar\":{\"outlinewidth\":0,\"ticks\":\"\"}}}],\"histogram\":[{\"marker\":{\"pattern\":{\"fillmode\":\"overlay\",\"size\":10,\"solidity\":0.2}},\"type\":\"histogram\"}],\"scattergl\":[{\"type\":\"scattergl\",\"marker\":{\"colorbar\":{\"outlinewidth\":0,\"ticks\":\"\"}}}],\"scatter3d\":[{\"type\":\"scatter3d\",\"line\":{\"colorbar\":{\"outlinewidth\":0,\"ticks\":\"\"}},\"marker\":{\"colorbar\":{\"outlinewidth\":0,\"ticks\":\"\"}}}],\"scattermapbox\":[{\"type\":\"scattermapbox\",\"marker\":{\"colorbar\":{\"outlinewidth\":0,\"ticks\":\"\"}}}],\"scatterternary\":[{\"type\":\"scatterternary\",\"marker\":{\"colorbar\":{\"outlinewidth\":0,\"ticks\":\"\"}}}],\"scattercarpet\":[{\"type\":\"scattercarpet\",\"marker\":{\"colorbar\":{\"outlinewidth\":0,\"ticks\":\"\"}}}],\"carpet\":[{\"aaxis\":{\"endlinecolor\":\"#2a3f5f\",\"gridcolor\":\"white\",\"linecolor\":\"white\",\"minorgridcolor\":\"white\",\"startlinecolor\":\"#2a3f5f\"},\"baxis\":{\"endlinecolor\":\"#2a3f5f\",\"gridcolor\":\"white\",\"linecolor\":\"white\",\"minorgridcolor\":\"white\",\"startlinecolor\":\"#2a3f5f\"},\"type\":\"carpet\"}],\"table\":[{\"cells\":{\"fill\":{\"color\":\"#EBF0F8\"},\"line\":{\"color\":\"white\"}},\"header\":{\"fill\":{\"color\":\"#C8D4E3\"},\"line\":{\"color\":\"white\"}},\"type\":\"table\"}],\"barpolar\":[{\"marker\":{\"line\":{\"color\":\"#E5ECF6\",\"width\":0.5},\"pattern\":{\"fillmode\":\"overlay\",\"size\":10,\"solidity\":0.2}},\"type\":\"barpolar\"}],\"pie\":[{\"automargin\":true,\"type\":\"pie\"}]},\"layout\":{\"autotypenumbers\":\"strict\",\"colorway\":[\"#636efa\",\"#EF553B\",\"#00cc96\",\"#ab63fa\",\"#FFA15A\",\"#19d3f3\",\"#FF6692\",\"#B6E880\",\"#FF97FF\",\"#FECB52\"],\"font\":{\"color\":\"#2a3f5f\"},\"hovermode\":\"closest\",\"hoverlabel\":{\"align\":\"left\"},\"paper_bgcolor\":\"white\",\"plot_bgcolor\":\"#E5ECF6\",\"polar\":{\"bgcolor\":\"#E5ECF6\",\"angularaxis\":{\"gridcolor\":\"white\",\"linecolor\":\"white\",\"ticks\":\"\"},\"radialaxis\":{\"gridcolor\":\"white\",\"linecolor\":\"white\",\"ticks\":\"\"}},\"ternary\":{\"bgcolor\":\"#E5ECF6\",\"aaxis\":{\"gridcolor\":\"white\",\"linecolor\":\"white\",\"ticks\":\"\"},\"baxis\":{\"gridcolor\":\"white\",\"linecolor\":\"white\",\"ticks\":\"\"},\"caxis\":{\"gridcolor\":\"white\",\"linecolor\":\"white\",\"ticks\":\"\"}},\"coloraxis\":{\"colorbar\":{\"outlinewidth\":0,\"ticks\":\"\"}},\"colorscale\":{\"sequential\":[[0.0,\"#0d0887\"],[0.1111111111111111,\"#46039f\"],[0.2222222222222222,\"#7201a8\"],[0.3333333333333333,\"#9c179e\"],[0.4444444444444444,\"#bd3786\"],[0.5555555555555556,\"#d8576b\"],[0.6666666666666666,\"#ed7953\"],[0.7777777777777778,\"#fb9f3a\"],[0.8888888888888888,\"#fdca26\"],[1.0,\"#f0f921\"]],\"sequentialminus\":[[0.0,\"#0d0887\"],[0.1111111111111111,\"#46039f\"],[0.2222222222222222,\"#7201a8\"],[0.3333333333333333,\"#9c179e\"],[0.4444444444444444,\"#bd3786\"],[0.5555555555555556,\"#d8576b\"],[0.6666666666666666,\"#ed7953\"],[0.7777777777777778,\"#fb9f3a\"],[0.8888888888888888,\"#fdca26\"],[1.0,\"#f0f921\"]],\"diverging\":[[0,\"#8e0152\"],[0.1,\"#c51b7d\"],[0.2,\"#de77ae\"],[0.3,\"#f1b6da\"],[0.4,\"#fde0ef\"],[0.5,\"#f7f7f7\"],[0.6,\"#e6f5d0\"],[0.7,\"#b8e186\"],[0.8,\"#7fbc41\"],[0.9,\"#4d9221\"],[1,\"#276419\"]]},\"xaxis\":{\"gridcolor\":\"white\",\"linecolor\":\"white\",\"ticks\":\"\",\"title\":{\"standoff\":15},\"zerolinecolor\":\"white\",\"automargin\":true,\"zerolinewidth\":2},\"yaxis\":{\"gridcolor\":\"white\",\"linecolor\":\"white\",\"ticks\":\"\",\"title\":{\"standoff\":15},\"zerolinecolor\":\"white\",\"automargin\":true,\"zerolinewidth\":2},\"scene\":{\"xaxis\":{\"backgroundcolor\":\"#E5ECF6\",\"gridcolor\":\"white\",\"linecolor\":\"white\",\"showbackground\":true,\"ticks\":\"\",\"zerolinecolor\":\"white\",\"gridwidth\":2},\"yaxis\":{\"backgroundcolor\":\"#E5ECF6\",\"gridcolor\":\"white\",\"linecolor\":\"white\",\"showbackground\":true,\"ticks\":\"\",\"zerolinecolor\":\"white\",\"gridwidth\":2},\"zaxis\":{\"backgroundcolor\":\"#E5ECF6\",\"gridcolor\":\"white\",\"linecolor\":\"white\",\"showbackground\":true,\"ticks\":\"\",\"zerolinecolor\":\"white\",\"gridwidth\":2}},\"shapedefaults\":{\"line\":{\"color\":\"#2a3f5f\"}},\"annotationdefaults\":{\"arrowcolor\":\"#2a3f5f\",\"arrowhead\":0,\"arrowwidth\":1},\"geo\":{\"bgcolor\":\"white\",\"landcolor\":\"#E5ECF6\",\"subunitcolor\":\"white\",\"showland\":true,\"showlakes\":true,\"lakecolor\":\"white\"},\"title\":{\"x\":0.05},\"mapbox\":{\"style\":\"light\"}}},\"xaxis\":{\"anchor\":\"y\",\"domain\":[0.0,1.0],\"scaleanchor\":\"y\",\"constrain\":\"domain\",\"title\":{\"text\":\"Head\"},\"showline\":true,\"linewidth\":1,\"linecolor\":\"black\",\"mirror\":true},\"yaxis\":{\"anchor\":\"x\",\"domain\":[0.0,1.0],\"autorange\":\"reversed\",\"constrain\":\"domain\",\"title\":{\"text\":\"Layer\"},\"showline\":true,\"linewidth\":1,\"linecolor\":\"black\",\"mirror\":true},\"coloraxis\":{\"colorbar\":{\"title\":{\"text\":\"Logit diff variation\"},\"ticksuffix\":\"%\"},\"colorscale\":[[0.0,\"rgb(103,0,31)\"],[0.1,\"rgb(178,24,43)\"],[0.2,\"rgb(214,96,77)\"],[0.3,\"rgb(244,165,130)\"],[0.4,\"rgb(253,219,199)\"],[0.5,\"rgb(247,247,247)\"],[0.6,\"rgb(209,229,240)\"],[0.7,\"rgb(146,197,222)\"],[0.8,\"rgb(67,147,195)\"],[0.9,\"rgb(33,102,172)\"],[1.0,\"rgb(5,48,97)\"]],\"cmid\":0.0},\"title\":{\"text\":\"Patching output of attention heads (corrupted -\\u003e clean)\"},\"width\":600,\"margin\":{\"r\":100,\"l\":100}},                        {\"responsive\": true}                    ).then(function(){\n",
       "                            \n",
       "var gd = document.getElementById('1c16e369-1d85-4cca-99d7-a7e0d12bdcc3');\n",
       "var x = new MutationObserver(function (mutations, observer) {{\n",
       "        var display = window.getComputedStyle(gd).display;\n",
       "        if (!display || display === 'none') {{\n",
       "            console.log([gd, 'removed!']);\n",
       "            Plotly.purge(gd);\n",
       "            observer.disconnect();\n",
       "        }}\n",
       "}});\n",
       "\n",
       "// Listen for the removal of the full notebook cells\n",
       "var notebookContainer = gd.closest('#notebook-container');\n",
       "if (notebookContainer) {{\n",
       "    x.observe(notebookContainer, {childList: true});\n",
       "}}\n",
       "\n",
       "// Listen for the clearing of the current output cell\n",
       "var outputEl = gd.closest('.output');\n",
       "if (outputEl) {{\n",
       "    x.observe(outputEl, {childList: true});\n",
       "}}\n",
       "\n",
       "                        })                };                });            </script>        </div>"
      ]
     },
     "metadata": {},
     "output_type": "display_data"
    }
   ],
   "source": [
    "imshow_p(\n",
    "    results['z'] * 100,\n",
    "    title=\"Patching output of attention heads (corrupted -> clean)\",\n",
    "    labels={\"x\": \"Head\", \"y\": \"Layer\", \"color\": \"Logit diff variation\"},\n",
    "    coloraxis=dict(colorbar_ticksuffix = \"%\"),\n",
    "    border=True,\n",
    "    width=600,\n",
    "    margin={\"r\": 100, \"l\": 100}\n",
    ")"
   ]
  },
  {
   "attachments": {},
   "cell_type": "markdown",
   "id": "b31c950f",
   "metadata": {},
   "source": [
    "#### Head Output by Component"
   ]
  },
  {
   "cell_type": "code",
   "execution_count": 40,
   "id": "1dd96bbc",
   "metadata": {},
   "outputs": [
    {
     "data": {
      "application/vnd.jupyter.widget-view+json": {
       "model_id": "f81d3b39b2864effa8e0e9eeaa72b396",
       "version_major": 2,
       "version_minor": 0
      },
      "text/plain": [
       "  0%|          | 0/1920 [00:00<?, ?it/s]"
      ]
     },
     "metadata": {},
     "output_type": "display_data"
    },
    {
     "name": "stdout",
     "output_type": "stream",
     "text": [
      "results['z'].shape = (layer=24, head=16)\n",
      "results['q'].shape = (layer=24, head=16)\n",
      "results['k'].shape = (layer=24, head=16)\n",
      "results['v'].shape = (layer=24, head=16)\n",
      "results['pattern'].shape = (layer=24, head=16)\n"
     ]
    }
   ],
   "source": [
    "# iterating over all heads' output in all layers\n",
    "\n",
    "results = act_patch(\n",
    "    model=model,\n",
    "    orig_input=corrupted_tokens,\n",
    "    new_cache=clean_cache,\n",
    "    patching_nodes=IterNode([\"z\", \"q\", \"k\", \"v\", \"pattern\"]),\n",
    "    patching_metric=logit_diff_denoising,\n",
    "    verbose=True,\n",
    ")"
   ]
  },
  {
   "cell_type": "code",
   "execution_count": 41,
   "id": "01e36106",
   "metadata": {},
   "outputs": [
    {
     "data": {
      "application/vnd.plotly.v1+json": {
       "config": {
        "plotlyServerURL": "https://plot.ly"
       },
       "data": [
        {
         "coloraxis": "coloraxis",
         "hovertemplate": "Head: %{x}<br>Layer: %{y}<br>Logit diff variation: %{z}<extra></extra>",
         "name": "0",
         "type": "heatmap",
         "xaxis": "x",
         "yaxis": "y",
         "z": [
          [
           -0.001016246504150331,
           -0.022714786231517792,
           -0.295688658952713,
           0.033323951065540314,
           0.08874289691448212,
           -0.10179217159748077,
           0.14288315176963806,
           0.3801432251930237,
           -0.003350263461470604,
           0.09075304865837097,
           0.12743842601776123,
           -0.0044446829706430435,
           -0.0715337023139,
           0.3045612573623657,
           -0.10873838514089584,
           0.003986813127994537
          ],
          [
           -0.03431786224246025,
           0.06406261771917343,
           -0.4229372441768646,
           0.07180172950029373,
           0.19687820971012115,
           0.25593218207359314,
           0.011826429516077042,
           -0.08788298815488815,
           0.15942786633968353,
           0.06488343328237534,
           0.05004734918475151,
           0.23256969451904297,
           -0.08004895597696304,
           0.14540143311023712,
           0.010776680894196033,
           0.1654583364725113
          ],
          [
           0.08239972591400146,
           0.11864399164915085,
           -0.08231038600206375,
           0.005874128546565771,
           -0.22077676653862,
           0.006985299289226532,
           0.10023988038301468,
           0.04419555887579918,
           0.13794150948524475,
           -0.18219290673732758,
           0.12067090719938278,
           -0.10208810865879059,
           -0.05743468180298805,
           0.2074594795703888,
           -0.1884690672159195,
           0.1395496279001236
          ],
          [
           -0.07387330383062363,
           -0.07573828846216202,
           0.45345258712768555,
           0.07711189985275269,
           0.19510817527770996,
           0.19658787548542023,
           -0.14843341708183289,
           -0.05216359719634056,
           0.05146004259586334,
           0.2834267020225525,
           -0.04952806234359741,
           -0.0032776740845292807,
           0.21383054554462433,
           0.04202905297279358,
           -0.019515283405780792,
           -0.12245211750268936
          ],
          [
           -0.027036625891923904,
           -0.029711250215768814,
           -0.27385610342025757,
           -0.28989270329475403,
           0.0442793145775795,
           -0.17179591953754425,
           0.07582762837409973,
           0.0036741220392286777,
           0.038081325590610504,
           0.030224960297346115,
           -0.060701191425323486,
           0.08918959647417068,
           -0.20595744252204895,
           0.8151078820228577,
           0.14507757127285004,
           0.5015455484390259
          ],
          [
           -0.09658250957727432,
           -0.35249796509742737,
           -0.31020087003707886,
           0.28585004806518555,
           -0.004539606627076864,
           0.21223360300064087,
           0.05039912462234497,
           -0.09025609493255615,
           -0.015299536287784576,
           -0.31360697746276855,
           -0.40236660838127136,
           0.17563755810260773,
           -0.6094799041748047,
           -0.1503821611404419,
           0.029884349554777145,
           0.10395867377519608
          ],
          [
           0.0455133281648159,
           -0.23977835476398468,
           0.006951796356588602,
           0.10144038498401642,
           0.14151513576507568,
           -0.19312593340873718,
           0.0076665193773806095,
           0.0885530412197113,
           -0.07985352724790573,
           -0.2983018457889557,
           -0.21414323151111603,
           25.681533813476562,
           -0.7775123715400696,
           -0.24774082005023956,
           0.30979883670806885,
           0.07536976039409637
          ],
          [
           -0.08570531755685806,
           -0.027706677094101906,
           -0.06899867206811905,
           -0.0647215023636818,
           -0.05172248184680939,
           -0.30638158321380615,
           -0.3519339859485626,
           -0.6710745096206665,
           0.4370753765106201,
           -0.062398653477430344,
           0.059249408543109894,
           1.1207524538040161,
           -0.9416306614875793,
           0.21650518476963043,
           -0.0304483100771904,
           -0.3962412476539612
          ],
          [
           -0.32412123680114746,
           -0.6563891768455505,
           1.1648362874984741,
           -0.38792142271995544,
           0.11432773619890213,
           -0.32838723063468933,
           -0.14972884953022003,
           0.3585619330406189,
           0.26604440808296204,
           0.05051080510020256,
           1.3612174987792969,
           -1.3697328567504883,
           0.19184724986553192,
           -0.6480470299720764,
           -1.1037832498550415,
           -0.1926010549068451
          ],
          [
           -1.1136386394500732,
           0.5978991985321045,
           0.22519910335540771,
           0.27634647488594055,
           0.17172890901565552,
           0.9741169214248657,
           -0.1984863579273224,
           -0.01763913594186306,
           -0.2766368091106415,
           -0.7151806950569153,
           -0.23900778591632843,
           6.6907243728637695,
           0.002300514141097665,
           0.43633830547332764,
           -0.7227858304977417,
           0.5652341246604919
          ],
          [
           -0.0019822390750050545,
           0.06325297057628632,
           0.48121505975723267,
           -0.36273300647735596,
           1.3004661798477173,
           -4.216825485229492,
           -0.13298870623111725,
           -0.14465320110321045,
           -0.050454966723918915,
           -0.07588346302509308,
           0.524813175201416,
           0.7516315579414368,
           0.03293308988213539,
           3.199183225631714,
           -0.10164140164852142,
           -0.23497629165649414
          ],
          [
           -0.1199338436126709,
           43.65480041503906,
           0.003160415217280388,
           0.7521508932113647,
           -0.5114456415176392,
           0.17055073380470276,
           0.6120261549949646,
           0.04445241019129753,
           2.2220120429992676,
           -0.06845146417617798,
           -0.1004297286272049,
           -0.17674872279167175,
           -0.0360209159553051,
           0.2403869777917862,
           0.11464042961597443,
           -1.0425461530685425
          ],
          [
           -0.24737785756587982,
           -0.6926054954528809,
           2.3930373191833496,
           -0.31352880597114563,
           0.04320722818374634,
           0.14534558355808258,
           -0.4948897361755371,
           -3.51371169090271,
           1.7659684419631958,
           -0.49124351143836975,
           -0.21217775344848633,
           -0.13337399065494537,
           0.6793385148048401,
           -0.0733819305896759,
           -0.01388684194535017,
           0.22671790421009064
          ],
          [
           3.4253482818603516,
           -0.23360827565193176,
           -2.8354172706604004,
           -4.442633152008057,
           -0.000033502634323667735,
           0.30121660232543945,
           1.6051950454711914,
           -0.6227748394012451,
           2.791579008102417,
           -0.5255893468856812,
           0.02682444080710411,
           -1.2134430408477783,
           -0.14217400550842285,
           15.665870666503906,
           -0.07522457838058472,
           0.1519344449043274
          ],
          [
           1.6594078540802002,
           -0.923801600933075,
           1.541165828704834,
           -0.001122338231652975,
           0.014780244790017605,
           -0.5402634739875793,
           0.6745587587356567,
           1.0954300165176392,
           0.3091120421886444,
           0.3864249587059021,
           -0.18956907093524933,
           -0.21460670232772827,
           1.6537513732910156,
           -0.15291160345077515,
           -1.9889675378799438,
           0.8388444781303406
          ],
          [
           -0.2559601068496704,
           -0.23795804381370544,
           0.013847755268216133,
           0.1544080525636673,
           -0.021899554878473282,
           0.09917337447404861,
           -0.15350349247455597,
           0.04068894684314728,
           -0.3242775797843933,
           -0.037545282393693924,
           -0.13785216212272644,
           0.1914507895708084,
           -0.9121649861335754,
           -0.027706677094101906,
           0.18167918920516968,
           0.28230994939804077
          ],
          [
           0.2063371241092682,
           0.3296658992767334,
           0.05403974652290344,
           0.049349378794431686,
           2.0692455768585205,
           -0.051940251141786575,
           1.5544049739837646,
           -1.1059554815292358,
           0.00008375658217119053,
           0.07450985908508301,
           -0.10078708827495575,
           -0.19018328189849854,
           -1.454416275024414,
           0.05120877921581268,
           -0.1346750110387802,
           -0.020805135369300842
          ],
          [
           -0.10839218646287918,
           -0.17970812320709229,
           0,
           -0.02166503667831421,
           -1.395965337753296,
           -0.10563381016254425,
           -0.03555746376514435,
           0.20706860721111298,
           0.15166641771793365,
           -0.0200736615806818,
           -0.0018873149529099464,
           -0.256267249584198,
           -0.007325909100472927,
           -0.10432719439268112,
           -0.03993513807654381,
           -0.21290923655033112
          ],
          [
           -0.21057522296905518,
           -0.0961916446685791,
           8.407971382141113,
           -0.03411126509308815,
           -0.03740568831562996,
           -0.08252257108688354,
           0.261873334646225,
           -0.004299504682421684,
           0.00040203158278018236,
           -0.10644344985485077,
           -2.250824213027954,
           -0.0111731281504035,
           0.05410674959421158,
           -0.011865516193211079,
           -0.023999053984880447,
           -0.2543240785598755
          ],
          [
           -0.022804126143455505,
           -0.18688327074050903,
           0.27055051922798157,
           -0.07996520400047302,
           -0.09379620105028152,
           0.16006441414356232,
           0.3979721963405609,
           -0.06613419950008392,
           -0.08518602699041367,
           -0.010246221907436848,
           0.04011940211057663,
           0.36108580231666565,
           0.08695049583911896,
           -1.3353089094161987,
           0.18047310411930084,
           -0.8716659545898438
          ],
          [
           0.15618368983268738,
           -0.23123517632484436,
           -0.07225959748029709,
           -0.7056715488433838,
           0.05889204144477844,
           -0.10660537332296371,
           0.012273131869733334,
           -0.004226915538311005,
           -0.09241142868995667,
           -0.637443482875824,
           -0.09060229361057281,
           -0.013473642989993095,
           -0.006633521057665348,
           0.07485046237707138,
           0.024981796741485596,
           -0.013300545513629913
          ],
          [
           4.073844909667969,
           -0.06870831549167633,
           -0.07084131985902786,
           -0.05318542942404747,
           -0.2097376585006714,
           0.16831722855567932,
           -0.319888710975647,
           -0.04863465577363968,
           -0.016125934198498726,
           -0.24364790320396423,
           0.059662606567144394,
           -1.0471471548080444,
           -0.0031380802392959595,
           0.10057491064071655,
           3.8849987983703613,
           0.0348818264901638
          ],
          [
           0.4226747751235962,
           0.01149698719382286,
           0.17946243286132812,
           0.10820792615413666,
           0.03210669010877609,
           0.02411072701215744,
           0.0213132593780756,
           -0.12241862714290619,
           -0.022586358711123466,
           -0.10512568056583405,
           0.006181235890835524,
           -0.13730496168136597,
           0.24138647317886353,
           0.0034116848837584257,
           -0.04013615474104881,
           -0.004422347992658615
          ],
          [
           0.08888248354196548,
           -0.08090327680110931,
           -0.09260686486959457,
           0.007789362221956253,
           -0.06823927909135818,
           0.05581538379192352,
           1.142724633216858,
           -0.000039086404285626486,
           0.00017868071154225618,
           1.4154192209243774,
           0.2224351465702057,
           -0.07229310274124146,
           -0.000033502634323667735,
           0.019956402480602264,
           0.0842200368642807,
           0.10722517967224121
          ]
         ]
        },
        {
         "coloraxis": "coloraxis",
         "hovertemplate": "Head: %{x}<br>Layer: %{y}<br>Logit diff variation: %{z}<extra></extra>",
         "name": "1",
         "type": "heatmap",
         "xaxis": "x2",
         "yaxis": "y2",
         "z": [
          [
           0.00013401053729467094,
           -0.020391937345266342,
           0.061198145151138306,
           0.22020162642002106,
           0.01963254250586033,
           -0.01172592118382454,
           0.1623649299144745,
           0.07563777267932892,
           -0.01456247828900814,
           -0.02192188985645771,
           0.02173762395977974,
           -0.016857407987117767,
           0.02173762395977974,
           -0.0296219103038311,
           0.04148184508085251,
           -0.0011614246759563684
          ],
          [
           -0.04110773280262947,
           0.11806885898113251,
           -0.17736852169036865,
           0.07155045866966248,
           0.03267623484134674,
           -0.0013401053147390485,
           -0.22559556365013123,
           0.0433468222618103,
           -0.021028487011790276,
           0.03272648900747299,
           0.06671490520238876,
           -0.01926959864795208,
           -0.138511061668396,
           0.1256013810634613,
           0.09889977425336838,
           0.043145809322595596
          ],
          [
           -0.07124893367290497,
           0.03359197452664375,
           -0.1282871663570404,
           -0.018136093392968178,
           -0.17289592325687408,
           0.021318841725587845,
           0.015277200378477573,
           0.006393418647348881,
           -0.00810763705521822,
           -0.05644076690077782,
           -0.051074765622615814,
           0.20711329579353333,
           0.011742672882974148,
           0.040370672941207886,
           0.02688586339354515,
           -0.008124388754367828
          ],
          [
           0.0473727248609066,
           -0.014668568968772888,
           0.1268409639596939,
           0.06558141112327576,
           0.01761680096387863,
           0.027276726439595222,
           0.06166159734129906,
           -0.021866053342819214,
           -0.05375497415661812,
           0.05295649915933609,
           0.016539134085178375,
           -0.12423334270715714,
           -0.014177197590470314,
           0.036478783935308456,
           0.043776772916316986,
           -0.10622009634971619
          ],
          [
           0.012116785161197186,
           -0.034167103469371796,
           0.06414636969566345,
           -0.1406775563955307,
           -0.028678253293037415,
           0.05213009938597679,
           0.016600554808974266,
           -0.049081359058618546,
           0.012429477646946907,
           -0.09628656506538391,
           0.04485444352030754,
           0.01659497059881687,
           -0.004109656438231468,
           0.05577629804611206,
           -0.03637269139289856,
           -0.023920880630612373
          ],
          [
           -0.02375895157456398,
           0.024551846086978912,
           0.07500681281089783,
           0.08698400110006332,
           0.016779236495494843,
           0.03858945146203041,
           0.057557523250579834,
           0.0015132023254409432,
           -0.019035078585147858,
           -0.17984214425086975,
           -0.1269414722919464,
           0.2567139267921448,
           0.21397574245929718,
           0.10499724745750427,
           -0.14857301115989685,
           -0.007002050522714853
          ],
          [
           -0.037924978882074356,
           -0.15407302975654602,
           -0.028923939913511276,
           0.15847302973270416,
           0.001764472108334303,
           0.05700473114848137,
           0.028119876980781555,
           -0.026461496949195862,
           0.24892456829547882,
           0.10757136344909668,
           -0.08496268093585968,
           0.047646328806877136,
           -0.07694438099861145,
           0.09803987294435501,
           -0.06519054621458054,
           0.07370579242706299
          ],
          [
           0.03359755873680115,
           -0.07034435868263245,
           -0.02151985839009285,
           -0.07002608478069305,
           0.1414927840232849,
           0.08261749148368835,
           0.11032416671514511,
           0.11937545984983444,
           0.21493613719940186,
           -0.03441837430000305,
           0.09843073785305023,
           0.09743682295084,
           -0.4118311107158661,
           -0.1108434647321701,
           0.13827653229236603,
           -0.20948639512062073
          ],
          [
           -0.04514480009675026,
           -0.017633551731705666,
           -0.062398653477430344,
           -0.037243761122226715,
           0.017851321026682854,
           -0.09948606789112091,
           -0.10638203471899033,
           -0.16619539260864258,
           0.179066002368927,
           0.10863786935806274,
           0.20434372127056122,
           -0.04879100248217583,
           0.2127305567264557,
           -0.24609358608722687,
           0.21549451351165771,
           0.14843341708183289
          ],
          [
           -0.07057888060808182,
           -0.07005400955677032,
           0.06349307298660278,
           -0.6450932025909424,
           0.009587336331605911,
           0.1262323409318924,
           -0.1197216585278511,
           0.08959721028804779,
           0.14974002540111542,
           -0.09875459223985672,
           -0.08254490792751312,
           -0.19199800491333008,
           0.007364995777606964,
           -0.0900997519493103,
           -0.02077721618115902,
           -0.07878144085407257
          ],
          [
           -0.010179216973483562,
           0.03262598067522049,
           -0.04738388955593109,
           -0.08077484369277954,
           0.09941348433494568,
           -0.1924000382423401,
           0.10762721300125122,
           0.032380297780036926,
           -0.016003092750906944,
           -0.015288368798792362,
           -0.06247124448418617,
           -0.05907631292939186,
           0.08950228244066238,
           -0.20417062938213348,
           -0.03790264576673508,
           -0.06902658939361572
          ],
          [
           -0.04655749350786209,
           -0.8408212065696716,
           -0.07280122488737106,
           -0.03879046440124512,
           -0.3017917275428772,
           0.13591459393501282,
           -0.010128962807357311,
           -0.033508218824863434,
           -1.0210206508636475,
           0.07407432794570923,
           -0.09329366683959961,
           -0.19377923011779785,
           0.047121454030275345,
           0.11553383618593216,
           -0.04206255450844765,
           -0.06886466592550278
          ],
          [
           0.024205652996897697,
           -0.2291468381881714,
           0.29119929671287537,
           -0.15376591682434082,
           -0.009827438741922379,
           0.06022098287940025,
           -0.08681090176105499,
           -1.245672583580017,
           -0.08399110287427902,
           -0.24568040668964386,
           0.10969320684671402,
           0.013708160258829594,
           -0.12574654817581177,
           0.035931576043367386,
           -0.020671125501394272,
           0.046937186270952225
          ],
          [
           0.45086726546287537,
           -0.06188494712114334,
           0.7617326378822327,
           -0.4877704083919525,
           0.00017868071154225618,
           -0.006549764424562454,
           0.2755982577800751,
           0.2593662142753601,
           0.05193466693162918,
           -0.05879712477326393,
           0.026321902871131897,
           -0.2053990513086319,
           -0.014233035035431385,
           2.522742748260498,
           -0.08167942613363266,
           -0.0327209047973156
          ],
          [
           0.19623050093650818,
           -0.03936559334397316,
           -0.07629108428955078,
           -0.0002624373009894043,
           0.012155871838331223,
           -0.6290063858032227,
           0.14152629673480988,
           -0.016014259308576584,
           0.04071686789393425,
           0.018253352493047714,
           -0.12007343769073486,
           -0.0055223507806658745,
           0.1457308828830719,
           -0.00030710746068507433,
           -0.04684784635901451,
           0.27787643671035767
          ],
          [
           0.07046720385551453,
           -0.009313732385635376,
           0.008772105909883976,
           0.019978737458586693,
           0.018560457974672318,
           -0.08507435768842697,
           -0.36357614398002625,
           0.008593425154685974,
           -0.5164877772331238,
           -0.008587841875851154,
           -0.13329580426216125,
           0.06717278063297272,
           0.016382787376642227,
           0.05803214758634567,
           -0.1075434535741806,
           0.07857484370470047
          ],
          [
           -0.21689604222774506,
           0.09169112145900726,
           0.026366570964455605,
           0.0032106691505759954,
           0.07261137664318085,
           0.015701567754149437,
           -0.15407302975654602,
           0.05895347148180008,
           0.00034619387588463724,
           -0.013920344412326813,
           -0.017326444387435913,
           0.0012284298427402973,
           -0.024752862751483917,
           0.0050198109820485115,
           -0.010391400195658207,
           0.002613205462694168
          ],
          [
           -0.017655888572335243,
           -0.20176962018013,
           0,
           0.01859954558312893,
           -0.06654181331396103,
           -0.09228859096765518,
           -0.014193948358297348,
           0.07580529153347015,
           0.07470528781414032,
           -0.005790371913462877,
           -0.07189106196165085,
           -0.016539134085178375,
           0.0080238813534379,
           -0.012680746614933014,
           0.001010662759654224,
           -0.17485582828521729
          ],
          [
           -0.005544685758650303,
           -0.04430723190307617,
           -0.10163582861423492,
           -0.0011279219761490822,
           -0.12431710213422775,
           -0.016042176634073257,
           0.03669096529483795,
           -0.0016862992197275162,
           -0.23064328730106354,
           -0.09455560147762299,
           -0.2580372989177704,
           -0.06866364926099777,
           0.1288064569234848,
           -0.0021609198302030563,
           0.027935611084103584,
           -0.22875040769577026
          ],
          [
           -0.013211204670369625,
           -0.08992665261030197,
           0.033156439661979675,
           -0.11989475786685944,
           -0.010402567684650421,
           0.00967109389603138,
           -0.018219849094748497,
           0.1886644959449768,
           0.029370643198490143,
           -0.00838124193251133,
           0.05350370705127716,
           0.02569093555212021,
           0.05935549736022949,
           -0.007683270610868931,
           0.09090381115674973,
           0.13609886169433594
          ],
          [
           0.07743017375469208,
           -0.12125720083713531,
           0.01670106314122677,
           -0.802131175994873,
           0.045664090663194656,
           -0.037740714848041534,
           0.029398562386631966,
           -0.0005751285352744162,
           -0.02676302194595337,
           -0.26220834255218506,
           0.05952301621437073,
           -0.00032944255508482456,
           -0.009207640774548054,
           0.03819858655333519,
           0.14173847436904907,
           -0.2128087282180786
          ],
          [
           0.30608564615249634,
           -0.014685321599245071,
           -0.02812546119093895,
           0.0016081263311207294,
           0.03924275189638138,
           -0.07500123232603073,
           -0.12039729952812195,
           -0.00011725921649485826,
           -0.013808668591082096,
           -0.1834157556295395,
           0.021341176703572273,
           0.1961970031261444,
           -0.001848228508606553,
           0.030749833211302757,
           0.030275212600827217,
           -0.378557413816452
          ],
          [
           0.08053474873304367,
           0.008157891221344471,
           -0.056038737297058105,
           0.018314773216843605,
           -0.04649607092142105,
           0.024741696193814278,
           0.009012208320200443,
           -0.04374885559082031,
           -0.008342155255377293,
           0.0019822390750050545,
           0.009380737319588661,
           -0.04953364282846451,
           0.0878383219242096,
           0.000033502634323667735,
           0.12772320210933685,
           -0.005807123146951199
          ],
          [
           0.020782800391316414,
           0.07845199853181839,
           -0.06266109645366669,
           0.0013289378257468343,
           0.04153209924697876,
           0.0007203065906651318,
           0.19079191982746124,
           -0.000011167544471391011,
           0.0004131991299800575,
           0.005835041869431734,
           0.024540679529309273,
           0.016511214897036552,
           -0.000033502634323667735,
           -0.005963468924164772,
           -0.03805340826511383,
           0.013501561246812344
          ]
         ]
        },
        {
         "coloraxis": "coloraxis",
         "hovertemplate": "Head: %{x}<br>Layer: %{y}<br>Logit diff variation: %{z}<extra></extra>",
         "name": "2",
         "type": "heatmap",
         "xaxis": "x3",
         "yaxis": "y3",
         "z": [
          [
           0.001853812369517982,
           -0.14771869778633118,
           -0.09203732013702393,
           0.2485281080007553,
           -0.04903110861778259,
           0.0004131991299800575,
           0.03380974009633064,
           -0.029264550656080246,
           -0.025026468560099602,
           0.06840121001005173,
           0.09967034310102463,
           0.013657907024025917,
           0.010112212039530277,
           -0.014869584701955318,
           0.04199555143713951,
           0.004762957338243723
          ],
          [
           -0.010804599151015282,
           0.0537717267870903,
           -0.004902551881968975,
           0.02896302565932274,
           0.05242045223712921,
           0.06012047454714775,
           -0.219123974442482,
           -0.03865087032318115,
           0.09994952380657196,
           0.022346256300807,
           -0.02103406935930252,
           0.05317426472902298,
           -0.08292460441589355,
           -0.021832549944519997,
           0.17300201952457428,
           0.08324287831783295
          ],
          [
           -0.06053367257118225,
           -0.039700619876384735,
           0.0032553391065448523,
           0.010726425796747208,
           0.015902582556009293,
           0.031950343400239944,
           0.009492413140833378,
           -0.028192467987537384,
           0.05881386995315552,
           0.04054376855492592,
           -0.002322849351912737,
           0.17416344583034515,
           0.024060474708676338,
           0.08382359147071838,
           0.012368055060505867,
           0.01361323706805706
          ],
          [
           0.0818413496017456,
           0.04026458039879799,
           -0.009079213254153728,
           0.00401473231613636,
           0.11116731911897659,
           0.02432849630713463,
           -0.04719962552189827,
           -0.10168606787919998,
           -0.015567557886242867,
           0.0757606253027916,
           0.03951635584235191,
           -0.09194239228963852,
           0.01074876170605421,
           0.03966711834073067,
           -0.09466727823019028,
           -0.08815101534128189
          ],
          [
           -0.03471989557147026,
           -0.0009659926290623844,
           -0.16828931868076324,
           0.13238565623760223,
           -0.05115852132439613,
           -0.10618659108877182,
           -0.07350478321313858,
           0.004494936671108007,
           0.0015243698144331574,
           -0.039287421852350235,
           -0.016768068075180054,
           0.060455501079559326,
           -0.019398024305701256,
           0.24432353675365448,
           0.008900532498955727,
           -0.052426040172576904
          ],
          [
           -0.0535707101225853,
           -0.06926669180393219,
           -0.05714990943670273,
           0.003774629905819893,
           0.01349597703665495,
           -0.03992396965622902,
           0.0014406131813302636,
           0.002334016840904951,
           0.000027918860723730177,
           0.09611347317695618,
           -0.013473642989993095,
           0.12975570559501648,
           -0.12676279246807098,
           -0.1360374391078949,
           0.04285545274615288,
           -0.009900027886033058
          ],
          [
           0.017488375306129456,
           -0.04369301721453667,
           0.003970061894506216,
           -0.07301340997219086,
           0.1656481921672821,
           0.10872720927000046,
           -0.0584230050444603,
           0.017326444387435913,
           0.1454237550497055,
           -0.06876973807811737,
           0.10286425054073334,
           -0.20863206684589386,
           0.05060572922229767,
           -0.06531896442174911,
           0.03817066550254822,
           0.034932080656290054
          ],
          [
           0.10185359418392181,
           -0.06445348262786865,
           -0.028449319303035736,
           -0.06654740124940872,
           -0.03603766858577728,
           -0.014534559100866318,
           0.10020079463720322,
           0.11166427284479141,
           0.052331116050481796,
           -0.078334741294384,
           -0.025612762197852135,
           0.2821591794490814,
           -0.20317113399505615,
           -0.20386908948421478,
           0.03403867781162262,
           -0.4734592139720917
          ],
          [
           -0.0410798117518425,
           -0.05960118770599365,
           0.2169574648141861,
           -0.026115303859114647,
           -0.049103692173957825,
           -0.3296603262424469,
           -0.0073873307555913925,
           -0.07262254506349564,
           -0.001289851381443441,
           0.15082326531410217,
           -0.22213363647460938,
           -0.0729687362909317,
           -0.053241267800331116,
           -0.06814993917942047,
           0.0008710684487596154,
           -0.1377963274717331
          ],
          [
           -0.19361171126365662,
           -0.07091949135065079,
           -0.04710470512509346,
           -0.685033917427063,
           0.060868699103593826,
           0.012027445249259472,
           0.024685857817530632,
           0.006912709679454565,
           0.050538718700408936,
           -0.056971225887537,
           -0.005416259169578552,
           -0.12446228414773941,
           0.011871099472045898,
           0.0431402251124382,
           -0.0878271535038948,
           -0.07126568257808685
          ],
          [
           0.0017142181750386953,
           0.05309050902724266,
           -0.03458588570356369,
           -0.09717997163534164,
           0.12201658636331558,
           -0.08603476732969284,
           0.12537802755832672,
           0.057546358555555344,
           -0.003886305494233966,
           -0.01518786046653986,
           -0.03618842735886574,
           -0.10142363607883453,
           0.02069345861673355,
           0.3402025103569031,
           -0.06660323590040207,
           -0.004148742649704218
          ],
          [
           -0.03085034340620041,
           -0.797546923160553,
           -0.03145897388458252,
           0.37625691294670105,
           -0.07395706325769424,
           -0.032826997339725494,
           0.005455345381051302,
           0.02245793119072914,
           -1.1832739114761353,
           -0.0702885240316391,
           -0.005265497136861086,
           -0.058495596051216125,
           -0.016114765778183937,
           0.03442953899502754,
           -0.06549764424562454,
           -0.46173328161239624
          ],
          [
           -0.0376737117767334,
           -0.10333328694105148,
           -0.3092348873615265,
           0.13735520839691162,
           -0.0025741190183907747,
           -0.1265394538640976,
           -0.12399882823228836,
           -0.9744352698326111,
           0.18141676485538483,
           0.07881493866443634,
           -0.022876715287566185,
           0.009827438741922379,
           0.11929728835821152,
           -0.012825923971831799,
           -0.0378747284412384,
           0.05643518641591072
          ],
          [
           -0.020721377804875374,
           -0.13327346742153168,
           0.18862541019916534,
           -0.5787523984909058,
           -0.000033502634323667735,
           -0.03307826817035675,
           0.47845110297203064,
           0.07040020078420639,
           -0.10274141281843185,
           -0.08697842061519623,
           -0.0040873209945857525,
           -0.07480579614639282,
           -0.02622697874903679,
           1.4519761800765991,
           0.1251825988292694,
           0.060550425201654434
          ],
          [
           0.22323362529277802,
           0.1822710782289505,
           0.13466383516788483,
           -0.00020659956499002874,
           0.0120497802272439,
           0.0030878260731697083,
           0.08744186908006668,
           0.1163211390376091,
           -0.0010218302486464381,
           -0.0725555345416069,
           0.029929019510746002,
           -0.2378072887659073,
           0.2356295883655548,
           0.037254929542541504,
           0.020492443814873695,
           -0.15650197863578796
          ],
          [
           -0.005086816381663084,
           0.07113725692033768,
           0.04402804374694824,
           -0.09719672054052353,
           -0.011318306438624859,
           -0.021659452468156815,
           0.027751348912715912,
           0.0084370793774724,
           0.030403640121221542,
           0.008319820277392864,
           0.01874472387135029,
           0.025093471631407738,
           0.1624710112810135,
           -0.04105747863650322,
           0.23895195126533508,
           0.0826789140701294
          ],
          [
           -0.025166062638163567,
           0.11888968199491501,
           -0.009123883210122585,
           -0.0013456890592351556,
           0.06406261771917343,
           0.0072030662558972836,
           0.0038807217497378588,
           -0.002652291674166918,
           0.00020659956499002874,
           0.0204868596047163,
           0.05721133202314377,
           -0.019772136583924294,
           0.10318253189325333,
           -0.02912495657801628,
           0.005678696557879448,
           0.0023786870297044516
          ],
          [
           -0.016706645488739014,
           -0.0908312201499939,
           0,
           0.004115240182727575,
           -0.3084028959274292,
           -0.006186819635331631,
           -0.006393418647348881,
           0.08454947918653488,
           0.060539256781339645,
           0.0010218302486464381,
           -0.0544920340180397,
           -0.31950902938842773,
           -0.0006868039490655065,
           -0.05486614629626274,
           0.0011614246759563684,
           0.2688642144203186
          ],
          [
           0.01449547242373228,
           0.0181137565523386,
           0.15220245718955994,
           -0.021793464198708534,
           -0.11266935616731644,
           -0.03487624228000641,
           0.1682446449995041,
           0.00006142149504739791,
           -0.03517217934131622,
           -0.03976762667298317,
           0.04722195863723755,
           -0.057496100664138794,
           -0.048813335597515106,
           -0.003824884071946144,
           0.001373607898131013,
           -0.0005862960824742913
          ],
          [
           -0.0017365531530231237,
           -0.028946273028850555,
           -0.02078838460147381,
           -0.02153102494776249,
           0.12325619161128998,
           0.07816164195537567,
           0.028890438377857208,
           -0.10706883668899536,
           -0.04937729611992836,
           -0.008051799610257149,
           -0.018409695476293564,
           0.01745487190783024,
           0.05513416975736618,
           -1.227257251739502,
           0.008973121643066406,
           -0.013060443103313446
          ],
          [
           0.023641692474484444,
           -0.06359916180372238,
           -0.007465503644198179,
           -0.021006150171160698,
           -0.002172087552025914,
           -0.000647717562969774,
           -0.019180258736014366,
           -0.0012228460982441902,
           -0.055491529405117035,
           0.05496107041835785,
           -0.24623319506645203,
           -0.019922899082303047,
           -0.003595949150621891,
           0.0011279219761490822,
           0.04773566871881485,
           -0.14475929737091064
          ],
          [
           0.22186559438705444,
           0.032229531556367874,
           -0.0051091518253088,
           -0.024959461763501167,
           -0.11065920442342758,
           0.04937729611992836,
           -0.013077194802463055,
           0.0125914067029953,
           -0.0010720842983573675,
           -0.009503579698503017,
           0.024239156395196915,
           0.12548969686031342,
           -0.001859396114014089,
           0.053447868674993515,
           0.11355158686637878,
           0.21173664927482605
          ],
          [
           0.014813748188316822,
           0.0017142181750386953,
           -0.059763114899396896,
           0.013278210535645485,
           -0.008950786665081978,
           -0.007102558389306068,
           0.011312722228467464,
           0.01946503110229969,
           -0.0043106721714138985,
           -0.15237556397914886,
           0.007454335689544678,
           -0.13484251499176025,
           -0.01035231351852417,
           0.001675131730735302,
           -0.009073629975318909,
           -0.02594779059290886
          ],
          [
           0.00034619387588463724,
           0.04374885559082031,
           -0.05419609323143959,
           0.004355342593044043,
           -0.03713766857981682,
           0.014149278402328491,
           0.4286215305328369,
           -0.000022335088942782022,
           0.0000055837722356955055,
           -0.022189911454916,
           0.002685794373974204,
           -0.025774693116545677,
           -0.0000055837722356955055,
           0.003216252662241459,
           -0.006354332435876131,
           0.003551279194653034
          ]
         ]
        },
        {
         "coloraxis": "coloraxis",
         "hovertemplate": "Head: %{x}<br>Layer: %{y}<br>Logit diff variation: %{z}<extra></extra>",
         "name": "3",
         "type": "heatmap",
         "xaxis": "x4",
         "yaxis": "y4",
         "z": [
          [
           -0.00007258904224727303,
           0.15262123942375183,
           -0.28118762373924255,
           0.002423357218503952,
           0.10162465274333954,
           -0.11483585834503174,
           0.0189401563256979,
           0.22815851867198944,
           0.0348874069750309,
           0.07504589855670929,
           0.09817946702241898,
           -0.004913719370961189,
           -0.06149408221244812,
           0.26873019337654114,
           -0.1721421182155609,
           -0.0021832550410181284
          ],
          [
           -0.005533518269658089,
           -0.08955253660678864,
           -0.25376012921333313,
           -0.00480204401537776,
           0.17614009976387024,
           0.2099219262599945,
           0.04188387468457222,
           -0.085560142993927,
           0.11908511072397232,
           0.04536814987659454,
           0.015980755910277367,
           0.20420973002910614,
           0.005717782769352198,
           0.030772170051932335,
           -0.15372683107852936,
           0.03407776355743408
          ],
          [
           0.05716665834188461,
           0.08190277218818665,
           -0.024886872619390488,
           0.04181128740310669,
           -0.05093517154455185,
           -0.011536073870956898,
           0.09872108697891235,
           0.045295558869838715,
           0.08702867478132248,
           -0.14039278030395508,
           0.18778225779533386,
           -0.15324105322360992,
           -0.08119921386241913,
           0.08142256736755371,
           -0.20252342522144318,
           0.16354867815971375
          ],
          [
           -0.21867726743221283,
           -0.11274752765893936,
           0.33185476064682007,
           0.003048739628866315,
           0.12895722687244415,
           0.14679178595542908,
           -0.13977298140525818,
           0.07126010209321976,
           0.11171452701091766,
           0.2533971667289734,
           -0.07223168015480042,
           0.043653931468725204,
           0.21327775716781616,
           -0.02105640433728695,
           0.08303628116846085,
           0.047534652054309845
          ],
          [
           -0.013099528849124908,
           0.005282248370349407,
           -0.2644307017326355,
           -0.2607063055038452,
           0.05497782304883003,
           -0.014473136514425278,
           0.09576169401407242,
           -0.022368591278791428,
           0.02183813415467739,
           0.1461440622806549,
           -0.08705659210681915,
           0.04535139724612236,
           -0.16666443645954132,
           0.4704272449016571,
           0.1868106871843338,
           0.5076542496681213
          ],
          [
           -0.03801431879401207,
           -0.21107217669487,
           -0.4480418860912323,
           0.11823637038469315,
           -0.004857881926000118,
           0.14229685068130493,
           -0.004104072693735361,
           -0.12036379426717758,
           -0.035211265087127686,
           -0.1665918380022049,
           -0.23975041508674622,
           -0.0517113134264946,
           -0.37799903750419617,
           -0.09528148919343948,
           0.1116754487156868,
           0.11072620004415512
          ],
          [
           0.0515047162771225,
           0.015601060353219509,
           -0.0060304743237793446,
           0.02205589972436428,
           0.025869617238640785,
           -0.36964571475982666,
           0.03169907256960869,
           0.11451759189367294,
           -0.19906705617904663,
           -0.3416095972061157,
           -0.23086664080619812,
           20.941728591918945,
           -0.6727105379104614,
           -0.35840559005737305,
           0.15837812423706055,
           -0.02710362896323204
          ],
          [
           -0.18945738673210144,
           0.14002984762191772,
           -0.027695510536432266,
           -0.041185904294252396,
           -0.21872752904891968,
           -0.38597267866134644,
           -0.2849678099155426,
           -0.9790921807289124,
           0.40256762504577637,
           0.06053367257118225,
           -0.04986866936087608,
           0.5792493224143982,
           -0.7764570713043213,
           0.13684707880020142,
           -0.1710141897201538,
           -0.2236524075269699
          ],
          [
           -0.18873707950115204,
           -0.5173699855804443,
           0.9685555696487427,
           -0.3629786968231201,
           0.15886390209197998,
           -0.22535544633865356,
           -0.29832980036735535,
           0.24494333565235138,
           0.08467790484428406,
           -0.015422378666698933,
           1.2110644578933716,
           -1.4067140817642212,
           0.03004627861082554,
           -0.5503533482551575,
           -1.0804041624069214,
           -0.16994211077690125
          ],
          [
           -0.9209762215614319,
           0.5737046599388123,
           0.26054996252059937,
           0.2573169767856598,
           0.009738098829984665,
           0.7606940269470215,
           -0.17662587761878967,
           -0.10404801368713379,
           -0.39680519700050354,
           -0.8383475542068481,
           -0.18687210977077484,
           7.195899486541748,
           -0.017521876841783524,
           0.3789147734642029,
           -0.5079334378242493,
           0.6034662127494812
          ],
          [
           0.0027248808182775974,
           0.02232392132282257,
           0.444507360458374,
           -0.22617627680301666,
           1.2125272750854492,
           -4.091838359832764,
           -0.4839678704738617,
           -0.21012292802333832,
           -0.003774629905819893,
           -0.06319713592529297,
           0.5216527581214905,
           0.7782605886459351,
           -0.07497331500053406,
           2.932485580444336,
           0.009419823996722698,
           -0.20728078484535217
          ],
          [
           -0.055016908794641495,
           43.62257385253906,
           0.04033158719539642,
           0.5171242952346802,
           -0.21598032116889954,
           0.05640726909041405,
           0.6550713777542114,
           0.045831602066755295,
           2.8204190731048584,
           -0.10202669352293015,
           0.011005614884197712,
           -0.09860383719205856,
           -0.06741288304328918,
           0.11767799407243729,
           0.150069460272789,
           -0.9621174931526184
          ],
          [
           -0.21008941531181335,
           -0.4096534550189972,
           2.770103931427002,
           -0.2620464265346527,
           0.09521448612213135,
           0.2087939977645874,
           -0.35665228962898254,
           -3.60292911529541,
           1.6787834167480469,
           -0.34923702478408813,
           -0.2957109808921814,
           -0.11619830131530762,
           0.49196383357048035,
           -0.06545855849981308,
           0.024568598717451096,
           0.1621304154396057
          ],
          [
           3.3525164127349854,
           -0.1394435465335846,
           -3.3062801361083984,
           -4.305596828460693,
           0.00014517808449454606,
           0.3267735242843628,
           1.3036935329437256,
           -0.9230310320854187,
           2.9181015491485596,
           -0.5023943185806274,
           0.005142654292285442,
           -0.9998247027397156,
           -0.05019253119826317,
           13.757326126098633,
           -0.12394299358129501,
           0.17697766423225403
          ],
          [
           1.5015544891357422,
           -1.2881873846054077,
           1.6228675842285156,
           -0.0006365500157698989,
           0.010134547017514706,
           0.11480235308408737,
           0.568210244178772,
           1.2447177171707153,
           0.255736768245697,
           0.43160325288772583,
           -0.10389166325330734,
           -0.2811373472213745,
           1.403592824935913,
           -0.23059305548667908,
           -2.078603982925415,
           0.7330934405326843
          ],
          [
           -0.3149750232696533,
           -0.2344123274087906,
           -0.04397778958082199,
           0.36606651544570923,
           -0.03296659141778946,
           0.20279143750667572,
           0.2340773046016693,
           0.03083917312324047,
           0.1588359773159027,
           -0.16537457704544067,
           -0.060734689235687256,
           -0.07507940381765366,
           -1.0617934465408325,
           -0.034239690750837326,
           0.03706508129835129,
           0.10265207290649414
          ],
          [
           0.49413031339645386,
           0.15913191437721252,
           0.029728002846240997,
           0.10645461827516556,
           1.9965391159057617,
           -0.05454787239432335,
           1.676131248474121,
           -1.203135371208191,
           -0.00006142149504739791,
           0.0744205117225647,
           -0.13721002638339996,
           -0.17191876471042633,
           -1.5432262420654297,
           0.03249197080731392,
           -0.12699730694293976,
           -0.02969450131058693
          ],
          [
           -0.07385655492544174,
           0.0095985047519207,
           0,
           -0.0449996218085289,
           -1.149642825126648,
           -0.006086311768740416,
           -0.01778431423008442,
           0.0007482254877686501,
           0.10482973605394363,
           -0.013914761133491993,
           0.1238536536693573,
           0.055162083357572556,
           -0.014059938490390778,
           -0.05431893467903137,
           -0.037450361996889114,
           -0.32982784509658813
          ],
          [
           -0.4598962068557739,
           -0.09112715721130371,
           7.877466201782227,
           -0.007448751945048571,
           0.18490102887153625,
           -0.03124120458960533,
           0.09654342383146286,
           -0.002026909263804555,
           0.37720614671707153,
           0.041599102318286896,
           -2.192183494567871,
           0.08575557172298431,
           -0.039639197289943695,
           -0.00864926353096962,
           -0.04907018691301346,
           -0.02675185352563858
          ],
          [
           -0.0027025456074625254,
           -0.08451597392559052,
           0.2750566303730011,
           0.022463515400886536,
           -0.2065158188343048,
           0.07277888804674149,
           0.420999675989151,
           -0.14550752937793732,
           -0.07311949878931046,
           0.005388340447098017,
           -0.02287113107740879,
           0.36739546060562134,
           -0.0307051632553339,
           -0.2848673164844513,
           0.0896865501999855,
           -1.0600568056106567
          ],
          [
           0.061147887259721756,
           -0.16942840814590454,
           -0.07363878190517426,
           0.06301845610141754,
           0.01048074010759592,
           -0.06959613412618637,
           -0.06576567143201828,
           -0.0027974697295576334,
           -0.00790662132203579,
           -0.43207788467407227,
           0.21118943393230438,
           0.008716268464922905,
           0.00008375658217119053,
           0.04872399568557739,
           -0.17382840812206268,
           0.15414002537727356
          ],
          [
           3.8300209045410156,
           -0.09097081422805786,
           -0.05273314192891121,
           -0.04235849529504776,
           -0.12743283808231354,
           0.18765383958816528,
           -0.2068285197019577,
           -0.05765802785754204,
           -0.0015411211643368006,
           -0.05962352082133293,
           0.027874190360307693,
           -1.3949213027954102,
           0.00038528029108420014,
           0.02930363640189171,
           3.843385696411133,
           0.07766468822956085
          ],
          [
           0.3410177230834961,
           0.0024680274073034525,
           0.29150640964508057,
           0.10844244062900543,
           0.0901109129190445,
           0.007621849421411753,
           -0.001016246504150331,
           -0.12260288745164871,
           -0.012440645135939121,
           -0.006482759490609169,
           0.0013456890592351556,
           0.04956156387925148,
           0.16849033534526825,
           0.002133001107722521,
           -0.16129285097122192,
           -0.0002121833385899663
          ],
          [
           0.06861339509487152,
           -0.23669050633907318,
           0.0602712407708168,
           0.002987318206578493,
           -0.12902981042861938,
           0.054799143224954605,
           0.5585837960243225,
           -0.00008375658217119053,
           -0.00017868071154225618,
           1.4610778093338013,
           0.20907877385616302,
           -0.0592438206076622,
           0,
           0.0236863624304533,
           0.1273714303970337,
           0.09198706597089767
          ]
         ]
        },
        {
         "coloraxis": "coloraxis",
         "hovertemplate": "Head: %{x}<br>Layer: %{y}<br>Logit diff variation: %{z}<extra></extra>",
         "name": "4",
         "type": "heatmap",
         "xaxis": "x5",
         "yaxis": "y5",
         "z": [
          [
           0.0019040663028135896,
           -0.1540842056274414,
           -0.0327153205871582,
           0.01823659986257553,
           0.012306633405387402,
           -0.011619830504059792,
           0.15610551834106445,
           0.0044055962935090065,
           -0.04561383277177811,
           0.0488189198076725,
           0.07747483998537064,
           -0.011480235494673252,
           0.021748794242739677,
           0.0012619325425475836,
           0.046099621802568436,
           0.00381371658295393
          ],
          [
           -0.02465793862938881,
           0.15814918279647827,
           -0.19530917704105377,
           0.07165096700191498,
           0.0338544100522995,
           0.045770179480314255,
           -0.036087919026613235,
           0.026696015149354935,
           0.026807690039277077,
           0.033083848655223846,
           0.01000611949712038,
           0.03431786224246025,
           -0.11040793359279633,
           0.0931987389922142,
           0.16303497552871704,
           0.11710845679044724
          ],
          [
           0.03832142800092697,
           0.006086311768740416,
           -0.09596271067857742,
           -0.00704113719984889,
           -0.16024868190288544,
           0.025355909019708633,
           -0.01639953814446926,
           0.007621849421411753,
           0.05308492109179497,
           -0.01878380961716175,
           -0.05779204145073891,
           0.06365500390529633,
           0.016003092750906944,
           0.12603691220283508,
           0.05358746275305748,
           -0.009855357930064201
          ],
          [
           0.14856183528900146,
           0.041319914162158966,
           0.10780588537454605,
           0.06435855478048325,
           0.14649584889411926,
           0.05300116539001465,
           0.023155903443694115,
           -0.08045656979084015,
           -0.06559815257787704,
           0.07673777639865875,
           0.028265055269002914,
           -0.05157730355858803,
           -0.011279219761490822,
           0.05596056580543518,
           -0.06752455979585648,
           -0.1943543553352356
          ],
          [
           -0.02340717241168022,
           -0.02824830263853073,
           -0.002328433096408844,
           -0.006197987589985132,
           -0.014177197590470314,
           -0.16501164436340332,
           -0.01456247828900814,
           0.008800025098025799,
           0.01871122047305107,
           -0.15598267316818237,
           0.02900211326777935,
           0.06407937407493591,
           -0.03391583263874054,
           0.06325297057628632,
           -0.015137606300413609,
           -0.01027414109557867
          ],
          [
           -0.0664692223072052,
           -0.059980880469083786,
           -0.003640619572252035,
           0.07377279549837112,
           0.0032050851732492447,
           0.03896914795041084,
           0.06764181703329086,
           -0.012183791026473045,
           0.0351945161819458,
           -0.1333460658788681,
           -0.15125879645347595,
           0.24727177619934082,
           -0.2000274807214737,
           -0.06180119141936302,
           -0.09356168657541275,
           -0.016723396256566048
          ],
          [
           -0.012987853959202766,
           -0.22968848049640656,
           -0.009095964953303337,
           0.08764847368001938,
           0.15105220675468445,
           0.22466307878494263,
           -0.031202120706439018,
           -0.01928076520562172,
           0.1238480657339096,
           0.014193948358297348,
           0.01192135363817215,
           -0.22728745639324188,
           0.015076184645295143,
           0.04276052489876747,
           0.05415700748562813,
           0.09704595804214478
          ],
          [
           0.13253642618656158,
           -0.13566891849040985,
           -0.011552824638783932,
           -0.07489513605833054,
           0.1506948471069336,
           0.06280627101659775,
           -0.16476593911647797,
           0.11616479605436325,
           0.031565066426992416,
           -0.11686835438013077,
           0.11215006560087204,
           0.5180233120918274,
           -0.2340773046016693,
           0.04687018692493439,
           0.14009127020835876,
           -0.23632198572158813
          ],
          [
           -0.14611615240573883,
           -0.07526366412639618,
           0.17932283878326416,
           -0.037779800593853,
           -0.04559708386659622,
           0.019303100183606148,
           -0.11113381385803223,
           -0.05605548992753029,
           0.18285737931728363,
           0.06304637342691422,
           -0.005879712291061878,
           0.05318542942404747,
           0.20320464670658112,
           -0.11585769057273865,
           0.08585608750581741,
           -0.022072652354836464
          ],
          [
           -0.22349047660827637,
           -0.0024456921964883804,
           -0.009095964953303337,
           -0.07275655120611191,
           0.13125215470790863,
           0.17275074124336243,
           -0.03502142056822777,
           0.09510280936956406,
           0.14498822391033173,
           0.06486109644174576,
           -0.053397610783576965,
           -0.2949683368206024,
           0.027159467339515686,
           0.09060229361057281,
           -0.17780405282974243,
           -0.049835171550512314
          ],
          [
           -0.005053313914686441,
           0.03544578328728676,
           -0.01642187498509884,
           -0.13491509854793549,
           0.018767058849334717,
           0.1677141934633255,
           0.2932206392288208,
           0.08961395919322968,
           -0.04383261129260063,
           -0.014914254657924175,
           0.13497652113437653,
           -0.03756203502416611,
           0.11201605945825577,
           0.2616332471370697,
           -0.10560030490159988,
           -0.06261642277240753
          ],
          [
           -0.0955774262547493,
           0.0927911251783371,
           -0.030476227402687073,
           0.36396145820617676,
           -0.27964648604393005,
           0.10778355598449707,
           0.0007705605821684003,
           -0.010296476073563099,
           -0.5923097729682922,
           0.05309050902724266,
           -0.11035767197608948,
           -0.11264143884181976,
           0.032145775854587555,
           0.14979027211666107,
           -0.0709027424454689,
           -0.051962584257125854
          ],
          [
           -0.01591375097632408,
           -0.315639466047287,
           -0.2654804587364197,
           -0.06754130870103836,
           -0.05776412412524223,
           -0.007923373021185398,
           -0.1666979342699051,
           0.03625543415546417,
           0.09457793086767197,
           -0.15407302975654602,
           0.10484649240970612,
           -0.007984794676303864,
           0.20289194583892822,
           -0.0020715794526040554,
           -0.03557421267032623,
           0.04620013013482094
          ],
          [
           0.11557291448116302,
           -0.03980112820863724,
           0.5142095685005188,
           -0.14062172174453735,
           0.00012284299009479582,
           -0.025573674589395523,
           0.21041887998580933,
           0.2855597138404846,
           -0.0745154395699501,
           -0.039762042462825775,
           0.022608693689107895,
           -0.20723053812980652,
           -0.07574386894702911,
           1.4700061082839966,
           0.050756487995386124,
           -0.0402534157037735
          ],
          [
           -0.015148773789405823,
           0.3462553024291992,
           -0.0654306411743164,
           -0.0007370579405687749,
           0.014333543367683887,
           -0.6520059108734131,
           0.024043723940849304,
           -0.005918798502534628,
           0.059444840997457504,
           -0.04397778958082199,
           -0.0841195285320282,
           0.004969557281583548,
           0.20233914256095886,
           0.060600683093070984,
           0.0664748102426529,
           0.10185916721820831
          ],
          [
           0.06765856593847275,
           0.059310831129550934,
           0.05360421538352966,
           -0.23287121951580048,
           0.00625940877944231,
           -0.11169777810573578,
           -0.3726274371147156,
           0.014333543367683887,
           -0.49031659960746765,
           0.01832035556435585,
           -0.07516873627901077,
           0.1404597908258438,
           0.14343035221099854,
           0.015048266388475895,
           0.13855572044849396,
           0.16472128033638
          ],
          [
           -0.2927292585372925,
           0.1799873262643814,
           0.028812265023589134,
           -0.034954413771629333,
           0.04366509988903999,
           -0.02282087691128254,
           -0.11979983001947403,
           0.07026618719100952,
           0.000323858781484887,
           0.00006142149504739791,
           0.05288948863744736,
           -0.01741020195186138,
           0.07324792444705963,
           -0.06314687430858612,
           -0.007270071189850569,
           0.010246221907436848
          ],
          [
           -0.030895011499524117,
           -0.21391990780830383,
           0,
           0.024797530844807625,
           -0.24711543321609497,
           -0.09818505495786667,
           -0.018208680674433708,
           0.200127974152565,
           0.12710341811180115,
           -0.004383261315524578,
           -0.13642272353172302,
           -0.31010037660598755,
           0.007443168666213751,
           -0.02105640433728695,
           -0.0004131991299800575,
           0.1327374428510666
          ],
          [
           0.19892747700214386,
           -0.0012619325425475836,
           0.1372658759355545,
           -0.022982805967330933,
           -0.2193138301372528,
           -0.050929583609104156,
           0.17984214425086975,
           -0.0015411211643368006,
           -0.34002378582954407,
           -0.1425425410270691,
           -0.07549259811639786,
           -0.15081769227981567,
           0.0852586179971695,
           -0.0035903656389564276,
           0.031246788799762726,
           -0.22072093188762665
          ],
          [
           -0.017996497452259064,
           -0.10818558186292648,
           0.0054832641035318375,
           -0.14020293951034546,
           0.11576834321022034,
           0.07908296585083008,
           -0.03993513807654381,
           0.07667636126279831,
           -0.014864001423120499,
           -0.015444714576005936,
           0.06342048197984695,
           -0.021821381524205208,
           0.12459629029035568,
           -1.1363422870635986,
           0.0961972251534462,
           0.16706646978855133
          ],
          [
           0.09843073785305023,
           -0.051984917372465134,
           0.007353827822953463,
           -0.8016342520713806,
           0.0418001189827919,
           -0.038327012211084366,
           0.04728896543383598,
           -0.0014238618314266205,
           -0.07953525334596634,
           -0.20423205196857452,
           -0.3056947886943817,
           -0.02143610268831253,
           -0.0053771729581058025,
           0.03585340082645416,
           0.19767670333385468,
           -0.41599100828170776
          ],
          [
           0.20629246532917023,
           0.02272595278918743,
           -0.018755890429019928,
           -0.008995456621050835,
           -0.08062966912984848,
           -0.024060474708676338,
           -0.1200343519449234,
           0.011318306438624859,
           -0.01429445669054985,
           -0.19334369897842407,
           0.0392204150557518,
           0.3449598550796509,
           -0.0033279280178248882,
           0.07110375165939331,
           0.14507757127285004,
           -0.034993499517440796
          ],
          [
           0.08943527936935425,
           0.009888861328363419,
           -0.10026221722364426,
           0.007806113921105862,
           -0.07196924090385437,
           0.017052840441465378,
           0.025249816477298737,
           -0.002395438263192773,
           -0.009860941208899021,
           -0.10826376080513,
           0.004908135626465082,
           -0.1840132176876068,
           0.07576620578765869,
           0.001675131730735302,
           0.12175974249839783,
           -0.003802548861131072
          ],
          [
           0.02013508230447769,
           0.14135318994522095,
           -0.1542014479637146,
           0.005929965991526842,
           0.058981385082006454,
           -0.004377677571028471,
           0.5702539086341858,
           0.000039086404285626486,
           0.0004802044131793082,
           -0.04641789570450783,
           0.01525486633181572,
           -0.011714753694832325,
           -0.000022335088942782022,
           -0.0037243759725242853,
           -0.043737687170505524,
           0.017024921253323555
          ]
         ]
        }
       ],
       "layout": {
        "annotations": [
         {
          "font": {},
          "showarrow": false,
          "text": "Output",
          "x": 0.09200000000000001,
          "xanchor": "center",
          "xref": "paper",
          "y": 1,
          "yanchor": "bottom",
          "yref": "paper"
         },
         {
          "font": {},
          "showarrow": false,
          "text": "Query",
          "x": 0.29600000000000004,
          "xanchor": "center",
          "xref": "paper",
          "y": 1,
          "yanchor": "bottom",
          "yref": "paper"
         },
         {
          "font": {},
          "showarrow": false,
          "text": "Key",
          "x": 0.5,
          "xanchor": "center",
          "xref": "paper",
          "y": 1,
          "yanchor": "bottom",
          "yref": "paper"
         },
         {
          "font": {},
          "showarrow": false,
          "text": "Value",
          "x": 0.7040000000000002,
          "xanchor": "center",
          "xref": "paper",
          "y": 1,
          "yanchor": "bottom",
          "yref": "paper"
         },
         {
          "font": {},
          "showarrow": false,
          "text": "Pattern",
          "x": 0.908,
          "xanchor": "center",
          "xref": "paper",
          "y": 1,
          "yanchor": "bottom",
          "yref": "paper"
         }
        ],
        "coloraxis": {
         "cmid": 0,
         "colorbar": {
          "ticksuffix": "%",
          "title": {
           "text": "Logit diff variation"
          }
         },
         "colorscale": [
          [
           0,
           "rgb(103,0,31)"
          ],
          [
           0.1,
           "rgb(178,24,43)"
          ],
          [
           0.2,
           "rgb(214,96,77)"
          ],
          [
           0.3,
           "rgb(244,165,130)"
          ],
          [
           0.4,
           "rgb(253,219,199)"
          ],
          [
           0.5,
           "rgb(247,247,247)"
          ],
          [
           0.6,
           "rgb(209,229,240)"
          ],
          [
           0.7,
           "rgb(146,197,222)"
          ],
          [
           0.8,
           "rgb(67,147,195)"
          ],
          [
           0.9,
           "rgb(33,102,172)"
          ],
          [
           1,
           "rgb(5,48,97)"
          ]
         ]
        },
        "margin": {
         "l": 100,
         "r": 100
        },
        "template": {
         "data": {
          "bar": [
           {
            "error_x": {
             "color": "#2a3f5f"
            },
            "error_y": {
             "color": "#2a3f5f"
            },
            "marker": {
             "line": {
              "color": "#E5ECF6",
              "width": 0.5
             },
             "pattern": {
              "fillmode": "overlay",
              "size": 10,
              "solidity": 0.2
             }
            },
            "type": "bar"
           }
          ],
          "barpolar": [
           {
            "marker": {
             "line": {
              "color": "#E5ECF6",
              "width": 0.5
             },
             "pattern": {
              "fillmode": "overlay",
              "size": 10,
              "solidity": 0.2
             }
            },
            "type": "barpolar"
           }
          ],
          "carpet": [
           {
            "aaxis": {
             "endlinecolor": "#2a3f5f",
             "gridcolor": "white",
             "linecolor": "white",
             "minorgridcolor": "white",
             "startlinecolor": "#2a3f5f"
            },
            "baxis": {
             "endlinecolor": "#2a3f5f",
             "gridcolor": "white",
             "linecolor": "white",
             "minorgridcolor": "white",
             "startlinecolor": "#2a3f5f"
            },
            "type": "carpet"
           }
          ],
          "choropleth": [
           {
            "colorbar": {
             "outlinewidth": 0,
             "ticks": ""
            },
            "type": "choropleth"
           }
          ],
          "contour": [
           {
            "colorbar": {
             "outlinewidth": 0,
             "ticks": ""
            },
            "colorscale": [
             [
              0,
              "#0d0887"
             ],
             [
              0.1111111111111111,
              "#46039f"
             ],
             [
              0.2222222222222222,
              "#7201a8"
             ],
             [
              0.3333333333333333,
              "#9c179e"
             ],
             [
              0.4444444444444444,
              "#bd3786"
             ],
             [
              0.5555555555555556,
              "#d8576b"
             ],
             [
              0.6666666666666666,
              "#ed7953"
             ],
             [
              0.7777777777777778,
              "#fb9f3a"
             ],
             [
              0.8888888888888888,
              "#fdca26"
             ],
             [
              1,
              "#f0f921"
             ]
            ],
            "type": "contour"
           }
          ],
          "contourcarpet": [
           {
            "colorbar": {
             "outlinewidth": 0,
             "ticks": ""
            },
            "type": "contourcarpet"
           }
          ],
          "heatmap": [
           {
            "colorbar": {
             "outlinewidth": 0,
             "ticks": ""
            },
            "colorscale": [
             [
              0,
              "#0d0887"
             ],
             [
              0.1111111111111111,
              "#46039f"
             ],
             [
              0.2222222222222222,
              "#7201a8"
             ],
             [
              0.3333333333333333,
              "#9c179e"
             ],
             [
              0.4444444444444444,
              "#bd3786"
             ],
             [
              0.5555555555555556,
              "#d8576b"
             ],
             [
              0.6666666666666666,
              "#ed7953"
             ],
             [
              0.7777777777777778,
              "#fb9f3a"
             ],
             [
              0.8888888888888888,
              "#fdca26"
             ],
             [
              1,
              "#f0f921"
             ]
            ],
            "type": "heatmap"
           }
          ],
          "heatmapgl": [
           {
            "colorbar": {
             "outlinewidth": 0,
             "ticks": ""
            },
            "colorscale": [
             [
              0,
              "#0d0887"
             ],
             [
              0.1111111111111111,
              "#46039f"
             ],
             [
              0.2222222222222222,
              "#7201a8"
             ],
             [
              0.3333333333333333,
              "#9c179e"
             ],
             [
              0.4444444444444444,
              "#bd3786"
             ],
             [
              0.5555555555555556,
              "#d8576b"
             ],
             [
              0.6666666666666666,
              "#ed7953"
             ],
             [
              0.7777777777777778,
              "#fb9f3a"
             ],
             [
              0.8888888888888888,
              "#fdca26"
             ],
             [
              1,
              "#f0f921"
             ]
            ],
            "type": "heatmapgl"
           }
          ],
          "histogram": [
           {
            "marker": {
             "pattern": {
              "fillmode": "overlay",
              "size": 10,
              "solidity": 0.2
             }
            },
            "type": "histogram"
           }
          ],
          "histogram2d": [
           {
            "colorbar": {
             "outlinewidth": 0,
             "ticks": ""
            },
            "colorscale": [
             [
              0,
              "#0d0887"
             ],
             [
              0.1111111111111111,
              "#46039f"
             ],
             [
              0.2222222222222222,
              "#7201a8"
             ],
             [
              0.3333333333333333,
              "#9c179e"
             ],
             [
              0.4444444444444444,
              "#bd3786"
             ],
             [
              0.5555555555555556,
              "#d8576b"
             ],
             [
              0.6666666666666666,
              "#ed7953"
             ],
             [
              0.7777777777777778,
              "#fb9f3a"
             ],
             [
              0.8888888888888888,
              "#fdca26"
             ],
             [
              1,
              "#f0f921"
             ]
            ],
            "type": "histogram2d"
           }
          ],
          "histogram2dcontour": [
           {
            "colorbar": {
             "outlinewidth": 0,
             "ticks": ""
            },
            "colorscale": [
             [
              0,
              "#0d0887"
             ],
             [
              0.1111111111111111,
              "#46039f"
             ],
             [
              0.2222222222222222,
              "#7201a8"
             ],
             [
              0.3333333333333333,
              "#9c179e"
             ],
             [
              0.4444444444444444,
              "#bd3786"
             ],
             [
              0.5555555555555556,
              "#d8576b"
             ],
             [
              0.6666666666666666,
              "#ed7953"
             ],
             [
              0.7777777777777778,
              "#fb9f3a"
             ],
             [
              0.8888888888888888,
              "#fdca26"
             ],
             [
              1,
              "#f0f921"
             ]
            ],
            "type": "histogram2dcontour"
           }
          ],
          "mesh3d": [
           {
            "colorbar": {
             "outlinewidth": 0,
             "ticks": ""
            },
            "type": "mesh3d"
           }
          ],
          "parcoords": [
           {
            "line": {
             "colorbar": {
              "outlinewidth": 0,
              "ticks": ""
             }
            },
            "type": "parcoords"
           }
          ],
          "pie": [
           {
            "automargin": true,
            "type": "pie"
           }
          ],
          "scatter": [
           {
            "fillpattern": {
             "fillmode": "overlay",
             "size": 10,
             "solidity": 0.2
            },
            "type": "scatter"
           }
          ],
          "scatter3d": [
           {
            "line": {
             "colorbar": {
              "outlinewidth": 0,
              "ticks": ""
             }
            },
            "marker": {
             "colorbar": {
              "outlinewidth": 0,
              "ticks": ""
             }
            },
            "type": "scatter3d"
           }
          ],
          "scattercarpet": [
           {
            "marker": {
             "colorbar": {
              "outlinewidth": 0,
              "ticks": ""
             }
            },
            "type": "scattercarpet"
           }
          ],
          "scattergeo": [
           {
            "marker": {
             "colorbar": {
              "outlinewidth": 0,
              "ticks": ""
             }
            },
            "type": "scattergeo"
           }
          ],
          "scattergl": [
           {
            "marker": {
             "colorbar": {
              "outlinewidth": 0,
              "ticks": ""
             }
            },
            "type": "scattergl"
           }
          ],
          "scattermapbox": [
           {
            "marker": {
             "colorbar": {
              "outlinewidth": 0,
              "ticks": ""
             }
            },
            "type": "scattermapbox"
           }
          ],
          "scatterpolar": [
           {
            "marker": {
             "colorbar": {
              "outlinewidth": 0,
              "ticks": ""
             }
            },
            "type": "scatterpolar"
           }
          ],
          "scatterpolargl": [
           {
            "marker": {
             "colorbar": {
              "outlinewidth": 0,
              "ticks": ""
             }
            },
            "type": "scatterpolargl"
           }
          ],
          "scatterternary": [
           {
            "marker": {
             "colorbar": {
              "outlinewidth": 0,
              "ticks": ""
             }
            },
            "type": "scatterternary"
           }
          ],
          "surface": [
           {
            "colorbar": {
             "outlinewidth": 0,
             "ticks": ""
            },
            "colorscale": [
             [
              0,
              "#0d0887"
             ],
             [
              0.1111111111111111,
              "#46039f"
             ],
             [
              0.2222222222222222,
              "#7201a8"
             ],
             [
              0.3333333333333333,
              "#9c179e"
             ],
             [
              0.4444444444444444,
              "#bd3786"
             ],
             [
              0.5555555555555556,
              "#d8576b"
             ],
             [
              0.6666666666666666,
              "#ed7953"
             ],
             [
              0.7777777777777778,
              "#fb9f3a"
             ],
             [
              0.8888888888888888,
              "#fdca26"
             ],
             [
              1,
              "#f0f921"
             ]
            ],
            "type": "surface"
           }
          ],
          "table": [
           {
            "cells": {
             "fill": {
              "color": "#EBF0F8"
             },
             "line": {
              "color": "white"
             }
            },
            "header": {
             "fill": {
              "color": "#C8D4E3"
             },
             "line": {
              "color": "white"
             }
            },
            "type": "table"
           }
          ]
         },
         "layout": {
          "annotationdefaults": {
           "arrowcolor": "#2a3f5f",
           "arrowhead": 0,
           "arrowwidth": 1
          },
          "autotypenumbers": "strict",
          "coloraxis": {
           "colorbar": {
            "outlinewidth": 0,
            "ticks": ""
           }
          },
          "colorscale": {
           "diverging": [
            [
             0,
             "#8e0152"
            ],
            [
             0.1,
             "#c51b7d"
            ],
            [
             0.2,
             "#de77ae"
            ],
            [
             0.3,
             "#f1b6da"
            ],
            [
             0.4,
             "#fde0ef"
            ],
            [
             0.5,
             "#f7f7f7"
            ],
            [
             0.6,
             "#e6f5d0"
            ],
            [
             0.7,
             "#b8e186"
            ],
            [
             0.8,
             "#7fbc41"
            ],
            [
             0.9,
             "#4d9221"
            ],
            [
             1,
             "#276419"
            ]
           ],
           "sequential": [
            [
             0,
             "#0d0887"
            ],
            [
             0.1111111111111111,
             "#46039f"
            ],
            [
             0.2222222222222222,
             "#7201a8"
            ],
            [
             0.3333333333333333,
             "#9c179e"
            ],
            [
             0.4444444444444444,
             "#bd3786"
            ],
            [
             0.5555555555555556,
             "#d8576b"
            ],
            [
             0.6666666666666666,
             "#ed7953"
            ],
            [
             0.7777777777777778,
             "#fb9f3a"
            ],
            [
             0.8888888888888888,
             "#fdca26"
            ],
            [
             1,
             "#f0f921"
            ]
           ],
           "sequentialminus": [
            [
             0,
             "#0d0887"
            ],
            [
             0.1111111111111111,
             "#46039f"
            ],
            [
             0.2222222222222222,
             "#7201a8"
            ],
            [
             0.3333333333333333,
             "#9c179e"
            ],
            [
             0.4444444444444444,
             "#bd3786"
            ],
            [
             0.5555555555555556,
             "#d8576b"
            ],
            [
             0.6666666666666666,
             "#ed7953"
            ],
            [
             0.7777777777777778,
             "#fb9f3a"
            ],
            [
             0.8888888888888888,
             "#fdca26"
            ],
            [
             1,
             "#f0f921"
            ]
           ]
          },
          "colorway": [
           "#636efa",
           "#EF553B",
           "#00cc96",
           "#ab63fa",
           "#FFA15A",
           "#19d3f3",
           "#FF6692",
           "#B6E880",
           "#FF97FF",
           "#FECB52"
          ],
          "font": {
           "color": "#2a3f5f"
          },
          "geo": {
           "bgcolor": "white",
           "lakecolor": "white",
           "landcolor": "#E5ECF6",
           "showlakes": true,
           "showland": true,
           "subunitcolor": "white"
          },
          "hoverlabel": {
           "align": "left"
          },
          "hovermode": "closest",
          "mapbox": {
           "style": "light"
          },
          "paper_bgcolor": "white",
          "plot_bgcolor": "#E5ECF6",
          "polar": {
           "angularaxis": {
            "gridcolor": "white",
            "linecolor": "white",
            "ticks": ""
           },
           "bgcolor": "#E5ECF6",
           "radialaxis": {
            "gridcolor": "white",
            "linecolor": "white",
            "ticks": ""
           }
          },
          "scene": {
           "xaxis": {
            "backgroundcolor": "#E5ECF6",
            "gridcolor": "white",
            "gridwidth": 2,
            "linecolor": "white",
            "showbackground": true,
            "ticks": "",
            "zerolinecolor": "white"
           },
           "yaxis": {
            "backgroundcolor": "#E5ECF6",
            "gridcolor": "white",
            "gridwidth": 2,
            "linecolor": "white",
            "showbackground": true,
            "ticks": "",
            "zerolinecolor": "white"
           },
           "zaxis": {
            "backgroundcolor": "#E5ECF6",
            "gridcolor": "white",
            "gridwidth": 2,
            "linecolor": "white",
            "showbackground": true,
            "ticks": "",
            "zerolinecolor": "white"
           }
          },
          "shapedefaults": {
           "line": {
            "color": "#2a3f5f"
           }
          },
          "ternary": {
           "aaxis": {
            "gridcolor": "white",
            "linecolor": "white",
            "ticks": ""
           },
           "baxis": {
            "gridcolor": "white",
            "linecolor": "white",
            "ticks": ""
           },
           "bgcolor": "#E5ECF6",
           "caxis": {
            "gridcolor": "white",
            "linecolor": "white",
            "ticks": ""
           }
          },
          "title": {
           "x": 0.05
          },
          "xaxis": {
           "automargin": true,
           "gridcolor": "white",
           "linecolor": "white",
           "ticks": "",
           "title": {
            "standoff": 15
           },
           "zerolinecolor": "white",
           "zerolinewidth": 2
          },
          "yaxis": {
           "automargin": true,
           "gridcolor": "white",
           "linecolor": "white",
           "ticks": "",
           "title": {
            "standoff": 15
           },
           "zerolinecolor": "white",
           "zerolinewidth": 2
          }
         }
        },
        "title": {
         "text": "Patching output of attention heads (corrupted -> clean)"
        },
        "width": 1500,
        "xaxis": {
         "anchor": "y",
         "constrain": "domain",
         "domain": [
          0,
          0.18400000000000002
         ],
         "linecolor": "black",
         "linewidth": 1,
         "mirror": true,
         "scaleanchor": "y",
         "showline": true,
         "title": {
          "text": "Head"
         }
        },
        "xaxis2": {
         "anchor": "y2",
         "domain": [
          0.20400000000000001,
          0.388
         ],
         "linecolor": "black",
         "linewidth": 1,
         "matches": "x",
         "mirror": true,
         "showline": true,
         "title": {
          "text": "Head"
         }
        },
        "xaxis3": {
         "anchor": "y3",
         "domain": [
          0.40800000000000003,
          0.5920000000000001
         ],
         "linecolor": "black",
         "linewidth": 1,
         "matches": "x",
         "mirror": true,
         "showline": true,
         "title": {
          "text": "Head"
         }
        },
        "xaxis4": {
         "anchor": "y4",
         "domain": [
          0.6120000000000001,
          0.7960000000000002
         ],
         "linecolor": "black",
         "linewidth": 1,
         "matches": "x",
         "mirror": true,
         "showline": true,
         "title": {
          "text": "Head"
         }
        },
        "xaxis5": {
         "anchor": "y5",
         "domain": [
          0.8160000000000001,
          1
         ],
         "linecolor": "black",
         "linewidth": 1,
         "matches": "x",
         "mirror": true,
         "showline": true,
         "title": {
          "text": "Head"
         }
        },
        "yaxis": {
         "anchor": "x",
         "autorange": "reversed",
         "constrain": "domain",
         "domain": [
          0,
          1
         ],
         "linecolor": "black",
         "linewidth": 1,
         "mirror": true,
         "showline": true,
         "title": {
          "text": "Layer"
         }
        },
        "yaxis2": {
         "anchor": "x2",
         "domain": [
          0,
          1
         ],
         "linecolor": "black",
         "linewidth": 1,
         "matches": "y",
         "mirror": true,
         "showline": true,
         "showticklabels": false
        },
        "yaxis3": {
         "anchor": "x3",
         "domain": [
          0,
          1
         ],
         "linecolor": "black",
         "linewidth": 1,
         "matches": "y",
         "mirror": true,
         "showline": true,
         "showticklabels": false
        },
        "yaxis4": {
         "anchor": "x4",
         "domain": [
          0,
          1
         ],
         "linecolor": "black",
         "linewidth": 1,
         "matches": "y",
         "mirror": true,
         "showline": true,
         "showticklabels": false
        },
        "yaxis5": {
         "anchor": "x5",
         "domain": [
          0,
          1
         ],
         "linecolor": "black",
         "linewidth": 1,
         "matches": "y",
         "mirror": true,
         "showline": true,
         "showticklabels": false
        }
       }
      },
      "text/html": [
       "<div>                            <div id=\"cd1651bc-9510-417b-845c-8d61321471d1\" class=\"plotly-graph-div\" style=\"height:525px; width:1500px;\"></div>            <script type=\"text/javascript\">                require([\"plotly\"], function(Plotly) {                    window.PLOTLYENV=window.PLOTLYENV || {};                                    if (document.getElementById(\"cd1651bc-9510-417b-845c-8d61321471d1\")) {                    Plotly.newPlot(                        \"cd1651bc-9510-417b-845c-8d61321471d1\",                        [{\"coloraxis\":\"coloraxis\",\"name\":\"0\",\"z\":[[-0.001016246504150331,-0.022714786231517792,-0.295688658952713,0.033323951065540314,0.08874289691448212,-0.10179217159748077,0.14288315176963806,0.3801432251930237,-0.003350263461470604,0.09075304865837097,0.12743842601776123,-0.0044446829706430435,-0.0715337023139,0.3045612573623657,-0.10873838514089584,0.003986813127994537],[-0.03431786224246025,0.06406261771917343,-0.4229372441768646,0.07180172950029373,0.19687820971012115,0.25593218207359314,0.011826429516077042,-0.08788298815488815,0.15942786633968353,0.06488343328237534,0.05004734918475151,0.23256969451904297,-0.08004895597696304,0.14540143311023712,0.010776680894196033,0.1654583364725113],[0.08239972591400146,0.11864399164915085,-0.08231038600206375,0.005874128546565771,-0.22077676653862,0.006985299289226532,0.10023988038301468,0.04419555887579918,0.13794150948524475,-0.18219290673732758,0.12067090719938278,-0.10208810865879059,-0.05743468180298805,0.2074594795703888,-0.1884690672159195,0.1395496279001236],[-0.07387330383062363,-0.07573828846216202,0.45345258712768555,0.07711189985275269,0.19510817527770996,0.19658787548542023,-0.14843341708183289,-0.05216359719634056,0.05146004259586334,0.2834267020225525,-0.04952806234359741,-0.0032776740845292807,0.21383054554462433,0.04202905297279358,-0.019515283405780792,-0.12245211750268936],[-0.027036625891923904,-0.029711250215768814,-0.27385610342025757,-0.28989270329475403,0.0442793145775795,-0.17179591953754425,0.07582762837409973,0.0036741220392286777,0.038081325590610504,0.030224960297346115,-0.060701191425323486,0.08918959647417068,-0.20595744252204895,0.8151078820228577,0.14507757127285004,0.5015455484390259],[-0.09658250957727432,-0.35249796509742737,-0.31020087003707886,0.28585004806518555,-0.004539606627076864,0.21223360300064087,0.05039912462234497,-0.09025609493255615,-0.015299536287784576,-0.31360697746276855,-0.40236660838127136,0.17563755810260773,-0.6094799041748047,-0.1503821611404419,0.029884349554777145,0.10395867377519608],[0.0455133281648159,-0.23977835476398468,0.006951796356588602,0.10144038498401642,0.14151513576507568,-0.19312593340873718,0.0076665193773806095,0.0885530412197113,-0.07985352724790573,-0.2983018457889557,-0.21414323151111603,25.681533813476562,-0.7775123715400696,-0.24774082005023956,0.30979883670806885,0.07536976039409637],[-0.08570531755685806,-0.027706677094101906,-0.06899867206811905,-0.0647215023636818,-0.05172248184680939,-0.30638158321380615,-0.3519339859485626,-0.6710745096206665,0.4370753765106201,-0.062398653477430344,0.059249408543109894,1.1207524538040161,-0.9416306614875793,0.21650518476963043,-0.0304483100771904,-0.3962412476539612],[-0.32412123680114746,-0.6563891768455505,1.1648362874984741,-0.38792142271995544,0.11432773619890213,-0.32838723063468933,-0.14972884953022003,0.3585619330406189,0.26604440808296204,0.05051080510020256,1.3612174987792969,-1.3697328567504883,0.19184724986553192,-0.6480470299720764,-1.1037832498550415,-0.1926010549068451],[-1.1136386394500732,0.5978991985321045,0.22519910335540771,0.27634647488594055,0.17172890901565552,0.9741169214248657,-0.1984863579273224,-0.01763913594186306,-0.2766368091106415,-0.7151806950569153,-0.23900778591632843,6.6907243728637695,0.002300514141097665,0.43633830547332764,-0.7227858304977417,0.5652341246604919],[-0.0019822390750050545,0.06325297057628632,0.48121505975723267,-0.36273300647735596,1.3004661798477173,-4.216825485229492,-0.13298870623111725,-0.14465320110321045,-0.050454966723918915,-0.07588346302509308,0.524813175201416,0.7516315579414368,0.03293308988213539,3.199183225631714,-0.10164140164852142,-0.23497629165649414],[-0.1199338436126709,43.65480041503906,0.003160415217280388,0.7521508932113647,-0.5114456415176392,0.17055073380470276,0.6120261549949646,0.04445241019129753,2.2220120429992676,-0.06845146417617798,-0.1004297286272049,-0.17674872279167175,-0.0360209159553051,0.2403869777917862,0.11464042961597443,-1.0425461530685425],[-0.24737785756587982,-0.6926054954528809,2.3930373191833496,-0.31352880597114563,0.04320722818374634,0.14534558355808258,-0.4948897361755371,-3.51371169090271,1.7659684419631958,-0.49124351143836975,-0.21217775344848633,-0.13337399065494537,0.6793385148048401,-0.0733819305896759,-0.01388684194535017,0.22671790421009064],[3.4253482818603516,-0.23360827565193176,-2.8354172706604004,-4.442633152008057,-3.3502634323667735e-05,0.30121660232543945,1.6051950454711914,-0.6227748394012451,2.791579008102417,-0.5255893468856812,0.02682444080710411,-1.2134430408477783,-0.14217400550842285,15.665870666503906,-0.07522457838058472,0.1519344449043274],[1.6594078540802002,-0.923801600933075,1.541165828704834,-0.001122338231652975,0.014780244790017605,-0.5402634739875793,0.6745587587356567,1.0954300165176392,0.3091120421886444,0.3864249587059021,-0.18956907093524933,-0.21460670232772827,1.6537513732910156,-0.15291160345077515,-1.9889675378799438,0.8388444781303406],[-0.2559601068496704,-0.23795804381370544,0.013847755268216133,0.1544080525636673,-0.021899554878473282,0.09917337447404861,-0.15350349247455597,0.04068894684314728,-0.3242775797843933,-0.037545282393693924,-0.13785216212272644,0.1914507895708084,-0.9121649861335754,-0.027706677094101906,0.18167918920516968,0.28230994939804077],[0.2063371241092682,0.3296658992767334,0.05403974652290344,0.049349378794431686,2.0692455768585205,-0.051940251141786575,1.5544049739837646,-1.1059554815292358,8.375658217119053e-05,0.07450985908508301,-0.10078708827495575,-0.19018328189849854,-1.454416275024414,0.05120877921581268,-0.1346750110387802,-0.020805135369300842],[-0.10839218646287918,-0.17970812320709229,0.0,-0.02166503667831421,-1.395965337753296,-0.10563381016254425,-0.03555746376514435,0.20706860721111298,0.15166641771793365,-0.0200736615806818,-0.0018873149529099464,-0.256267249584198,-0.007325909100472927,-0.10432719439268112,-0.03993513807654381,-0.21290923655033112],[-0.21057522296905518,-0.0961916446685791,8.407971382141113,-0.03411126509308815,-0.03740568831562996,-0.08252257108688354,0.261873334646225,-0.004299504682421684,0.00040203158278018236,-0.10644344985485077,-2.250824213027954,-0.0111731281504035,0.05410674959421158,-0.011865516193211079,-0.023999053984880447,-0.2543240785598755],[-0.022804126143455505,-0.18688327074050903,0.27055051922798157,-0.07996520400047302,-0.09379620105028152,0.16006441414356232,0.3979721963405609,-0.06613419950008392,-0.08518602699041367,-0.010246221907436848,0.04011940211057663,0.36108580231666565,0.08695049583911896,-1.3353089094161987,0.18047310411930084,-0.8716659545898438],[0.15618368983268738,-0.23123517632484436,-0.07225959748029709,-0.7056715488433838,0.05889204144477844,-0.10660537332296371,0.012273131869733334,-0.004226915538311005,-0.09241142868995667,-0.637443482875824,-0.09060229361057281,-0.013473642989993095,-0.006633521057665348,0.07485046237707138,0.024981796741485596,-0.013300545513629913],[4.073844909667969,-0.06870831549167633,-0.07084131985902786,-0.05318542942404747,-0.2097376585006714,0.16831722855567932,-0.319888710975647,-0.04863465577363968,-0.016125934198498726,-0.24364790320396423,0.059662606567144394,-1.0471471548080444,-0.0031380802392959595,0.10057491064071655,3.8849987983703613,0.0348818264901638],[0.4226747751235962,0.01149698719382286,0.17946243286132812,0.10820792615413666,0.03210669010877609,0.02411072701215744,0.0213132593780756,-0.12241862714290619,-0.022586358711123466,-0.10512568056583405,0.006181235890835524,-0.13730496168136597,0.24138647317886353,0.0034116848837584257,-0.04013615474104881,-0.004422347992658615],[0.08888248354196548,-0.08090327680110931,-0.09260686486959457,0.007789362221956253,-0.06823927909135818,0.05581538379192352,1.142724633216858,-3.9086404285626486e-05,0.00017868071154225618,1.4154192209243774,0.2224351465702057,-0.07229310274124146,-3.3502634323667735e-05,0.019956402480602264,0.0842200368642807,0.10722517967224121]],\"type\":\"heatmap\",\"xaxis\":\"x\",\"yaxis\":\"y\",\"hovertemplate\":\"Head: %{x}\\u003cbr\\u003eLayer: %{y}\\u003cbr\\u003eLogit diff variation: %{z}\\u003cextra\\u003e\\u003c\\u002fextra\\u003e\"},{\"coloraxis\":\"coloraxis\",\"name\":\"1\",\"z\":[[0.00013401053729467094,-0.020391937345266342,0.061198145151138306,0.22020162642002106,0.01963254250586033,-0.01172592118382454,0.1623649299144745,0.07563777267932892,-0.01456247828900814,-0.02192188985645771,0.02173762395977974,-0.016857407987117767,0.02173762395977974,-0.0296219103038311,0.04148184508085251,-0.0011614246759563684],[-0.04110773280262947,0.11806885898113251,-0.17736852169036865,0.07155045866966248,0.03267623484134674,-0.0013401053147390485,-0.22559556365013123,0.0433468222618103,-0.021028487011790276,0.03272648900747299,0.06671490520238876,-0.01926959864795208,-0.138511061668396,0.1256013810634613,0.09889977425336838,0.043145809322595596],[-0.07124893367290497,0.03359197452664375,-0.1282871663570404,-0.018136093392968178,-0.17289592325687408,0.021318841725587845,0.015277200378477573,0.006393418647348881,-0.00810763705521822,-0.05644076690077782,-0.051074765622615814,0.20711329579353333,0.011742672882974148,0.040370672941207886,0.02688586339354515,-0.008124388754367828],[0.0473727248609066,-0.014668568968772888,0.1268409639596939,0.06558141112327576,0.01761680096387863,0.027276726439595222,0.06166159734129906,-0.021866053342819214,-0.05375497415661812,0.05295649915933609,0.016539134085178375,-0.12423334270715714,-0.014177197590470314,0.036478783935308456,0.043776772916316986,-0.10622009634971619],[0.012116785161197186,-0.034167103469371796,0.06414636969566345,-0.1406775563955307,-0.028678253293037415,0.05213009938597679,0.016600554808974266,-0.049081359058618546,0.012429477646946907,-0.09628656506538391,0.04485444352030754,0.01659497059881687,-0.004109656438231468,0.05577629804611206,-0.03637269139289856,-0.023920880630612373],[-0.02375895157456398,0.024551846086978912,0.07500681281089783,0.08698400110006332,0.016779236495494843,0.03858945146203041,0.057557523250579834,0.0015132023254409432,-0.019035078585147858,-0.17984214425086975,-0.1269414722919464,0.2567139267921448,0.21397574245929718,0.10499724745750427,-0.14857301115989685,-0.007002050522714853],[-0.037924978882074356,-0.15407302975654602,-0.028923939913511276,0.15847302973270416,0.001764472108334303,0.05700473114848137,0.028119876980781555,-0.026461496949195862,0.24892456829547882,0.10757136344909668,-0.08496268093585968,0.047646328806877136,-0.07694438099861145,0.09803987294435501,-0.06519054621458054,0.07370579242706299],[0.03359755873680115,-0.07034435868263245,-0.02151985839009285,-0.07002608478069305,0.1414927840232849,0.08261749148368835,0.11032416671514511,0.11937545984983444,0.21493613719940186,-0.03441837430000305,0.09843073785305023,0.09743682295084,-0.4118311107158661,-0.1108434647321701,0.13827653229236603,-0.20948639512062073],[-0.04514480009675026,-0.017633551731705666,-0.062398653477430344,-0.037243761122226715,0.017851321026682854,-0.09948606789112091,-0.10638203471899033,-0.16619539260864258,0.179066002368927,0.10863786935806274,0.20434372127056122,-0.04879100248217583,0.2127305567264557,-0.24609358608722687,0.21549451351165771,0.14843341708183289],[-0.07057888060808182,-0.07005400955677032,0.06349307298660278,-0.6450932025909424,0.009587336331605911,0.1262323409318924,-0.1197216585278511,0.08959721028804779,0.14974002540111542,-0.09875459223985672,-0.08254490792751312,-0.19199800491333008,0.007364995777606964,-0.0900997519493103,-0.02077721618115902,-0.07878144085407257],[-0.010179216973483562,0.03262598067522049,-0.04738388955593109,-0.08077484369277954,0.09941348433494568,-0.1924000382423401,0.10762721300125122,0.032380297780036926,-0.016003092750906944,-0.015288368798792362,-0.06247124448418617,-0.05907631292939186,0.08950228244066238,-0.20417062938213348,-0.03790264576673508,-0.06902658939361572],[-0.04655749350786209,-0.8408212065696716,-0.07280122488737106,-0.03879046440124512,-0.3017917275428772,0.13591459393501282,-0.010128962807357311,-0.033508218824863434,-1.0210206508636475,0.07407432794570923,-0.09329366683959961,-0.19377923011779785,0.047121454030275345,0.11553383618593216,-0.04206255450844765,-0.06886466592550278],[0.024205652996897697,-0.2291468381881714,0.29119929671287537,-0.15376591682434082,-0.009827438741922379,0.06022098287940025,-0.08681090176105499,-1.245672583580017,-0.08399110287427902,-0.24568040668964386,0.10969320684671402,0.013708160258829594,-0.12574654817581177,0.035931576043367386,-0.020671125501394272,0.046937186270952225],[0.45086726546287537,-0.06188494712114334,0.7617326378822327,-0.4877704083919525,0.00017868071154225618,-0.006549764424562454,0.2755982577800751,0.2593662142753601,0.05193466693162918,-0.05879712477326393,0.026321902871131897,-0.2053990513086319,-0.014233035035431385,2.522742748260498,-0.08167942613363266,-0.0327209047973156],[0.19623050093650818,-0.03936559334397316,-0.07629108428955078,-0.0002624373009894043,0.012155871838331223,-0.6290063858032227,0.14152629673480988,-0.016014259308576584,0.04071686789393425,0.018253352493047714,-0.12007343769073486,-0.0055223507806658745,0.1457308828830719,-0.00030710746068507433,-0.04684784635901451,0.27787643671035767],[0.07046720385551453,-0.009313732385635376,0.008772105909883976,0.019978737458586693,0.018560457974672318,-0.08507435768842697,-0.36357614398002625,0.008593425154685974,-0.5164877772331238,-0.008587841875851154,-0.13329580426216125,0.06717278063297272,0.016382787376642227,0.05803214758634567,-0.1075434535741806,0.07857484370470047],[-0.21689604222774506,0.09169112145900726,0.026366570964455605,0.0032106691505759954,0.07261137664318085,0.015701567754149437,-0.15407302975654602,0.05895347148180008,0.00034619387588463724,-0.013920344412326813,-0.017326444387435913,0.0012284298427402973,-0.024752862751483917,0.0050198109820485115,-0.010391400195658207,0.002613205462694168],[-0.017655888572335243,-0.20176962018013,0.0,0.01859954558312893,-0.06654181331396103,-0.09228859096765518,-0.014193948358297348,0.07580529153347015,0.07470528781414032,-0.005790371913462877,-0.07189106196165085,-0.016539134085178375,0.0080238813534379,-0.012680746614933014,0.001010662759654224,-0.17485582828521729],[-0.005544685758650303,-0.04430723190307617,-0.10163582861423492,-0.0011279219761490822,-0.12431710213422775,-0.016042176634073257,0.03669096529483795,-0.0016862992197275162,-0.23064328730106354,-0.09455560147762299,-0.2580372989177704,-0.06866364926099777,0.1288064569234848,-0.0021609198302030563,0.027935611084103584,-0.22875040769577026],[-0.013211204670369625,-0.08992665261030197,0.033156439661979675,-0.11989475786685944,-0.010402567684650421,0.00967109389603138,-0.018219849094748497,0.1886644959449768,0.029370643198490143,-0.00838124193251133,0.05350370705127716,0.02569093555212021,0.05935549736022949,-0.007683270610868931,0.09090381115674973,0.13609886169433594],[0.07743017375469208,-0.12125720083713531,0.01670106314122677,-0.802131175994873,0.045664090663194656,-0.037740714848041534,0.029398562386631966,-0.0005751285352744162,-0.02676302194595337,-0.26220834255218506,0.05952301621437073,-0.00032944255508482456,-0.009207640774548054,0.03819858655333519,0.14173847436904907,-0.2128087282180786],[0.30608564615249634,-0.014685321599245071,-0.02812546119093895,0.0016081263311207294,0.03924275189638138,-0.07500123232603073,-0.12039729952812195,-0.00011725921649485826,-0.013808668591082096,-0.1834157556295395,0.021341176703572273,0.1961970031261444,-0.001848228508606553,0.030749833211302757,0.030275212600827217,-0.378557413816452],[0.08053474873304367,0.008157891221344471,-0.056038737297058105,0.018314773216843605,-0.04649607092142105,0.024741696193814278,0.009012208320200443,-0.04374885559082031,-0.008342155255377293,0.0019822390750050545,0.009380737319588661,-0.04953364282846451,0.0878383219242096,3.3502634323667735e-05,0.12772320210933685,-0.005807123146951199],[0.020782800391316414,0.07845199853181839,-0.06266109645366669,0.0013289378257468343,0.04153209924697876,0.0007203065906651318,0.19079191982746124,-1.1167544471391011e-05,0.0004131991299800575,0.005835041869431734,0.024540679529309273,0.016511214897036552,-3.3502634323667735e-05,-0.005963468924164772,-0.03805340826511383,0.013501561246812344]],\"type\":\"heatmap\",\"xaxis\":\"x2\",\"yaxis\":\"y2\",\"hovertemplate\":\"Head: %{x}\\u003cbr\\u003eLayer: %{y}\\u003cbr\\u003eLogit diff variation: %{z}\\u003cextra\\u003e\\u003c\\u002fextra\\u003e\"},{\"coloraxis\":\"coloraxis\",\"name\":\"2\",\"z\":[[0.001853812369517982,-0.14771869778633118,-0.09203732013702393,0.2485281080007553,-0.04903110861778259,0.0004131991299800575,0.03380974009633064,-0.029264550656080246,-0.025026468560099602,0.06840121001005173,0.09967034310102463,0.013657907024025917,0.010112212039530277,-0.014869584701955318,0.04199555143713951,0.004762957338243723],[-0.010804599151015282,0.0537717267870903,-0.004902551881968975,0.02896302565932274,0.05242045223712921,0.06012047454714775,-0.219123974442482,-0.03865087032318115,0.09994952380657196,0.022346256300807,-0.02103406935930252,0.05317426472902298,-0.08292460441589355,-0.021832549944519997,0.17300201952457428,0.08324287831783295],[-0.06053367257118225,-0.039700619876384735,0.0032553391065448523,0.010726425796747208,0.015902582556009293,0.031950343400239944,0.009492413140833378,-0.028192467987537384,0.05881386995315552,0.04054376855492592,-0.002322849351912737,0.17416344583034515,0.024060474708676338,0.08382359147071838,0.012368055060505867,0.01361323706805706],[0.0818413496017456,0.04026458039879799,-0.009079213254153728,0.00401473231613636,0.11116731911897659,0.02432849630713463,-0.04719962552189827,-0.10168606787919998,-0.015567557886242867,0.0757606253027916,0.03951635584235191,-0.09194239228963852,0.01074876170605421,0.03966711834073067,-0.09466727823019028,-0.08815101534128189],[-0.03471989557147026,-0.0009659926290623844,-0.16828931868076324,0.13238565623760223,-0.05115852132439613,-0.10618659108877182,-0.07350478321313858,0.004494936671108007,0.0015243698144331574,-0.039287421852350235,-0.016768068075180054,0.060455501079559326,-0.019398024305701256,0.24432353675365448,0.008900532498955727,-0.052426040172576904],[-0.0535707101225853,-0.06926669180393219,-0.05714990943670273,0.003774629905819893,0.01349597703665495,-0.03992396965622902,0.0014406131813302636,0.002334016840904951,2.7918860723730177e-05,0.09611347317695618,-0.013473642989993095,0.12975570559501648,-0.12676279246807098,-0.1360374391078949,0.04285545274615288,-0.009900027886033058],[0.017488375306129456,-0.04369301721453667,0.003970061894506216,-0.07301340997219086,0.1656481921672821,0.10872720927000046,-0.0584230050444603,0.017326444387435913,0.1454237550497055,-0.06876973807811737,0.10286425054073334,-0.20863206684589386,0.05060572922229767,-0.06531896442174911,0.03817066550254822,0.034932080656290054],[0.10185359418392181,-0.06445348262786865,-0.028449319303035736,-0.06654740124940872,-0.03603766858577728,-0.014534559100866318,0.10020079463720322,0.11166427284479141,0.052331116050481796,-0.078334741294384,-0.025612762197852135,0.2821591794490814,-0.20317113399505615,-0.20386908948421478,0.03403867781162262,-0.4734592139720917],[-0.0410798117518425,-0.05960118770599365,0.2169574648141861,-0.026115303859114647,-0.049103692173957825,-0.3296603262424469,-0.0073873307555913925,-0.07262254506349564,-0.001289851381443441,0.15082326531410217,-0.22213363647460938,-0.0729687362909317,-0.053241267800331116,-0.06814993917942047,0.0008710684487596154,-0.1377963274717331],[-0.19361171126365662,-0.07091949135065079,-0.04710470512509346,-0.685033917427063,0.060868699103593826,0.012027445249259472,0.024685857817530632,0.006912709679454565,0.050538718700408936,-0.056971225887537,-0.005416259169578552,-0.12446228414773941,0.011871099472045898,0.0431402251124382,-0.0878271535038948,-0.07126568257808685],[0.0017142181750386953,0.05309050902724266,-0.03458588570356369,-0.09717997163534164,0.12201658636331558,-0.08603476732969284,0.12537802755832672,0.057546358555555344,-0.003886305494233966,-0.01518786046653986,-0.03618842735886574,-0.10142363607883453,0.02069345861673355,0.3402025103569031,-0.06660323590040207,-0.004148742649704218],[-0.03085034340620041,-0.797546923160553,-0.03145897388458252,0.37625691294670105,-0.07395706325769424,-0.032826997339725494,0.005455345381051302,0.02245793119072914,-1.1832739114761353,-0.0702885240316391,-0.005265497136861086,-0.058495596051216125,-0.016114765778183937,0.03442953899502754,-0.06549764424562454,-0.46173328161239624],[-0.0376737117767334,-0.10333328694105148,-0.3092348873615265,0.13735520839691162,-0.0025741190183907747,-0.1265394538640976,-0.12399882823228836,-0.9744352698326111,0.18141676485538483,0.07881493866443634,-0.022876715287566185,0.009827438741922379,0.11929728835821152,-0.012825923971831799,-0.0378747284412384,0.05643518641591072],[-0.020721377804875374,-0.13327346742153168,0.18862541019916534,-0.5787523984909058,-3.3502634323667735e-05,-0.03307826817035675,0.47845110297203064,0.07040020078420639,-0.10274141281843185,-0.08697842061519623,-0.0040873209945857525,-0.07480579614639282,-0.02622697874903679,1.4519761800765991,0.1251825988292694,0.060550425201654434],[0.22323362529277802,0.1822710782289505,0.13466383516788483,-0.00020659956499002874,0.0120497802272439,0.0030878260731697083,0.08744186908006668,0.1163211390376091,-0.0010218302486464381,-0.0725555345416069,0.029929019510746002,-0.2378072887659073,0.2356295883655548,0.037254929542541504,0.020492443814873695,-0.15650197863578796],[-0.005086816381663084,0.07113725692033768,0.04402804374694824,-0.09719672054052353,-0.011318306438624859,-0.021659452468156815,0.027751348912715912,0.0084370793774724,0.030403640121221542,0.008319820277392864,0.01874472387135029,0.025093471631407738,0.1624710112810135,-0.04105747863650322,0.23895195126533508,0.0826789140701294],[-0.025166062638163567,0.11888968199491501,-0.009123883210122585,-0.0013456890592351556,0.06406261771917343,0.0072030662558972836,0.0038807217497378588,-0.002652291674166918,0.00020659956499002874,0.0204868596047163,0.05721133202314377,-0.019772136583924294,0.10318253189325333,-0.02912495657801628,0.005678696557879448,0.0023786870297044516],[-0.016706645488739014,-0.0908312201499939,0.0,0.004115240182727575,-0.3084028959274292,-0.006186819635331631,-0.006393418647348881,0.08454947918653488,0.060539256781339645,0.0010218302486464381,-0.0544920340180397,-0.31950902938842773,-0.0006868039490655065,-0.05486614629626274,0.0011614246759563684,0.2688642144203186],[0.01449547242373228,0.0181137565523386,0.15220245718955994,-0.021793464198708534,-0.11266935616731644,-0.03487624228000641,0.1682446449995041,6.142149504739791e-05,-0.03517217934131622,-0.03976762667298317,0.04722195863723755,-0.057496100664138794,-0.048813335597515106,-0.003824884071946144,0.001373607898131013,-0.0005862960824742913],[-0.0017365531530231237,-0.028946273028850555,-0.02078838460147381,-0.02153102494776249,0.12325619161128998,0.07816164195537567,0.028890438377857208,-0.10706883668899536,-0.04937729611992836,-0.008051799610257149,-0.018409695476293564,0.01745487190783024,0.05513416975736618,-1.227257251739502,0.008973121643066406,-0.013060443103313446],[0.023641692474484444,-0.06359916180372238,-0.007465503644198179,-0.021006150171160698,-0.002172087552025914,-0.000647717562969774,-0.019180258736014366,-0.0012228460982441902,-0.055491529405117035,0.05496107041835785,-0.24623319506645203,-0.019922899082303047,-0.003595949150621891,0.0011279219761490822,0.04773566871881485,-0.14475929737091064],[0.22186559438705444,0.032229531556367874,-0.0051091518253088,-0.024959461763501167,-0.11065920442342758,0.04937729611992836,-0.013077194802463055,0.0125914067029953,-0.0010720842983573675,-0.009503579698503017,0.024239156395196915,0.12548969686031342,-0.001859396114014089,0.053447868674993515,0.11355158686637878,0.21173664927482605],[0.014813748188316822,0.0017142181750386953,-0.059763114899396896,0.013278210535645485,-0.008950786665081978,-0.007102558389306068,0.011312722228467464,0.01946503110229969,-0.0043106721714138985,-0.15237556397914886,0.007454335689544678,-0.13484251499176025,-0.01035231351852417,0.001675131730735302,-0.009073629975318909,-0.02594779059290886],[0.00034619387588463724,0.04374885559082031,-0.05419609323143959,0.004355342593044043,-0.03713766857981682,0.014149278402328491,0.4286215305328369,-2.2335088942782022e-05,5.5837722356955055e-06,-0.022189911454916,0.002685794373974204,-0.025774693116545677,-5.5837722356955055e-06,0.003216252662241459,-0.006354332435876131,0.003551279194653034]],\"type\":\"heatmap\",\"xaxis\":\"x3\",\"yaxis\":\"y3\",\"hovertemplate\":\"Head: %{x}\\u003cbr\\u003eLayer: %{y}\\u003cbr\\u003eLogit diff variation: %{z}\\u003cextra\\u003e\\u003c\\u002fextra\\u003e\"},{\"coloraxis\":\"coloraxis\",\"name\":\"3\",\"z\":[[-7.258904224727303e-05,0.15262123942375183,-0.28118762373924255,0.002423357218503952,0.10162465274333954,-0.11483585834503174,0.0189401563256979,0.22815851867198944,0.0348874069750309,0.07504589855670929,0.09817946702241898,-0.004913719370961189,-0.06149408221244812,0.26873019337654114,-0.1721421182155609,-0.0021832550410181284],[-0.005533518269658089,-0.08955253660678864,-0.25376012921333313,-0.00480204401537776,0.17614009976387024,0.2099219262599945,0.04188387468457222,-0.085560142993927,0.11908511072397232,0.04536814987659454,0.015980755910277367,0.20420973002910614,0.005717782769352198,0.030772170051932335,-0.15372683107852936,0.03407776355743408],[0.05716665834188461,0.08190277218818665,-0.024886872619390488,0.04181128740310669,-0.05093517154455185,-0.011536073870956898,0.09872108697891235,0.045295558869838715,0.08702867478132248,-0.14039278030395508,0.18778225779533386,-0.15324105322360992,-0.08119921386241913,0.08142256736755371,-0.20252342522144318,0.16354867815971375],[-0.21867726743221283,-0.11274752765893936,0.33185476064682007,0.003048739628866315,0.12895722687244415,0.14679178595542908,-0.13977298140525818,0.07126010209321976,0.11171452701091766,0.2533971667289734,-0.07223168015480042,0.043653931468725204,0.21327775716781616,-0.02105640433728695,0.08303628116846085,0.047534652054309845],[-0.013099528849124908,0.005282248370349407,-0.2644307017326355,-0.2607063055038452,0.05497782304883003,-0.014473136514425278,0.09576169401407242,-0.022368591278791428,0.02183813415467739,0.1461440622806549,-0.08705659210681915,0.04535139724612236,-0.16666443645954132,0.4704272449016571,0.1868106871843338,0.5076542496681213],[-0.03801431879401207,-0.21107217669487,-0.4480418860912323,0.11823637038469315,-0.004857881926000118,0.14229685068130493,-0.004104072693735361,-0.12036379426717758,-0.035211265087127686,-0.1665918380022049,-0.23975041508674622,-0.0517113134264946,-0.37799903750419617,-0.09528148919343948,0.1116754487156868,0.11072620004415512],[0.0515047162771225,0.015601060353219509,-0.0060304743237793446,0.02205589972436428,0.025869617238640785,-0.36964571475982666,0.03169907256960869,0.11451759189367294,-0.19906705617904663,-0.3416095972061157,-0.23086664080619812,20.941728591918945,-0.6727105379104614,-0.35840559005737305,0.15837812423706055,-0.02710362896323204],[-0.18945738673210144,0.14002984762191772,-0.027695510536432266,-0.041185904294252396,-0.21872752904891968,-0.38597267866134644,-0.2849678099155426,-0.9790921807289124,0.40256762504577637,0.06053367257118225,-0.04986866936087608,0.5792493224143982,-0.7764570713043213,0.13684707880020142,-0.1710141897201538,-0.2236524075269699],[-0.18873707950115204,-0.5173699855804443,0.9685555696487427,-0.3629786968231201,0.15886390209197998,-0.22535544633865356,-0.29832980036735535,0.24494333565235138,0.08467790484428406,-0.015422378666698933,1.2110644578933716,-1.4067140817642212,0.03004627861082554,-0.5503533482551575,-1.0804041624069214,-0.16994211077690125],[-0.9209762215614319,0.5737046599388123,0.26054996252059937,0.2573169767856598,0.009738098829984665,0.7606940269470215,-0.17662587761878967,-0.10404801368713379,-0.39680519700050354,-0.8383475542068481,-0.18687210977077484,7.195899486541748,-0.017521876841783524,0.3789147734642029,-0.5079334378242493,0.6034662127494812],[0.0027248808182775974,0.02232392132282257,0.444507360458374,-0.22617627680301666,1.2125272750854492,-4.091838359832764,-0.4839678704738617,-0.21012292802333832,-0.003774629905819893,-0.06319713592529297,0.5216527581214905,0.7782605886459351,-0.07497331500053406,2.932485580444336,0.009419823996722698,-0.20728078484535217],[-0.055016908794641495,43.62257385253906,0.04033158719539642,0.5171242952346802,-0.21598032116889954,0.05640726909041405,0.6550713777542114,0.045831602066755295,2.8204190731048584,-0.10202669352293015,0.011005614884197712,-0.09860383719205856,-0.06741288304328918,0.11767799407243729,0.150069460272789,-0.9621174931526184],[-0.21008941531181335,-0.4096534550189972,2.770103931427002,-0.2620464265346527,0.09521448612213135,0.2087939977645874,-0.35665228962898254,-3.60292911529541,1.6787834167480469,-0.34923702478408813,-0.2957109808921814,-0.11619830131530762,0.49196383357048035,-0.06545855849981308,0.024568598717451096,0.1621304154396057],[3.3525164127349854,-0.1394435465335846,-3.3062801361083984,-4.305596828460693,0.00014517808449454606,0.3267735242843628,1.3036935329437256,-0.9230310320854187,2.9181015491485596,-0.5023943185806274,0.005142654292285442,-0.9998247027397156,-0.05019253119826317,13.757326126098633,-0.12394299358129501,0.17697766423225403],[1.5015544891357422,-1.2881873846054077,1.6228675842285156,-0.0006365500157698989,0.010134547017514706,0.11480235308408737,0.568210244178772,1.2447177171707153,0.255736768245697,0.43160325288772583,-0.10389166325330734,-0.2811373472213745,1.403592824935913,-0.23059305548667908,-2.078603982925415,0.7330934405326843],[-0.3149750232696533,-0.2344123274087906,-0.04397778958082199,0.36606651544570923,-0.03296659141778946,0.20279143750667572,0.2340773046016693,0.03083917312324047,0.1588359773159027,-0.16537457704544067,-0.060734689235687256,-0.07507940381765366,-1.0617934465408325,-0.034239690750837326,0.03706508129835129,0.10265207290649414],[0.49413031339645386,0.15913191437721252,0.029728002846240997,0.10645461827516556,1.9965391159057617,-0.05454787239432335,1.676131248474121,-1.203135371208191,-6.142149504739791e-05,0.0744205117225647,-0.13721002638339996,-0.17191876471042633,-1.5432262420654297,0.03249197080731392,-0.12699730694293976,-0.02969450131058693],[-0.07385655492544174,0.0095985047519207,0.0,-0.0449996218085289,-1.149642825126648,-0.006086311768740416,-0.01778431423008442,0.0007482254877686501,0.10482973605394363,-0.013914761133491993,0.1238536536693573,0.055162083357572556,-0.014059938490390778,-0.05431893467903137,-0.037450361996889114,-0.32982784509658813],[-0.4598962068557739,-0.09112715721130371,7.877466201782227,-0.007448751945048571,0.18490102887153625,-0.03124120458960533,0.09654342383146286,-0.002026909263804555,0.37720614671707153,0.041599102318286896,-2.192183494567871,0.08575557172298431,-0.039639197289943695,-0.00864926353096962,-0.04907018691301346,-0.02675185352563858],[-0.0027025456074625254,-0.08451597392559052,0.2750566303730011,0.022463515400886536,-0.2065158188343048,0.07277888804674149,0.420999675989151,-0.14550752937793732,-0.07311949878931046,0.005388340447098017,-0.02287113107740879,0.36739546060562134,-0.0307051632553339,-0.2848673164844513,0.0896865501999855,-1.0600568056106567],[0.061147887259721756,-0.16942840814590454,-0.07363878190517426,0.06301845610141754,0.01048074010759592,-0.06959613412618637,-0.06576567143201828,-0.0027974697295576334,-0.00790662132203579,-0.43207788467407227,0.21118943393230438,0.008716268464922905,8.375658217119053e-05,0.04872399568557739,-0.17382840812206268,0.15414002537727356],[3.8300209045410156,-0.09097081422805786,-0.05273314192891121,-0.04235849529504776,-0.12743283808231354,0.18765383958816528,-0.2068285197019577,-0.05765802785754204,-0.0015411211643368006,-0.05962352082133293,0.027874190360307693,-1.3949213027954102,0.00038528029108420014,0.02930363640189171,3.843385696411133,0.07766468822956085],[0.3410177230834961,0.0024680274073034525,0.29150640964508057,0.10844244062900543,0.0901109129190445,0.007621849421411753,-0.001016246504150331,-0.12260288745164871,-0.012440645135939121,-0.006482759490609169,0.0013456890592351556,0.04956156387925148,0.16849033534526825,0.002133001107722521,-0.16129285097122192,-0.0002121833385899663],[0.06861339509487152,-0.23669050633907318,0.0602712407708168,0.002987318206578493,-0.12902981042861938,0.054799143224954605,0.5585837960243225,-8.375658217119053e-05,-0.00017868071154225618,1.4610778093338013,0.20907877385616302,-0.0592438206076622,0.0,0.0236863624304533,0.1273714303970337,0.09198706597089767]],\"type\":\"heatmap\",\"xaxis\":\"x4\",\"yaxis\":\"y4\",\"hovertemplate\":\"Head: %{x}\\u003cbr\\u003eLayer: %{y}\\u003cbr\\u003eLogit diff variation: %{z}\\u003cextra\\u003e\\u003c\\u002fextra\\u003e\"},{\"coloraxis\":\"coloraxis\",\"name\":\"4\",\"z\":[[0.0019040663028135896,-0.1540842056274414,-0.0327153205871582,0.01823659986257553,0.012306633405387402,-0.011619830504059792,0.15610551834106445,0.0044055962935090065,-0.04561383277177811,0.0488189198076725,0.07747483998537064,-0.011480235494673252,0.021748794242739677,0.0012619325425475836,0.046099621802568436,0.00381371658295393],[-0.02465793862938881,0.15814918279647827,-0.19530917704105377,0.07165096700191498,0.0338544100522995,0.045770179480314255,-0.036087919026613235,0.026696015149354935,0.026807690039277077,0.033083848655223846,0.01000611949712038,0.03431786224246025,-0.11040793359279633,0.0931987389922142,0.16303497552871704,0.11710845679044724],[0.03832142800092697,0.006086311768740416,-0.09596271067857742,-0.00704113719984889,-0.16024868190288544,0.025355909019708633,-0.01639953814446926,0.007621849421411753,0.05308492109179497,-0.01878380961716175,-0.05779204145073891,0.06365500390529633,0.016003092750906944,0.12603691220283508,0.05358746275305748,-0.009855357930064201],[0.14856183528900146,0.041319914162158966,0.10780588537454605,0.06435855478048325,0.14649584889411926,0.05300116539001465,0.023155903443694115,-0.08045656979084015,-0.06559815257787704,0.07673777639865875,0.028265055269002914,-0.05157730355858803,-0.011279219761490822,0.05596056580543518,-0.06752455979585648,-0.1943543553352356],[-0.02340717241168022,-0.02824830263853073,-0.002328433096408844,-0.006197987589985132,-0.014177197590470314,-0.16501164436340332,-0.01456247828900814,0.008800025098025799,0.01871122047305107,-0.15598267316818237,0.02900211326777935,0.06407937407493591,-0.03391583263874054,0.06325297057628632,-0.015137606300413609,-0.01027414109557867],[-0.0664692223072052,-0.059980880469083786,-0.003640619572252035,0.07377279549837112,0.0032050851732492447,0.03896914795041084,0.06764181703329086,-0.012183791026473045,0.0351945161819458,-0.1333460658788681,-0.15125879645347595,0.24727177619934082,-0.2000274807214737,-0.06180119141936302,-0.09356168657541275,-0.016723396256566048],[-0.012987853959202766,-0.22968848049640656,-0.009095964953303337,0.08764847368001938,0.15105220675468445,0.22466307878494263,-0.031202120706439018,-0.01928076520562172,0.1238480657339096,0.014193948358297348,0.01192135363817215,-0.22728745639324188,0.015076184645295143,0.04276052489876747,0.05415700748562813,0.09704595804214478],[0.13253642618656158,-0.13566891849040985,-0.011552824638783932,-0.07489513605833054,0.1506948471069336,0.06280627101659775,-0.16476593911647797,0.11616479605436325,0.031565066426992416,-0.11686835438013077,0.11215006560087204,0.5180233120918274,-0.2340773046016693,0.04687018692493439,0.14009127020835876,-0.23632198572158813],[-0.14611615240573883,-0.07526366412639618,0.17932283878326416,-0.037779800593853,-0.04559708386659622,0.019303100183606148,-0.11113381385803223,-0.05605548992753029,0.18285737931728363,0.06304637342691422,-0.005879712291061878,0.05318542942404747,0.20320464670658112,-0.11585769057273865,0.08585608750581741,-0.022072652354836464],[-0.22349047660827637,-0.0024456921964883804,-0.009095964953303337,-0.07275655120611191,0.13125215470790863,0.17275074124336243,-0.03502142056822777,0.09510280936956406,0.14498822391033173,0.06486109644174576,-0.053397610783576965,-0.2949683368206024,0.027159467339515686,0.09060229361057281,-0.17780405282974243,-0.049835171550512314],[-0.005053313914686441,0.03544578328728676,-0.01642187498509884,-0.13491509854793549,0.018767058849334717,0.1677141934633255,0.2932206392288208,0.08961395919322968,-0.04383261129260063,-0.014914254657924175,0.13497652113437653,-0.03756203502416611,0.11201605945825577,0.2616332471370697,-0.10560030490159988,-0.06261642277240753],[-0.0955774262547493,0.0927911251783371,-0.030476227402687073,0.36396145820617676,-0.27964648604393005,0.10778355598449707,0.0007705605821684003,-0.010296476073563099,-0.5923097729682922,0.05309050902724266,-0.11035767197608948,-0.11264143884181976,0.032145775854587555,0.14979027211666107,-0.0709027424454689,-0.051962584257125854],[-0.01591375097632408,-0.315639466047287,-0.2654804587364197,-0.06754130870103836,-0.05776412412524223,-0.007923373021185398,-0.1666979342699051,0.03625543415546417,0.09457793086767197,-0.15407302975654602,0.10484649240970612,-0.007984794676303864,0.20289194583892822,-0.0020715794526040554,-0.03557421267032623,0.04620013013482094],[0.11557291448116302,-0.03980112820863724,0.5142095685005188,-0.14062172174453735,0.00012284299009479582,-0.025573674589395523,0.21041887998580933,0.2855597138404846,-0.0745154395699501,-0.039762042462825775,0.022608693689107895,-0.20723053812980652,-0.07574386894702911,1.4700061082839966,0.050756487995386124,-0.0402534157037735],[-0.015148773789405823,0.3462553024291992,-0.0654306411743164,-0.0007370579405687749,0.014333543367683887,-0.6520059108734131,0.024043723940849304,-0.005918798502534628,0.059444840997457504,-0.04397778958082199,-0.0841195285320282,0.004969557281583548,0.20233914256095886,0.060600683093070984,0.0664748102426529,0.10185916721820831],[0.06765856593847275,0.059310831129550934,0.05360421538352966,-0.23287121951580048,0.00625940877944231,-0.11169777810573578,-0.3726274371147156,0.014333543367683887,-0.49031659960746765,0.01832035556435585,-0.07516873627901077,0.1404597908258438,0.14343035221099854,0.015048266388475895,0.13855572044849396,0.16472128033638],[-0.2927292585372925,0.1799873262643814,0.028812265023589134,-0.034954413771629333,0.04366509988903999,-0.02282087691128254,-0.11979983001947403,0.07026618719100952,0.000323858781484887,6.142149504739791e-05,0.05288948863744736,-0.01741020195186138,0.07324792444705963,-0.06314687430858612,-0.007270071189850569,0.010246221907436848],[-0.030895011499524117,-0.21391990780830383,0.0,0.024797530844807625,-0.24711543321609497,-0.09818505495786667,-0.018208680674433708,0.200127974152565,0.12710341811180115,-0.004383261315524578,-0.13642272353172302,-0.31010037660598755,0.007443168666213751,-0.02105640433728695,-0.0004131991299800575,0.1327374428510666],[0.19892747700214386,-0.0012619325425475836,0.1372658759355545,-0.022982805967330933,-0.2193138301372528,-0.050929583609104156,0.17984214425086975,-0.0015411211643368006,-0.34002378582954407,-0.1425425410270691,-0.07549259811639786,-0.15081769227981567,0.0852586179971695,-0.0035903656389564276,0.031246788799762726,-0.22072093188762665],[-0.017996497452259064,-0.10818558186292648,0.0054832641035318375,-0.14020293951034546,0.11576834321022034,0.07908296585083008,-0.03993513807654381,0.07667636126279831,-0.014864001423120499,-0.015444714576005936,0.06342048197984695,-0.021821381524205208,0.12459629029035568,-1.1363422870635986,0.0961972251534462,0.16706646978855133],[0.09843073785305023,-0.051984917372465134,0.007353827822953463,-0.8016342520713806,0.0418001189827919,-0.038327012211084366,0.04728896543383598,-0.0014238618314266205,-0.07953525334596634,-0.20423205196857452,-0.3056947886943817,-0.02143610268831253,-0.0053771729581058025,0.03585340082645416,0.19767670333385468,-0.41599100828170776],[0.20629246532917023,0.02272595278918743,-0.018755890429019928,-0.008995456621050835,-0.08062966912984848,-0.024060474708676338,-0.1200343519449234,0.011318306438624859,-0.01429445669054985,-0.19334369897842407,0.0392204150557518,0.3449598550796509,-0.0033279280178248882,0.07110375165939331,0.14507757127285004,-0.034993499517440796],[0.08943527936935425,0.009888861328363419,-0.10026221722364426,0.007806113921105862,-0.07196924090385437,0.017052840441465378,0.025249816477298737,-0.002395438263192773,-0.009860941208899021,-0.10826376080513,0.004908135626465082,-0.1840132176876068,0.07576620578765869,0.001675131730735302,0.12175974249839783,-0.003802548861131072],[0.02013508230447769,0.14135318994522095,-0.1542014479637146,0.005929965991526842,0.058981385082006454,-0.004377677571028471,0.5702539086341858,3.9086404285626486e-05,0.0004802044131793082,-0.04641789570450783,0.01525486633181572,-0.011714753694832325,-2.2335088942782022e-05,-0.0037243759725242853,-0.043737687170505524,0.017024921253323555]],\"type\":\"heatmap\",\"xaxis\":\"x5\",\"yaxis\":\"y5\",\"hovertemplate\":\"Head: %{x}\\u003cbr\\u003eLayer: %{y}\\u003cbr\\u003eLogit diff variation: %{z}\\u003cextra\\u003e\\u003c\\u002fextra\\u003e\"}],                        {\"template\":{\"data\":{\"histogram2dcontour\":[{\"type\":\"histogram2dcontour\",\"colorbar\":{\"outlinewidth\":0,\"ticks\":\"\"},\"colorscale\":[[0.0,\"#0d0887\"],[0.1111111111111111,\"#46039f\"],[0.2222222222222222,\"#7201a8\"],[0.3333333333333333,\"#9c179e\"],[0.4444444444444444,\"#bd3786\"],[0.5555555555555556,\"#d8576b\"],[0.6666666666666666,\"#ed7953\"],[0.7777777777777778,\"#fb9f3a\"],[0.8888888888888888,\"#fdca26\"],[1.0,\"#f0f921\"]]}],\"choropleth\":[{\"type\":\"choropleth\",\"colorbar\":{\"outlinewidth\":0,\"ticks\":\"\"}}],\"histogram2d\":[{\"type\":\"histogram2d\",\"colorbar\":{\"outlinewidth\":0,\"ticks\":\"\"},\"colorscale\":[[0.0,\"#0d0887\"],[0.1111111111111111,\"#46039f\"],[0.2222222222222222,\"#7201a8\"],[0.3333333333333333,\"#9c179e\"],[0.4444444444444444,\"#bd3786\"],[0.5555555555555556,\"#d8576b\"],[0.6666666666666666,\"#ed7953\"],[0.7777777777777778,\"#fb9f3a\"],[0.8888888888888888,\"#fdca26\"],[1.0,\"#f0f921\"]]}],\"heatmap\":[{\"type\":\"heatmap\",\"colorbar\":{\"outlinewidth\":0,\"ticks\":\"\"},\"colorscale\":[[0.0,\"#0d0887\"],[0.1111111111111111,\"#46039f\"],[0.2222222222222222,\"#7201a8\"],[0.3333333333333333,\"#9c179e\"],[0.4444444444444444,\"#bd3786\"],[0.5555555555555556,\"#d8576b\"],[0.6666666666666666,\"#ed7953\"],[0.7777777777777778,\"#fb9f3a\"],[0.8888888888888888,\"#fdca26\"],[1.0,\"#f0f921\"]]}],\"heatmapgl\":[{\"type\":\"heatmapgl\",\"colorbar\":{\"outlinewidth\":0,\"ticks\":\"\"},\"colorscale\":[[0.0,\"#0d0887\"],[0.1111111111111111,\"#46039f\"],[0.2222222222222222,\"#7201a8\"],[0.3333333333333333,\"#9c179e\"],[0.4444444444444444,\"#bd3786\"],[0.5555555555555556,\"#d8576b\"],[0.6666666666666666,\"#ed7953\"],[0.7777777777777778,\"#fb9f3a\"],[0.8888888888888888,\"#fdca26\"],[1.0,\"#f0f921\"]]}],\"contourcarpet\":[{\"type\":\"contourcarpet\",\"colorbar\":{\"outlinewidth\":0,\"ticks\":\"\"}}],\"contour\":[{\"type\":\"contour\",\"colorbar\":{\"outlinewidth\":0,\"ticks\":\"\"},\"colorscale\":[[0.0,\"#0d0887\"],[0.1111111111111111,\"#46039f\"],[0.2222222222222222,\"#7201a8\"],[0.3333333333333333,\"#9c179e\"],[0.4444444444444444,\"#bd3786\"],[0.5555555555555556,\"#d8576b\"],[0.6666666666666666,\"#ed7953\"],[0.7777777777777778,\"#fb9f3a\"],[0.8888888888888888,\"#fdca26\"],[1.0,\"#f0f921\"]]}],\"surface\":[{\"type\":\"surface\",\"colorbar\":{\"outlinewidth\":0,\"ticks\":\"\"},\"colorscale\":[[0.0,\"#0d0887\"],[0.1111111111111111,\"#46039f\"],[0.2222222222222222,\"#7201a8\"],[0.3333333333333333,\"#9c179e\"],[0.4444444444444444,\"#bd3786\"],[0.5555555555555556,\"#d8576b\"],[0.6666666666666666,\"#ed7953\"],[0.7777777777777778,\"#fb9f3a\"],[0.8888888888888888,\"#fdca26\"],[1.0,\"#f0f921\"]]}],\"mesh3d\":[{\"type\":\"mesh3d\",\"colorbar\":{\"outlinewidth\":0,\"ticks\":\"\"}}],\"scatter\":[{\"fillpattern\":{\"fillmode\":\"overlay\",\"size\":10,\"solidity\":0.2},\"type\":\"scatter\"}],\"parcoords\":[{\"type\":\"parcoords\",\"line\":{\"colorbar\":{\"outlinewidth\":0,\"ticks\":\"\"}}}],\"scatterpolargl\":[{\"type\":\"scatterpolargl\",\"marker\":{\"colorbar\":{\"outlinewidth\":0,\"ticks\":\"\"}}}],\"bar\":[{\"error_x\":{\"color\":\"#2a3f5f\"},\"error_y\":{\"color\":\"#2a3f5f\"},\"marker\":{\"line\":{\"color\":\"#E5ECF6\",\"width\":0.5},\"pattern\":{\"fillmode\":\"overlay\",\"size\":10,\"solidity\":0.2}},\"type\":\"bar\"}],\"scattergeo\":[{\"type\":\"scattergeo\",\"marker\":{\"colorbar\":{\"outlinewidth\":0,\"ticks\":\"\"}}}],\"scatterpolar\":[{\"type\":\"scatterpolar\",\"marker\":{\"colorbar\":{\"outlinewidth\":0,\"ticks\":\"\"}}}],\"histogram\":[{\"marker\":{\"pattern\":{\"fillmode\":\"overlay\",\"size\":10,\"solidity\":0.2}},\"type\":\"histogram\"}],\"scattergl\":[{\"type\":\"scattergl\",\"marker\":{\"colorbar\":{\"outlinewidth\":0,\"ticks\":\"\"}}}],\"scatter3d\":[{\"type\":\"scatter3d\",\"line\":{\"colorbar\":{\"outlinewidth\":0,\"ticks\":\"\"}},\"marker\":{\"colorbar\":{\"outlinewidth\":0,\"ticks\":\"\"}}}],\"scattermapbox\":[{\"type\":\"scattermapbox\",\"marker\":{\"colorbar\":{\"outlinewidth\":0,\"ticks\":\"\"}}}],\"scatterternary\":[{\"type\":\"scatterternary\",\"marker\":{\"colorbar\":{\"outlinewidth\":0,\"ticks\":\"\"}}}],\"scattercarpet\":[{\"type\":\"scattercarpet\",\"marker\":{\"colorbar\":{\"outlinewidth\":0,\"ticks\":\"\"}}}],\"carpet\":[{\"aaxis\":{\"endlinecolor\":\"#2a3f5f\",\"gridcolor\":\"white\",\"linecolor\":\"white\",\"minorgridcolor\":\"white\",\"startlinecolor\":\"#2a3f5f\"},\"baxis\":{\"endlinecolor\":\"#2a3f5f\",\"gridcolor\":\"white\",\"linecolor\":\"white\",\"minorgridcolor\":\"white\",\"startlinecolor\":\"#2a3f5f\"},\"type\":\"carpet\"}],\"table\":[{\"cells\":{\"fill\":{\"color\":\"#EBF0F8\"},\"line\":{\"color\":\"white\"}},\"header\":{\"fill\":{\"color\":\"#C8D4E3\"},\"line\":{\"color\":\"white\"}},\"type\":\"table\"}],\"barpolar\":[{\"marker\":{\"line\":{\"color\":\"#E5ECF6\",\"width\":0.5},\"pattern\":{\"fillmode\":\"overlay\",\"size\":10,\"solidity\":0.2}},\"type\":\"barpolar\"}],\"pie\":[{\"automargin\":true,\"type\":\"pie\"}]},\"layout\":{\"autotypenumbers\":\"strict\",\"colorway\":[\"#636efa\",\"#EF553B\",\"#00cc96\",\"#ab63fa\",\"#FFA15A\",\"#19d3f3\",\"#FF6692\",\"#B6E880\",\"#FF97FF\",\"#FECB52\"],\"font\":{\"color\":\"#2a3f5f\"},\"hovermode\":\"closest\",\"hoverlabel\":{\"align\":\"left\"},\"paper_bgcolor\":\"white\",\"plot_bgcolor\":\"#E5ECF6\",\"polar\":{\"bgcolor\":\"#E5ECF6\",\"angularaxis\":{\"gridcolor\":\"white\",\"linecolor\":\"white\",\"ticks\":\"\"},\"radialaxis\":{\"gridcolor\":\"white\",\"linecolor\":\"white\",\"ticks\":\"\"}},\"ternary\":{\"bgcolor\":\"#E5ECF6\",\"aaxis\":{\"gridcolor\":\"white\",\"linecolor\":\"white\",\"ticks\":\"\"},\"baxis\":{\"gridcolor\":\"white\",\"linecolor\":\"white\",\"ticks\":\"\"},\"caxis\":{\"gridcolor\":\"white\",\"linecolor\":\"white\",\"ticks\":\"\"}},\"coloraxis\":{\"colorbar\":{\"outlinewidth\":0,\"ticks\":\"\"}},\"colorscale\":{\"sequential\":[[0.0,\"#0d0887\"],[0.1111111111111111,\"#46039f\"],[0.2222222222222222,\"#7201a8\"],[0.3333333333333333,\"#9c179e\"],[0.4444444444444444,\"#bd3786\"],[0.5555555555555556,\"#d8576b\"],[0.6666666666666666,\"#ed7953\"],[0.7777777777777778,\"#fb9f3a\"],[0.8888888888888888,\"#fdca26\"],[1.0,\"#f0f921\"]],\"sequentialminus\":[[0.0,\"#0d0887\"],[0.1111111111111111,\"#46039f\"],[0.2222222222222222,\"#7201a8\"],[0.3333333333333333,\"#9c179e\"],[0.4444444444444444,\"#bd3786\"],[0.5555555555555556,\"#d8576b\"],[0.6666666666666666,\"#ed7953\"],[0.7777777777777778,\"#fb9f3a\"],[0.8888888888888888,\"#fdca26\"],[1.0,\"#f0f921\"]],\"diverging\":[[0,\"#8e0152\"],[0.1,\"#c51b7d\"],[0.2,\"#de77ae\"],[0.3,\"#f1b6da\"],[0.4,\"#fde0ef\"],[0.5,\"#f7f7f7\"],[0.6,\"#e6f5d0\"],[0.7,\"#b8e186\"],[0.8,\"#7fbc41\"],[0.9,\"#4d9221\"],[1,\"#276419\"]]},\"xaxis\":{\"gridcolor\":\"white\",\"linecolor\":\"white\",\"ticks\":\"\",\"title\":{\"standoff\":15},\"zerolinecolor\":\"white\",\"automargin\":true,\"zerolinewidth\":2},\"yaxis\":{\"gridcolor\":\"white\",\"linecolor\":\"white\",\"ticks\":\"\",\"title\":{\"standoff\":15},\"zerolinecolor\":\"white\",\"automargin\":true,\"zerolinewidth\":2},\"scene\":{\"xaxis\":{\"backgroundcolor\":\"#E5ECF6\",\"gridcolor\":\"white\",\"linecolor\":\"white\",\"showbackground\":true,\"ticks\":\"\",\"zerolinecolor\":\"white\",\"gridwidth\":2},\"yaxis\":{\"backgroundcolor\":\"#E5ECF6\",\"gridcolor\":\"white\",\"linecolor\":\"white\",\"showbackground\":true,\"ticks\":\"\",\"zerolinecolor\":\"white\",\"gridwidth\":2},\"zaxis\":{\"backgroundcolor\":\"#E5ECF6\",\"gridcolor\":\"white\",\"linecolor\":\"white\",\"showbackground\":true,\"ticks\":\"\",\"zerolinecolor\":\"white\",\"gridwidth\":2}},\"shapedefaults\":{\"line\":{\"color\":\"#2a3f5f\"}},\"annotationdefaults\":{\"arrowcolor\":\"#2a3f5f\",\"arrowhead\":0,\"arrowwidth\":1},\"geo\":{\"bgcolor\":\"white\",\"landcolor\":\"#E5ECF6\",\"subunitcolor\":\"white\",\"showland\":true,\"showlakes\":true,\"lakecolor\":\"white\"},\"title\":{\"x\":0.05},\"mapbox\":{\"style\":\"light\"}}},\"xaxis\":{\"anchor\":\"y\",\"domain\":[0.0,0.18400000000000002],\"scaleanchor\":\"y\",\"constrain\":\"domain\",\"title\":{\"text\":\"Head\"},\"showline\":true,\"linewidth\":1,\"linecolor\":\"black\",\"mirror\":true},\"yaxis\":{\"anchor\":\"x\",\"domain\":[0.0,1.0],\"autorange\":\"reversed\",\"constrain\":\"domain\",\"title\":{\"text\":\"Layer\"},\"showline\":true,\"linewidth\":1,\"linecolor\":\"black\",\"mirror\":true},\"xaxis2\":{\"anchor\":\"y2\",\"domain\":[0.20400000000000001,0.388],\"matches\":\"x\",\"title\":{\"text\":\"Head\"},\"showline\":true,\"linewidth\":1,\"linecolor\":\"black\",\"mirror\":true},\"yaxis2\":{\"anchor\":\"x2\",\"domain\":[0.0,1.0],\"matches\":\"y\",\"showticklabels\":false,\"showline\":true,\"linewidth\":1,\"linecolor\":\"black\",\"mirror\":true},\"xaxis3\":{\"anchor\":\"y3\",\"domain\":[0.40800000000000003,0.5920000000000001],\"matches\":\"x\",\"title\":{\"text\":\"Head\"},\"showline\":true,\"linewidth\":1,\"linecolor\":\"black\",\"mirror\":true},\"yaxis3\":{\"anchor\":\"x3\",\"domain\":[0.0,1.0],\"matches\":\"y\",\"showticklabels\":false,\"showline\":true,\"linewidth\":1,\"linecolor\":\"black\",\"mirror\":true},\"xaxis4\":{\"anchor\":\"y4\",\"domain\":[0.6120000000000001,0.7960000000000002],\"matches\":\"x\",\"title\":{\"text\":\"Head\"},\"showline\":true,\"linewidth\":1,\"linecolor\":\"black\",\"mirror\":true},\"yaxis4\":{\"anchor\":\"x4\",\"domain\":[0.0,1.0],\"matches\":\"y\",\"showticklabels\":false,\"showline\":true,\"linewidth\":1,\"linecolor\":\"black\",\"mirror\":true},\"xaxis5\":{\"anchor\":\"y5\",\"domain\":[0.8160000000000001,1.0],\"matches\":\"x\",\"title\":{\"text\":\"Head\"},\"showline\":true,\"linewidth\":1,\"linecolor\":\"black\",\"mirror\":true},\"yaxis5\":{\"anchor\":\"x5\",\"domain\":[0.0,1.0],\"matches\":\"y\",\"showticklabels\":false,\"showline\":true,\"linewidth\":1,\"linecolor\":\"black\",\"mirror\":true},\"annotations\":[{\"font\":{},\"showarrow\":false,\"text\":\"Output\",\"x\":0.09200000000000001,\"xanchor\":\"center\",\"xref\":\"paper\",\"y\":1.0,\"yanchor\":\"bottom\",\"yref\":\"paper\"},{\"font\":{},\"showarrow\":false,\"text\":\"Query\",\"x\":0.29600000000000004,\"xanchor\":\"center\",\"xref\":\"paper\",\"y\":1.0,\"yanchor\":\"bottom\",\"yref\":\"paper\"},{\"font\":{},\"showarrow\":false,\"text\":\"Key\",\"x\":0.5,\"xanchor\":\"center\",\"xref\":\"paper\",\"y\":1.0,\"yanchor\":\"bottom\",\"yref\":\"paper\"},{\"font\":{},\"showarrow\":false,\"text\":\"Value\",\"x\":0.7040000000000002,\"xanchor\":\"center\",\"xref\":\"paper\",\"y\":1.0,\"yanchor\":\"bottom\",\"yref\":\"paper\"},{\"font\":{},\"showarrow\":false,\"text\":\"Pattern\",\"x\":0.908,\"xanchor\":\"center\",\"xref\":\"paper\",\"y\":1.0,\"yanchor\":\"bottom\",\"yref\":\"paper\"}],\"coloraxis\":{\"colorbar\":{\"title\":{\"text\":\"Logit diff variation\"},\"ticksuffix\":\"%\"},\"colorscale\":[[0.0,\"rgb(103,0,31)\"],[0.1,\"rgb(178,24,43)\"],[0.2,\"rgb(214,96,77)\"],[0.3,\"rgb(244,165,130)\"],[0.4,\"rgb(253,219,199)\"],[0.5,\"rgb(247,247,247)\"],[0.6,\"rgb(209,229,240)\"],[0.7,\"rgb(146,197,222)\"],[0.8,\"rgb(67,147,195)\"],[0.9,\"rgb(33,102,172)\"],[1.0,\"rgb(5,48,97)\"]],\"cmid\":0.0},\"title\":{\"text\":\"Patching output of attention heads (corrupted -\\u003e clean)\"},\"width\":1500,\"margin\":{\"r\":100,\"l\":100}},                        {\"responsive\": true}                    ).then(function(){\n",
       "                            \n",
       "var gd = document.getElementById('cd1651bc-9510-417b-845c-8d61321471d1');\n",
       "var x = new MutationObserver(function (mutations, observer) {{\n",
       "        var display = window.getComputedStyle(gd).display;\n",
       "        if (!display || display === 'none') {{\n",
       "            console.log([gd, 'removed!']);\n",
       "            Plotly.purge(gd);\n",
       "            observer.disconnect();\n",
       "        }}\n",
       "}});\n",
       "\n",
       "// Listen for the removal of the full notebook cells\n",
       "var notebookContainer = gd.closest('#notebook-container');\n",
       "if (notebookContainer) {{\n",
       "    x.observe(notebookContainer, {childList: true});\n",
       "}}\n",
       "\n",
       "// Listen for the clearing of the current output cell\n",
       "var outputEl = gd.closest('.output');\n",
       "if (outputEl) {{\n",
       "    x.observe(outputEl, {childList: true});\n",
       "}}\n",
       "\n",
       "                        })                };                });            </script>        </div>"
      ]
     },
     "metadata": {},
     "output_type": "display_data"
    }
   ],
   "source": [
    "assert results.keys() == {\"z\", \"q\", \"k\", \"v\", \"pattern\"}\n",
    "#assert all([r.shape == (12, 12) for r in results.values()])\n",
    "\n",
    "imshow_p(\n",
    "    torch.stack(tuple(results.values())) * 100,\n",
    "    facet_col=0,\n",
    "    facet_labels=[\"Output\", \"Query\", \"Key\", \"Value\", \"Pattern\"],\n",
    "    title=\"Patching output of attention heads (corrupted -> clean)\",\n",
    "    labels={\"x\": \"Head\", \"y\": \"Layer\", \"color\": \"Logit diff variation\"},\n",
    "    coloraxis=dict(colorbar_ticksuffix = \"%\"),\n",
    "    border=True,\n",
    "    width=1500,\n",
    "    margin={\"r\": 100, \"l\": 100}\n",
    ")"
   ]
  },
  {
   "attachments": {},
   "cell_type": "markdown",
   "id": "064ad5fd",
   "metadata": {},
   "source": [
    "#### Residual Stream & Layer Outputs"
   ]
  },
  {
   "cell_type": "code",
   "execution_count": null,
   "id": "0ded51a9",
   "metadata": {},
   "outputs": [],
   "source": [
    "# patching at each (layer, sequence position) for each of (resid_pre, attn_out, mlp_out) in turn\n",
    "\n",
    "results = act_patch(\n",
    "    model=model,\n",
    "    orig_input=corrupted_tokens,\n",
    "    new_cache=clean_cache,\n",
    "    patching_nodes=IterNode([\"resid_pre\", \"attn_out\", \"mlp_out\"], seq_pos=\"each\"),\n",
    "    patching_metric=logit_diff_denoising,\n",
    "    verbose=True,\n",
    ")"
   ]
  },
  {
   "cell_type": "code",
   "execution_count": null,
   "id": "1eed04bd",
   "metadata": {},
   "outputs": [],
   "source": [
    "assert results.keys() == {\"resid_pre\", \"attn_out\", \"mlp_out\"}\n",
    "labels = [f\"{tok} {i}\" for i, tok in enumerate(model.to_str_tokens(clean_tokens[0]))]\n",
    "imshow_p(\n",
    "    torch.stack([r.T for r in results.values()]) * 100, # we transpose so layer is on the y-axis\n",
    "    facet_col=0,\n",
    "    facet_labels=[\"resid_pre\", \"attn_out\", \"mlp_out\"],\n",
    "    title=\"Patching at resid stream & layer outputs (corrupted -> clean)\",\n",
    "    labels={\"x\": \"Sequence position\", \"y\": \"Layer\", \"color\": \"Logit diff variation\"},\n",
    "    x=labels,\n",
    "    xaxis_tickangle=45,\n",
    "    coloraxis=dict(colorbar_ticksuffix = \"%\"),\n",
    "    border=True,\n",
    "    width=1300,\n",
    "    zmin=-50,\n",
    "    zmax=50,\n",
    "    margin={\"r\": 100, \"l\": 100}\n",
    ")"
   ]
  },
  {
   "attachments": {},
   "cell_type": "markdown",
   "id": "ec0e9a2e",
   "metadata": {},
   "source": [
    "### Circuit Analysis With Patch Patching & Attn Visualization"
   ]
  },
  {
   "attachments": {},
   "cell_type": "markdown",
   "id": "0989b683",
   "metadata": {},
   "source": [
    "#### Heads Influencing Logit Diff"
   ]
  },
  {
   "attachments": {},
   "cell_type": "markdown",
   "id": "c56e2e4a",
   "metadata": {},
   "source": []
  },
  {
   "cell_type": "code",
   "execution_count": null,
   "id": "981e810c",
   "metadata": {},
   "outputs": [],
   "source": [
    "results = path_patch(\n",
    "    model,\n",
    "    orig_input=clean_tokens,\n",
    "    new_input=corrupted_tokens,\n",
    "    sender_nodes=IterNode('z'), # This means iterate over all heads in all layers\n",
    "    receiver_nodes=Node('resid_post', 23), # This is resid_post at layer 11\n",
    "    patching_metric=logit_diff_noising,\n",
    "    verbose=True\n",
    ")"
   ]
  },
  {
   "cell_type": "code",
   "execution_count": null,
   "id": "0a6e8a38",
   "metadata": {},
   "outputs": [],
   "source": [
    "imshow_p(\n",
    "    results['z'],\n",
    "    title=\"Direct effect on logit diff (patch from head output -> final resid)\",\n",
    "    labels={\"x\": \"Head\", \"y\": \"Layer\", \"color\": \"Logit diff variation\"},\n",
    "    border=True,\n",
    "    width=600,\n",
    "    margin={\"r\": 100, \"l\": 100}\n",
    ")"
   ]
  },
  {
   "cell_type": "code",
   "execution_count": null,
   "id": "646f583a",
   "metadata": {},
   "outputs": [],
   "source": [
    "from visualization_utils import (\n",
    "    plot_attention_heads,\n",
    "    scatter_attention_and_contribution\n",
    ")\n",
    "\n",
    "import circuitsvis as cv"
   ]
  },
  {
   "cell_type": "code",
   "execution_count": null,
   "id": "9e6b1dfe",
   "metadata": {},
   "outputs": [],
   "source": [
    "plot_attention_heads(-results['z'].cuda(), top_n=15, range_x=[0, 0.5])"
   ]
  },
  {
   "cell_type": "code",
   "execution_count": null,
   "id": "9781bdf4",
   "metadata": {},
   "outputs": [],
   "source": [
    "from visualization_utils import get_attn_head_patterns\n",
    "\n",
    "top_k = 4\n",
    "top_heads = torch.topk(-results['z'].flatten(), k=top_k).indices.cpu().numpy()\n",
    "heads = [(head // model.cfg.n_heads, head % model.cfg.n_heads) for head in top_heads]\n",
    "tokens, attn, names = get_attn_head_patterns(model, all_prompts[21], heads)\n",
    "cv.attention.attention_heads(tokens=tokens, attention=attn, attention_head_names=names)"
   ]
  },
  {
   "cell_type": "code",
   "execution_count": null,
   "id": "199eb024",
   "metadata": {
    "lines_to_next_cell": 2
   },
   "outputs": [],
   "source": [
    "from visualization_utils import scatter_attention_and_contribution_sentiment\n",
    "\n",
    "from plotly.subplots import make_subplots\n",
    "\n",
    "# Get the figures\n",
    "fig1 = scatter_attention_and_contribution_sentiment(model, (10, 11), all_prompts, [22 for _ in range(len(all_prompts))], answer_residual_directions, return_fig=True)\n",
    "fig2 = scatter_attention_and_contribution_sentiment(model, (13, 8), all_prompts, [22 for _ in range(len(all_prompts))], answer_residual_directions, return_fig=True)\n",
    "fig3 = scatter_attention_and_contribution_sentiment(model, (16, 10), all_prompts, [22 for _ in range(len(all_prompts))], answer_residual_directions, return_fig=True)\n",
    "fig4 = scatter_attention_and_contribution_sentiment(model, (18, 0), all_prompts, [22 for _ in range(len(all_prompts))], answer_residual_directions, return_fig=True)\n",
    "\n",
    "# Create subplot\n",
    "fig = make_subplots(rows=2, cols=2, subplot_titles=(\"Head 10.11\", \"Head 13.8\", \"Head 16.10\", \"Head 18.0\"))\n",
    "\n",
    "# Add each figure's data to the subplot\n",
    "for i, subplot_fig in enumerate([fig1, fig2, fig3, fig4], start=1):\n",
    "    row = (i-1)//2 + 1\n",
    "    col = (i-1)%2 + 1\n",
    "    for trace in subplot_fig['data']:\n",
    "        # Only show legend for the first subplot\n",
    "        trace.showlegend = (i == 1)\n",
    "        fig.add_trace(trace, row=row, col=col)\n",
    "\n",
    "# Update layout\n",
    "fig.update_layout(height=600, title_text=\"DAE Heads\")\n",
    "\n",
    "# Update axes labels\n",
    "for i in range(1, 3):\n",
    "    for j in range(1, 3):\n",
    "        fig.update_xaxes(title_text=\"Attn Prob on Word\", row=i, col=j)\n",
    "        fig.update_yaxes(title_text=\"Dot w Sentiment Output Embed\", row=i, col=j)\n",
    "\n",
    "fig.show()"
   ]
  },
  {
   "attachments": {},
   "cell_type": "markdown",
   "id": "13983bfc",
   "metadata": {},
   "source": [
    "#### Direct Attribute Extraction Heads"
   ]
  },
  {
   "attachments": {},
   "cell_type": "markdown",
   "id": "cf16f688",
   "metadata": {},
   "source": [
    "##### Overall"
   ]
  },
  {
   "cell_type": "code",
   "execution_count": null,
   "id": "203ee302",
   "metadata": {},
   "outputs": [],
   "source": [
    "DAE_HEADS = [(7, 1), (10, 1), (10, 4), (11, 9)]\n",
    "\n",
    "results = path_patch(\n",
    "    model,\n",
    "    orig_input=clean_tokens,\n",
    "    new_input=corrupted_tokens,\n",
    "    sender_nodes=IterNode(\"z\"),\n",
    "    receiver_nodes=[Node(\"v\", layer, head=head) for layer, head in DAE_HEADS],\n",
    "    patching_metric=logit_diff_noising,\n",
    "    verbose=True,\n",
    ")"
   ]
  },
  {
   "cell_type": "code",
   "execution_count": null,
   "id": "248b358a",
   "metadata": {},
   "outputs": [],
   "source": [
    "imshow_p(\n",
    "        results[\"z\"][:10] * 100,\n",
    "        title=f\"Direct effect on Sentiment Attenders' values)\",\n",
    "        labels={\"x\": \"Head\", \"y\": \"Layer\", \"color\": \"Logit diff variation\"},\n",
    "        coloraxis=dict(colorbar_ticksuffix = \"%\"),\n",
    "        border=True,\n",
    "        width=700,\n",
    "        margin={\"r\": 100, \"l\": 100}\n",
    "    )"
   ]
  },
  {
   "attachments": {},
   "cell_type": "markdown",
   "id": "7f30e0d5",
   "metadata": {},
   "source": [
    "##### Key Positions"
   ]
  },
  {
   "cell_type": "code",
   "execution_count": null,
   "id": "9826f4ed",
   "metadata": {},
   "outputs": [],
   "source": [
    "results = path_patch(\n",
    "    model,\n",
    "    orig_input=clean_tokens,\n",
    "    new_input=corrupted_tokens,\n",
    "    sender_nodes=IterNode(\"z\", seq_pos=\"each\"),\n",
    "    receiver_nodes=[Node(\"v\", layer, head=head) for layer, head in DAE_HEADS],\n",
    "    patching_metric=logit_diff_noising,\n",
    "    verbose=True,\n",
    ")"
   ]
  },
  {
   "cell_type": "code",
   "execution_count": null,
   "id": "d4085915",
   "metadata": {},
   "outputs": [],
   "source": [
    "for i in range(10, results[\"z\"].shape[0]):\n",
    "    imshow_p(\n",
    "        results[\"z\"][i][:10] * 100,\n",
    "        title=f\"Direct effect on Sentiment Attenders' values from position {i} ({tokens[i]})\",\n",
    "        labels={\"x\": \"Head\", \"y\": \"Layer\", \"color\": \"Logit diff variation\"},\n",
    "        coloraxis=dict(colorbar_ticksuffix = \"%\"),\n",
    "        border=True,\n",
    "        width=700,\n",
    "        margin={\"r\": 100, \"l\": 100}\n",
    "    )"
   ]
  },
  {
   "cell_type": "code",
   "execution_count": null,
   "id": "a8b686ef",
   "metadata": {},
   "outputs": [],
   "source": [
    "plot_attention_heads(-results['z'].cuda(), top_n=15, range_x=[0, 0.1])"
   ]
  },
  {
   "cell_type": "code",
   "execution_count": null,
   "id": "6e496ac2",
   "metadata": {},
   "outputs": [],
   "source": [
    "top_k = 4\n",
    "top_heads = torch.topk(-results['z'].flatten(), k=top_k).indices.cpu().numpy()\n",
    "heads = [(head // model.cfg.n_heads, head % model.cfg.n_heads) for head in top_heads]\n",
    "tokens, attn, names = get_attn_head_patterns(model, all_prompts[0], heads)\n",
    "cv.attention.attention_heads(tokens=tokens, attention=attn, attention_head_names=names)"
   ]
  },
  {
   "attachments": {},
   "cell_type": "markdown",
   "id": "c5a7a317",
   "metadata": {},
   "source": [
    "#### Intermediate Attribute Extraction Heads"
   ]
  },
  {
   "attachments": {},
   "cell_type": "markdown",
   "id": "b02a2634",
   "metadata": {},
   "source": [
    "##### Overall"
   ]
  },
  {
   "cell_type": "code",
   "execution_count": null,
   "id": "843ddc8f",
   "metadata": {},
   "outputs": [],
   "source": [
    "IAE_HEADS = [(8, 5), (9, 2), (9, 10)]\n",
    "\n",
    "results = path_patch(\n",
    "    model,\n",
    "    orig_input=clean_tokens,\n",
    "    new_input=corrupted_tokens,\n",
    "    sender_nodes=IterNode(\"z\", seq_pos=17),\n",
    "    receiver_nodes=[Node(\"v\", layer, head=head) for layer, head in IAE_HEADS],\n",
    "    patching_metric=logit_diff_noising,\n",
    "    verbose=True,\n",
    ")"
   ]
  },
  {
   "cell_type": "code",
   "execution_count": null,
   "id": "248164db",
   "metadata": {},
   "outputs": [],
   "source": [
    "imshow_p(\n",
    "        results[\"z\"][:10] * 100,\n",
    "        title=f\"Direct effect on Intermediate AE Heads' values\",\n",
    "        labels={\"x\": \"Head\", \"y\": \"Layer\", \"color\": \"Logit diff variation\"},\n",
    "        coloraxis=dict(colorbar_ticksuffix = \"%\"),\n",
    "        border=True,\n",
    "        width=700,\n",
    "        margin={\"r\": 100, \"l\": 100}\n",
    "    )"
   ]
  },
  {
   "attachments": {},
   "cell_type": "markdown",
   "id": "4926d84f",
   "metadata": {},
   "source": [
    "##### By Position"
   ]
  },
  {
   "cell_type": "code",
   "execution_count": null,
   "id": "24b8be97",
   "metadata": {},
   "outputs": [],
   "source": [
    "results = path_patch(\n",
    "    model,\n",
    "    orig_input=clean_tokens,\n",
    "    new_input=corrupted_tokens,\n",
    "    sender_nodes=IterNode(\"z\", seq_pos=\"each\"),\n",
    "    receiver_nodes=[Node(\"v\", layer, head=head) for layer, head in IAE_HEADS],\n",
    "    patching_metric=logit_diff_noising,\n",
    "    verbose=True,\n",
    ")"
   ]
  },
  {
   "cell_type": "code",
   "execution_count": null,
   "id": "748aa3cb",
   "metadata": {},
   "outputs": [],
   "source": [
    "for i in range(17, results[\"z\"].shape[0]):\n",
    "    imshow_p(\n",
    "        results[\"z\"][i][:10] * 100,\n",
    "        title=f\"Direct effect on Intermediate AE Heads' values from position {i} ({tokens[i]})\",\n",
    "        labels={\"x\": \"Head\", \"y\": \"Layer\", \"color\": \"Logit diff variation\"},\n",
    "        coloraxis=dict(colorbar_ticksuffix = \"%\"),\n",
    "        border=True,\n",
    "        width=700,\n",
    "        margin={\"r\": 100, \"l\": 100}\n",
    "    )"
   ]
  },
  {
   "cell_type": "code",
   "execution_count": null,
   "id": "e7ed30e0",
   "metadata": {},
   "outputs": [],
   "source": []
  },
  {
   "attachments": {},
   "cell_type": "markdown",
   "id": "f1123e20",
   "metadata": {},
   "source": [
    "#### Various Attention Patterns"
   ]
  },
  {
   "cell_type": "code",
   "execution_count": null,
   "id": "f43b2e6b",
   "metadata": {},
   "outputs": [],
   "source": [
    "heads = [(0, 4), (3, 11), (5, 7), (6, 4), (6, 7), (6,11), (7, 1), (7, 5), (8, 4), (8, 5), (9, 2), (9, 10), (10, 1), (10, 4), (11, 9)]\n",
    "#heads = [(6, 4),(7, 1),(7,5)]\n",
    "attn_list = []\n",
    "for i in range(len(all_prompts)):\n",
    "    tokens, attn, names = get_attn_head_patterns(model, all_prompts[i], heads)\n",
    "    attn_list.append(attn)\n",
    "tokens, _, names = get_attn_head_patterns(model, all_prompts[0], heads)\n",
    "attn = torch.stack(attn_list, dim=0).mean(dim=0)\n",
    "cv.attention.attention_heads(tokens=tokens, attention=attn, attention_head_names=names)"
   ]
  },
  {
   "cell_type": "code",
   "execution_count": null,
   "id": "1334f84b",
   "metadata": {},
   "outputs": [],
   "source": []
  }
 ],
 "metadata": {
  "jupytext": {
   "custom_cell_magics": "kql"
  },
  "kernelspec": {
   "display_name": "Python 3 (ipykernel)",
   "language": "python",
   "name": "python3"
  }
 },
 "nbformat": 4,
 "nbformat_minor": 5
}
